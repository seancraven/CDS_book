{
 "cells": [
  {
   "cell_type": "markdown",
   "metadata": {},
   "source": [
    "# Predictive Modeling \n",
    "One of the key uses of data recorded in the past is to attempt to make inferences about the future. "
   ]
  },
  {
   "cell_type": "code",
   "execution_count": 1,
   "metadata": {},
   "outputs": [],
   "source": [
    "import pandas as pd\n",
    "import scipy.optimize\n",
    "import numpy as np\n",
    "import matplotlib.pyplot as plt\n",
    "import pandas as pd\n",
    "from dur_utils import colours\n",
    "from scipy import stats\n",
    "\n",
    "path_ml =  'https://gml.noaa.gov/webdata/ccgg/trends/co2/co2_mm_mlo.csv'              \n",
    "co2_data_ml = pd.read_csv(path_ml, header=0, comment='#')\n",
    "co2_data_ml = co2_data_ml[co2_data_ml['sdev']>0] "
   ]
  },
  {
   "cell_type": "code",
   "execution_count": 2,
   "metadata": {},
   "outputs": [],
   "source": [
    "# Training Set\n",
    "mask = np.where(co2_data_ml['year'] < 2018)\n",
    "train_co2_data = co2_data_ml.iloc[mask]\n",
    "# Validation Set\n",
    "val_years = [i for i in range(2018, 2020)]\n",
    "mask = np.isin(co2_data_ml['year'], val_years)\n",
    "val_co2_data = co2_data_ml.iloc[mask]\n",
    "# Test Set\n",
    "test_years = [i for i in range(2020, 2022)]\n",
    "mask = np.isin(co2_data_ml['year'], test_years)\n",
    "test_co2_data = co2_data_ml.iloc[mask]"
   ]
  },
  {
   "cell_type": "code",
   "execution_count": 3,
   "metadata": {},
   "outputs": [],
   "source": [
    "\n",
    "def model(x, a_0, a_1, omega_0, omega_1, c, p_1,p_2,p_3):\n",
    "    polynomial = x*p_1 + x**2*p_2 +x**3*p_3\n",
    "    trig = a_0*np.cos((x + 1/2)*2*np.pi*omega_0) \\\n",
    "        + a_1*np.cos((x + 1/2)*2*np.pi*omega_1)\n",
    "    return c + trig + polynomial\n",
    "\n",
    "model_fit, model_error = scipy.optimize.curve_fit(model,\n",
    "    co2_data_ml['decimal date'],\n",
    "    co2_data_ml['average'],\n",
    "    sigma = co2_data_ml['sdev'],\n",
    "    p0=[5,5,1,2,0,0,0,0] # Inital Parameter Guess\n",
    "    )\n",
    "#chisq\n",
    "model_ml = model(co2_data_ml['decimal date'], *model_fit)\n",
    "model_residuals = model_ml - co2_data_ml['average']\n",
    "chisq_model = np.sum((model_residuals\n",
    "    / co2_data_ml['sdev'])**2\n",
    "    )\n",
    "nu_model = co2_data_ml['average'].shape[0] - len(model_fit)\n",
    "p_model = stats.chi2.sf(chisq_model,nu_model)\n",
    "chi_crit = stats.chi2.isf(.05,nu_model)\n"
   ]
  },
  {
   "cell_type": "markdown",
   "metadata": {},
   "source": [
    "```{sidebar} Classes\n",
    "Classes are the staple of Object oriented programming(OOP). They are something you can call which has methods, these are functions of the object and they have attributes which are stored inside them. A good example of a class is a list. It has multiple functions like `__len__()` which returns the instance of the classes length. Where the instance is the specific class a list of `[1, 2, 3]` for example. The atributes of the list are its values. When implementing a class it is considered good practice to only have users interact with methods. \n",
    "```"
   ]
  },
  {
   "cell_type": "code",
   "execution_count": 4,
   "metadata": {},
   "outputs": [],
   "source": [
    "class FittedModel:\n",
    "    def __init__(self, fn, x, y, sigma = None, p0 = None, name = None):\n",
    "        self.fn  = fn\n",
    "        self.x = x\n",
    "        self.y = y\n",
    "        self.sigma = sigma\n",
    "        self.p0 = p0\n",
    "        self.name = name\n",
    "        self.fit_coefs , self.fit_errs = self.get_fit()\n",
    "    \n",
    "    def get_fit(self) :\n",
    "        '''Applies scipy.optimize.curve_fit() to the passed args.\n",
    "\n",
    "        returns fit_coefs array, correlation_array  \n",
    "        '''\n",
    "        model_fit, model_error = scipy.optimize.curve_fit(self.fn,\n",
    "            self.x,\n",
    "            self.y,\n",
    "            sigma=self.sigma,\n",
    "            p0=self.p0\n",
    "            )\n",
    "        return model_fit, model_error\n",
    "    \n",
    "    def fit_data(self):\n",
    "        '''Returns the fitted function evaluated on x'''\n",
    "        return self.fn(self.x, *self.fit_coefs)\n",
    "    \n",
    "    def get_chi2(self):\n",
    "        '''Returns the chi^2 value of the model'''\n",
    "        fit = self.fit_data()\n",
    "        residuals = fit - self.y\n",
    "        if self.sigma is not None:\n",
    "            chi2 = np.sum((residuals / self.sigma)**2)\n",
    "        else:\n",
    "            print('No Uncertanity, Using Expectation')\n",
    "            print('Expectation of the values is: E(residuals)') \n",
    "            chi2 = np.sum((residuals / np.mean(residuals))**2)\n",
    "        return chi2\n",
    "\n",
    "    def get_nu(self):\n",
    "        '''Returns the degrees of freedom of the model'''\n",
    "        return len(self.x) - len(self.fit_coefs)\n",
    "    \n",
    "    def get_sf(self):\n",
    "        '''Returns P(chi^2 > chi^2_min)'''\n",
    "        chi_min = self.get_chi2()\n",
    "        nu = self.get_nu()\n",
    "        return scipy.stats.chi2.sf(chi_min, nu)\n",
    "    def print_errors(self):\n",
    "        diagonal = np.diagonal(self.fit_errs)\n",
    "        for i, (value, error) in enumerate(zip(self.fit_coefs,diagonal)):\n",
    "            print(f'Parameter {i + 1} = {value:.2} +_ {error:.1}')\n",
    "        \n",
    "        "
   ]
  },
  {
   "cell_type": "code",
   "execution_count": 5,
   "metadata": {},
   "outputs": [],
   "source": [
    "train  = FittedModel(model,\n",
    "    train_co2_data['decimal date'],\n",
    "    train_co2_data['average'],\n",
    "    sigma=train_co2_data['sdev'],\n",
    "    p0=[5,5,1,2,0,0,0,0],\n",
    "    name = 'Training Model'\n",
    "    )\n",
    "test  = FittedModel(model,\n",
    "    test_co2_data['decimal date'],\n",
    "    test_co2_data['average'],\n",
    "    sigma=test_co2_data['sdev'],\n",
    "    p0=[5,5,1,2,0,0,0,0],\n",
    "    name = 'Test Model'\n",
    "    )\n",
    "val  = FittedModel(model,\n",
    "    val_co2_data['decimal date'],\n",
    "    val_co2_data['average'],\n",
    "    sigma=val_co2_data['sdev'],\n",
    "    p0=[5,5,1,2,0,0,0,0],\n",
    "    name = 'Validation Model'\n",
    "    )"
   ]
  },
  {
   "cell_type": "code",
   "execution_count": 6,
   "metadata": {},
   "outputs": [
    {
     "name": "stdout",
     "output_type": "stream",
     "text": [
      "Training Model\n",
      "chi^2 = 1131.758263016564\n",
      "P(chi^2 > chi^2_min) = 1.845316008940775e-48\n",
      "/n\n",
      "Validation Model\n",
      "chi^2 = 5.081359824572485\n",
      "P(chi^2 > chi^2_min) = 0.9953338786491481\n",
      "/n\n",
      "Test Model\n",
      "chi^2 = 4.323603239880887\n",
      "P(chi^2 > chi^2_min) = 0.9982233493809096\n",
      "/n\n"
     ]
    }
   ],
   "source": [
    "for model_ in [train, val, test]:\n",
    "    print(model_.name)\n",
    "    print(f'chi^2 = {model_.get_chi2()}')\n",
    "    print(f'P(chi^2 > chi^2_min) = {model_.get_sf()}')\n",
    "    print('/n')"
   ]
  },
  {
   "cell_type": "code",
   "execution_count": 7,
   "metadata": {},
   "outputs": [
    {
     "data": {
      "image/png": "[encoded data removed]",
      "text/plain": [
       "<Figure size 432x288 with 3 Axes>"
      ]
     },
     "metadata": {
      "filenames": {
       "image/png": "/home/sean/dur_rads_book/_build/jupyter_execute/Chapter 2/predictive_models_8_0.png"
      },
      "needs_background": "light"
     },
     "output_type": "display_data"
    }
   ],
   "source": [
    "fig, ax  = plt.subplots(3,1)\n",
    "for i, model_ in enumerate([train, val, test]):\n",
    "    ax[i].plot(model_.x, model_.fit_data())\n",
    "    ax[i].errorbar(model_.x, model_.y, model_.sigma)"
   ]
  },
  {
   "cell_type": "code",
   "execution_count": null,
   "metadata": {},
   "outputs": [],
   "source": []
  }
 ],
 "metadata": {
  "kernelspec": {
   "display_name": "Python 3.8.8 ('CDS_book')",
   "language": "python",
   "name": "python3"
  },
  "language_info": {
   "codemirror_mode": {
    "name": "ipython",
    "version": 3
   },
   "file_extension": ".py",
   "mimetype": "text/x-python",
   "name": "python",
   "nbconvert_exporter": "python",
   "pygments_lexer": "ipython3",
   "version": "3.8.8"
  },
  "vscode": {
   "interpreter": {
    "hash": "a46088b7c0406c06689d7e07885ac5c738a91551ff07af49abda945581724aff"
   }
  }
 },
 "nbformat": 4,
 "nbformat_minor": 2
}