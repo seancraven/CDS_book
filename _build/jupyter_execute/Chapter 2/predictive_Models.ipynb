{
 "cells": [
  {
   "cell_type": "markdown",
   "metadata": {},
   "source": [
    "# Predictive Modeling \n",
    "One of the key uses of data recorded in the past is to attempt to make inferences about the future. "
   ]
  },
  {
   "cell_type": "code",
   "execution_count": 1,
   "metadata": {},
   "outputs": [],
   "source": [
    "import pandas as pd\n",
    "import scipy.optimize\n",
    "import numpy as np\n",
    "import matplotlib.pyplot as plt\n",
    "import pandas as pd\n",
    "from dur_utils import colours\n",
    "from scipy import stats\n",
    "\n",
    "path_ml =  'https://gml.noaa.gov/webdata/ccgg/trends/co2/co2_mm_mlo.csv'              \n",
    "co2_data_ml = pd.read_csv(path_ml, header=0, comment='#')\n",
    "co2_data_ml = co2_data_ml[co2_data_ml['sdev']>0] "
   ]
  },
  {
   "cell_type": "code",
   "execution_count": 2,
   "metadata": {},
   "outputs": [],
   "source": [
    "# Training Set\n",
    "mask = np.where(co2_data_ml['year'].any() < 2018)\n",
    "train_co2_data = co2_data_ml.iloc[mask]\n",
    "# Validation Set\n",
    "val_years = [i for i in range(2018, 2020)]\n",
    "mask = np.isin(co2_data_ml['year'], val_years)\n",
    "val_co2_data = co2_data_ml.iloc[mask]\n",
    "# Test Set\n",
    "test_years = [i for i in range(2020, 2022)]\n",
    "mask = np.isin(co2_data_ml['year'], test_years)\n",
    "test_co2_data = co2_data_ml.iloc[mask]"
   ]
  },
  {
   "cell_type": "code",
   "execution_count": 3,
   "metadata": {},
   "outputs": [],
   "source": [
    "\n",
    "def model(x, a_0, a_1, omega_0, omega_1, c, p_1,p_2,p_3):\n",
    "    polynomial = x*p_1 + x**2*p_2 +x**3*p_3\n",
    "    trig = a_0*np.cos((x + 1/2)*2*np.pi*omega_0) \\\n",
    "        + a_1*np.cos((x + 1/2)*2*np.pi*omega_1)\n",
    "    return c + trig + polynomial\n",
    "\n",
    "model_fit, model_error = scipy.optimize.curve_fit(model,\n",
    "    co2_data_ml['decimal date'],\n",
    "    co2_data_ml['average'],\n",
    "    sigma = co2_data_ml['sdev'],\n",
    "    p0=[5,5,1,2,0,0,0,0] # Inital Parameter Guess\n",
    "    )\n",
    "#chisq\n",
    "model_ml = model(co2_data_ml['decimal date'], *model_fit)\n",
    "model_residuals = model_ml - co2_data_ml['average']\n",
    "chisq_model = np.sum((model_residuals\n",
    "    / co2_data_ml['sdev'])**2\n",
    "    )\n",
    "nu_model = co2_data_ml['average'].shape[0] - len(model_fit)\n",
    "p_model = stats.chi2.sf(chisq_model,nu_model)\n",
    "chi_crit = stats.chi2.isf(.05,nu_model)\n"
   ]
  },
  {
   "cell_type": "markdown",
   "metadata": {},
   "source": [
    "```{sidebar} Classes\n",
    "Classes are the staple of Object oriented programming(OOP). They are something you can call which has methods, these are functions of the object and they have attributes which are stored inside them. A good example of a class is a list. It has multiple functions like `__len__()` which returns the instance of the classes length. Where the instance is the specific class a list of `[1, 2, 3]` for example. The atributes of the list are its values. When implementing a class it is considered good practice to only have users interact with methods. \n",
    "```"
   ]
  },
  {
   "cell_type": "code",
   "execution_count": 4,
   "metadata": {},
   "outputs": [],
   "source": [
    "class FittedModel:\n",
    "    def __init__(self, fn, x, y, sigma = None, p0 = None):\n",
    "        self.fn  = fn\n",
    "        self.x = x\n",
    "        self.y = y\n",
    "        self.sigma = sigma\n",
    "        self.p0 = p0\n",
    "        self.fit_coefs , self.fit_errs = self.get_fit()\n",
    "    \n",
    "    def get_fit(self) :\n",
    "        '''Applies scipy.optimize.curve_fit() to the passed args.\n",
    "\n",
    "        returns fit_coefs array, correlation_array  \n",
    "        '''\n",
    "        model_fit, model_error = scipy.optimize.curve_fit(self.fn,\n",
    "            self.x,\n",
    "            self.y,\n",
    "            sigma=self.sigma,\n",
    "            p0=self.p0\n",
    "            )\n",
    "        return model_fit, model_error\n",
    "    \n",
    "    def fit_data(self):\n",
    "        return self.fn(self.x, *self.fit_coefs)\n",
    "    def get_chi(self):\n",
    "        fit = self.fit_data()\n",
    "        residuals = fit-self.y\n",
    "        if self.sigma:\n",
    "            chi2 = np.sum((residuals/self.sigma)**2)\n",
    "        else:\n",
    "            raise \n",
    "\n"
   ]
  }
 ],
 "metadata": {
  "kernelspec": {
   "display_name": "Python 3.8.8 ('CDS_book')",
   "language": "python",
   "name": "python3"
  },
  "language_info": {
   "codemirror_mode": {
    "name": "ipython",
    "version": 3
   },
   "file_extension": ".py",
   "mimetype": "text/x-python",
   "name": "python",
   "nbconvert_exporter": "python",
   "pygments_lexer": "ipython3",
   "version": "3.8.8"
  },
  "vscode": {
   "interpreter": {
    "hash": "a46088b7c0406c06689d7e07885ac5c738a91551ff07af49abda945581724aff"
   }
  }
 },
 "nbformat": 4,
 "nbformat_minor": 2
}