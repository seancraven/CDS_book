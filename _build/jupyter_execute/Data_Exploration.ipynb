{
 "cells": [
  {
   "cell_type": "markdown",
   "metadata": {},
   "source": [
    "#  Data Exploration Global $ CO_2 $\n",
    "Aquiring reliable data, is the foundation for any analysis project. If your data is incomplete inaccurate, any analysis will draw poor conclusions. \n",
    "\n",
    "After aqusition data which has been well formatted into a csv, or similar easy to handle file, should be explored. "
   ]
  },
  {
   "cell_type": "code",
   "execution_count": 1,
   "metadata": {},
   "outputs": [],
   "source": [
    "from dur_utils import colours #Durham Utilities module that stores constants like colours, can be found on _githublink_\n",
    "import pandas as pd\n",
    "import numpy as np\n",
    "import matplotlib.pyplot as plt"
   ]
  },
  {
   "cell_type": "markdown",
   "metadata": {},
   "source": [
    "Handling imports is typically done at the top of the file. The best practice is to avoid having redundant imports in a file. Avoiding double imports and redundant imports reduces the possibility of incompatibility errors.\n",
    "The first section will collect data from the [NOAA/GML](https://gml.noaa.gov/ccgg/trends/gl_data.html){cite}`Tans1995,Conway1994`. There are multiple files on the website; [mean monthly csv](https://gml.noaa.gov/webdata/ccgg/trends/co2/co2_mm_gl.csv) was chosen. CSV or comma-separated variable files are a common way of storing tabular data. [Pandas](https://pandas.pydata.org/docs/reference/api/pandas.read_csv.html) and [Numpy](https://numpy.org/doc/stable/reference/generated/numpy.loadtxt.html) both have functions which read CSVs. Pandas is much faster. \n",
    "```\n",
    "pd.read_csv(file)\n",
    "```\n",
    "```\n",
    "np.loadtxt(file, delimiter = ',')\n",
    "```"
   ]
  },
  {
   "cell_type": "code",
   "execution_count": 2,
   "metadata": {},
   "outputs": [
    {
     "data": {
      "text/html": [
       "<div>\n",
       "<style scoped>\n",
       "    .dataframe tbody tr th:only-of-type {\n",
       "        vertical-align: middle;\n",
       "    }\n",
       "\n",
       "    .dataframe tbody tr th {\n",
       "        vertical-align: top;\n",
       "    }\n",
       "\n",
       "    .dataframe thead th {\n",
       "        text-align: right;\n",
       "    }\n",
       "</style>\n",
       "<table border=\"1\" class=\"dataframe\">\n",
       "  <thead>\n",
       "    <tr style=\"text-align: right;\">\n",
       "      <th></th>\n",
       "      <th>Number of Null Values</th>\n",
       "    </tr>\n",
       "  </thead>\n",
       "  <tbody>\n",
       "    <tr>\n",
       "      <th>year</th>\n",
       "      <td>0</td>\n",
       "    </tr>\n",
       "    <tr>\n",
       "      <th>month</th>\n",
       "      <td>0</td>\n",
       "    </tr>\n",
       "    <tr>\n",
       "      <th>decimal</th>\n",
       "      <td>0</td>\n",
       "    </tr>\n",
       "    <tr>\n",
       "      <th>average</th>\n",
       "      <td>0</td>\n",
       "    </tr>\n",
       "    <tr>\n",
       "      <th>trend</th>\n",
       "      <td>0</td>\n",
       "    </tr>\n",
       "  </tbody>\n",
       "</table>\n",
       "</div>"
      ],
      "text/plain": [
       "         Number of Null Values\n",
       "year                         0\n",
       "month                        0\n",
       "decimal                      0\n",
       "average                      0\n",
       "trend                        0"
      ]
     },
     "execution_count": 2,
     "metadata": {},
     "output_type": "execute_result"
    }
   ],
   "source": [
    "path_global = 'https://gml.noaa.gov/webdata/ccgg/trends/co2/co2_mm_gl.csv'\n",
    "co2_data_global = pd.read_csv(\n",
    "    path_global, header=0, comment='#'\n",
    "    )\n",
    "null_sum = (co2_data_global.isna()).values.sum(axis=0)\n",
    "pd.DataFrame(data=null_sum,\n",
    "    index=co2_data_global.columns,\n",
    "    columns=['Number of Null Values']\n",
    "    )"
   ]
  },
  {
   "cell_type": "markdown",
   "metadata": {},
   "source": [
    "Tabulating the number of null entries in each column provides a reference to column names and the number of missing entries. In this data, there are no Null fields.\n",
    "Notably, none of the columns has units in their headers apart from years and months. On inspection of the website, the average column is a pseudo-unit quantity in parts per million. \n",
    "\n",
    "If there were large counts of null entries, a decision on whether to use the current dataset should be made. The effect of missing data has entire fields of research dedicated to it. There are multiple different statistical methods available to repopulate your datasets. This, however, is beyond the remit of this text.  \n",
    "\n",
    "When Displaying the ``` co2_data_global``` dataframe up to the first five rows, it can be seen that the decimal column is given by: \n",
    "\\begin{equation}\n",
    "decimal = year + \\frac{month}{12}\n",
    "\\end{equation}\n",
    "This makes it straightforward to plot $CO_2$ average against time.  "
   ]
  },
  {
   "cell_type": "code",
   "execution_count": 3,
   "metadata": {},
   "outputs": [
    {
     "data": {
      "text/html": [
       "<div>\n",
       "<style scoped>\n",
       "    .dataframe tbody tr th:only-of-type {\n",
       "        vertical-align: middle;\n",
       "    }\n",
       "\n",
       "    .dataframe tbody tr th {\n",
       "        vertical-align: top;\n",
       "    }\n",
       "\n",
       "    .dataframe thead th {\n",
       "        text-align: right;\n",
       "    }\n",
       "</style>\n",
       "<table border=\"1\" class=\"dataframe\">\n",
       "  <thead>\n",
       "    <tr style=\"text-align: right;\">\n",
       "      <th></th>\n",
       "      <th>year</th>\n",
       "      <th>month</th>\n",
       "      <th>decimal</th>\n",
       "      <th>average</th>\n",
       "      <th>trend</th>\n",
       "    </tr>\n",
       "  </thead>\n",
       "  <tbody>\n",
       "    <tr>\n",
       "      <th>0</th>\n",
       "      <td>1980</td>\n",
       "      <td>1</td>\n",
       "      <td>1980.042</td>\n",
       "      <td>338.55</td>\n",
       "      <td>337.93</td>\n",
       "    </tr>\n",
       "    <tr>\n",
       "      <th>1</th>\n",
       "      <td>1980</td>\n",
       "      <td>2</td>\n",
       "      <td>1980.125</td>\n",
       "      <td>339.27</td>\n",
       "      <td>338.22</td>\n",
       "    </tr>\n",
       "    <tr>\n",
       "      <th>2</th>\n",
       "      <td>1980</td>\n",
       "      <td>3</td>\n",
       "      <td>1980.208</td>\n",
       "      <td>339.60</td>\n",
       "      <td>338.25</td>\n",
       "    </tr>\n",
       "    <tr>\n",
       "      <th>3</th>\n",
       "      <td>1980</td>\n",
       "      <td>4</td>\n",
       "      <td>1980.292</td>\n",
       "      <td>339.99</td>\n",
       "      <td>338.37</td>\n",
       "    </tr>\n",
       "    <tr>\n",
       "      <th>4</th>\n",
       "      <td>1980</td>\n",
       "      <td>5</td>\n",
       "      <td>1980.375</td>\n",
       "      <td>340.43</td>\n",
       "      <td>338.91</td>\n",
       "    </tr>\n",
       "  </tbody>\n",
       "</table>\n",
       "</div>"
      ],
      "text/plain": [
       "   year  month   decimal  average   trend\n",
       "0  1980      1  1980.042   338.55  337.93\n",
       "1  1980      2  1980.125   339.27  338.22\n",
       "2  1980      3  1980.208   339.60  338.25\n",
       "3  1980      4  1980.292   339.99  338.37\n",
       "4  1980      5  1980.375   340.43  338.91"
      ]
     },
     "execution_count": 3,
     "metadata": {},
     "output_type": "execute_result"
    }
   ],
   "source": [
    "co2_data_global.iloc[:5,:]"
   ]
  },
  {
   "cell_type": "markdown",
   "metadata": {},
   "source": [
    "By plotting the monthly average against time and the trendline provided shows a consistent increase in the average concentration of $CO_2$ in the atmosphere over the last 40 years. In addition, a cyclical pattern over a shorter timescale is also observed. Therefore, drawing conclusions from the data is possible. \n",
    "\n",
    "There is an additional data set from Mauna Loa {cite}`Tans1989`, which is worth comparing to global averages. Notably, these data sets are not expected to correspond precisely as $CO_2$ concentration is a function of altitude, latitude and longitude. \n",
    "\n",
    "In this case, we know that the surface average $CO_2$ is taken from multiple sea-level sites. Each site is part of the Cooperative Global Air Sampling Network{cite}`. These sites have been chosen to minimise the interference of local effects in the amount of atmospheric $CO_2$. \n",
    "\n",
    "There can be no hard and fast rule for how many data sources are required to make predictions. However, with more independent sets of data, confidence in the generality of predictions can increase. Further, both of these datasets come from peer-reviewed sources. Thus their methodology has been independantly certified.   \n",
    "\n",
    " "
   ]
  },
  {
   "cell_type": "code",
   "execution_count": 4,
   "metadata": {},
   "outputs": [
    {
     "data": {
      "image/png": "[encoded data removed]",
      "text/plain": [
       "<Figure size 432x288 with 1 Axes>"
      ]
     },
     "metadata": {
      "filenames": {
       "image/png": "/home/sean/dur_rads_book/_build/jupyter_execute/Data_Exploration_7_0.png"
      },
      "needs_background": "light"
     },
     "output_type": "display_data"
    }
   ],
   "source": [
    "plt.plot(co2_data_global['decimal'], co2_data_global['average'],\n",
    "        c=colours.durham.red, linestyle='',\n",
    "        marker='o', markersize = 1\n",
    "        )\n",
    "plt.plot(co2_data_global['decimal'], co2_data_global['trend'],\n",
    "        c=colours.durham.ink\n",
    "        )\n",
    "plt.ylabel('$CO_2$ (ppm)')\n",
    "plt.xlabel('Year')\n",
    "None"
   ]
  },
  {
   "cell_type": "code",
   "execution_count": 5,
   "metadata": {},
   "outputs": [
    {
     "data": {
      "text/html": [
       "<div>\n",
       "<style scoped>\n",
       "    .dataframe tbody tr th:only-of-type {\n",
       "        vertical-align: middle;\n",
       "    }\n",
       "\n",
       "    .dataframe tbody tr th {\n",
       "        vertical-align: top;\n",
       "    }\n",
       "\n",
       "    .dataframe thead th {\n",
       "        text-align: right;\n",
       "    }\n",
       "</style>\n",
       "<table border=\"1\" class=\"dataframe\">\n",
       "  <thead>\n",
       "    <tr style=\"text-align: right;\">\n",
       "      <th></th>\n",
       "      <th>Number of Null Values</th>\n",
       "    </tr>\n",
       "  </thead>\n",
       "  <tbody>\n",
       "    <tr>\n",
       "      <th>year</th>\n",
       "      <td>0</td>\n",
       "    </tr>\n",
       "    <tr>\n",
       "      <th>month</th>\n",
       "      <td>0</td>\n",
       "    </tr>\n",
       "    <tr>\n",
       "      <th>day</th>\n",
       "      <td>0</td>\n",
       "    </tr>\n",
       "    <tr>\n",
       "      <th>decimal</th>\n",
       "      <td>0</td>\n",
       "    </tr>\n",
       "    <tr>\n",
       "      <th>average</th>\n",
       "      <td>0</td>\n",
       "    </tr>\n",
       "    <tr>\n",
       "      <th>ndays</th>\n",
       "      <td>0</td>\n",
       "    </tr>\n",
       "    <tr>\n",
       "      <th>1 year ago</th>\n",
       "      <td>0</td>\n",
       "    </tr>\n",
       "    <tr>\n",
       "      <th>10 years ago</th>\n",
       "      <td>0</td>\n",
       "    </tr>\n",
       "    <tr>\n",
       "      <th>increase since 1800</th>\n",
       "      <td>0</td>\n",
       "    </tr>\n",
       "  </tbody>\n",
       "</table>\n",
       "</div>"
      ],
      "text/plain": [
       "                     Number of Null Values\n",
       "year                                     0\n",
       "month                                    0\n",
       "day                                      0\n",
       "decimal                                  0\n",
       "average                                  0\n",
       "ndays                                    0\n",
       "1 year ago                               0\n",
       "10 years ago                             0\n",
       "increase since 1800                      0"
      ]
     },
     "execution_count": 5,
     "metadata": {},
     "output_type": "execute_result"
    }
   ],
   "source": [
    "path_ml =  'https://gml.noaa.gov/webdata/ccgg/trends/co2/co2_weekly_mlo.csv'              \n",
    "co2_data_ml = pd.read_csv(path_ml, header=0, comment='#')\n",
    "null_sum = (co2_data_ml.isna()).values.sum(axis=0)\n",
    "pd.DataFrame(data=null_sum,\n",
    "    index=co2_data_ml.columns,\n",
    "    columns=['Number of Null Values']\n",
    "    )"
   ]
  },
  {
   "cell_type": "code",
   "execution_count": 6,
   "metadata": {},
   "outputs": [
    {
     "data": {
      "image/png": "[encoded data removed]",
      "text/plain": [
       "<Figure size 432x288 with 1 Axes>"
      ]
     },
     "metadata": {
      "filenames": {
       "image/png": "/home/sean/dur_rads_book/_build/jupyter_execute/Data_Exploration_9_0.png"
      },
      "needs_background": "light"
     },
     "output_type": "display_data"
    }
   ],
   "source": [
    "plt.plot(co2_data_ml['decimal'], co2_data_ml['average'],\n",
    "        c = colours.durham.red, linestyle='',\n",
    "        marker='o', markersize = 1\n",
    "        )\n",
    "plt.ylabel('$CO_2$ (ppm)')\n",
    "plt.xlabel('Year')\n",
    "None"
   ]
  },
  {
   "cell_type": "code",
   "execution_count": 7,
   "metadata": {},
   "outputs": [
    {
     "name": "stdout",
     "output_type": "stream",
     "text": [
      " Number of discarded data points: 18 , Fraction of Total Values: 0.0072\n"
     ]
    }
   ],
   "source": [
    "invalid_values = np.sum(co2_data_ml['average']<0)\n",
    "iv_fraction = invalid_values / co2_data_ml.shape[0]\n",
    "print(' Number of discarded data points:', invalid_values,\n",
    "    ', Fraction of Total Values:', f'{iv_fraction:.2}'\n",
    "    )\n"
   ]
  },
  {
   "cell_type": "markdown",
   "metadata": {},
   "source": [
    "The weekly Mauna Loa data contains more fields than the global average data. However, the decimal format is still available. In this dataset, there are clear anomalous data points. -1000 is a non-physical concentration, so cleaning the rows that lack data for these weeks is essential before further processing. Significantly, less than one percent of the values are null, and no effort is made to replace them.    "
   ]
  },
  {
   "cell_type": "code",
   "execution_count": 8,
   "metadata": {},
   "outputs": [
    {
     "data": {
      "image/png": "[encoded data removed]",
      "text/plain": [
       "<Figure size 432x288 with 1 Axes>"
      ]
     },
     "metadata": {
      "filenames": {
       "image/png": "/home/sean/dur_rads_book/_build/jupyter_execute/Data_Exploration_12_0.png"
      },
      "needs_background": "light"
     },
     "output_type": "display_data"
    }
   ],
   "source": [
    "co2_data_ml = co2_data_ml[co2_data_ml['average']>0] \n",
    "#Plotting\n",
    "plt.plot(co2_data_ml['decimal'], co2_data_ml['average'],\n",
    "        c = colours.durham.red, linestyle='',\n",
    "        marker='o', markersize = 1, \n",
    "        label = 'Mauna Loa'\n",
    "        )\n",
    "plt.plot(co2_data_global['decimal'], co2_data_global['average'], \n",
    "        c=colours.durham.purple, linestyle='', marker='o', markersize = 1, label = 'Global'\n",
    "        )\n",
    "plt.plot(co2_data_global['decimal'], co2_data_global['trend'], \n",
    "        c=colours.durham.ink\n",
    "        ) \n",
    "plt.ylabel('$CO_2$ (ppm)')\n",
    "plt.xlabel('Year')\n",
    "plt.legend()\n",
    "None"
   ]
  },
  {
   "cell_type": "markdown",
   "metadata": {},
   "source": [
    "## Fitting \n",
    "When performing curve fitting, the method of non-linear least-squares fitting is typically appropriate. The principle behind least-squares fitting is reducing the residual between the data and the fit. The N point residual for a scalar function, \n",
    "```{math}\n",
    ":label: Residuals\n",
    "r = \\sum_{i = 0}^N(y'(\\vec{x_i},\\vec{p})-y(\\vec{x_i}))^2.\n",
    "``` \n",
    "Where  $y'(\\vec{x},\\vec{p})$  is the model function and  ${math}y(\\vec{x})$  the data. \n",
    "\n",
    "For a scalar function, the fitted line  $ y'(x,\\vec{p})$  is a function of the data and the free parameters of the curve $ \\vec{p} \\in \\mathbb{R}^m $. An iterative solution to minimise the residuals can be found. Each residual in equation {eq}`Residuals`, can be considered as its own function $ r_i(\\vec{p})$ . The Jacobian matrix's pseudo inverse {eq}`Pseudo` corresponds to the direction each vector must change to tend to the minimum. It can be thought of as the arrow pointing down the steepest slope line, where each residual has $m$ variable parameters.  \n",
    "\n",
    "```{math}\n",
    "(J_r)_{ij} = \\frac{\\partial r_i}{\\partial p_j}\n",
    "```\n",
    "\n",
    "```{math}\n",
    ":label: Pseudo\n",
    "\\Delta  = - (J_r^TJ_r)^{-1}J_r^Tr(\\vec{p})\n",
    "``` \n",
    "\n",
    "```{math}\n",
    "\\vec{p}_{t+1} = \\Delta \\vec{p} + \\vec{p}_t\n",
    "```\n",
    "```{note}\n",
    "The method described breifly here is the Gauss Newton algorithm. There are alternative implementations of minimising the least squarest problem depending on a multitude of factors, particularly bounds. Scipy itself uses multiple algorithms, described [here](https://docs.scipy.org/doc/scipy/reference/generated/scipy.optimize.leastsq.html#scipy.optimize.leastsq).  \n",
    "```\n"
   ]
  },
  {
   "cell_type": "markdown",
   "metadata": {},
   "source": [
    "# Plan\n",
    "- Look for the impact of covid, on global CO_2, and explore what sort of line of best fit best matches the data. \n",
    "- look at the results from C0_2. Can we see a difference due to covid and the reduction in CO_2 production\n",
    "- Excercise, do similar for methane. "
   ]
  }
 ],
 "metadata": {
  "interpreter": {
   "hash": "a46088b7c0406c06689d7e07885ac5c738a91551ff07af49abda945581724aff"
  },
  "kernelspec": {
   "display_name": "Python 3.8.8 ('CDS_book')",
   "language": "python",
   "name": "python3"
  },
  "language_info": {
   "codemirror_mode": {
    "name": "ipython",
    "version": 3
   },
   "file_extension": ".py",
   "mimetype": "text/x-python",
   "name": "python",
   "nbconvert_exporter": "python",
   "pygments_lexer": "ipython3",
   "version": "3.8.8"
  }
 },
 "nbformat": 4,
 "nbformat_minor": 2
}