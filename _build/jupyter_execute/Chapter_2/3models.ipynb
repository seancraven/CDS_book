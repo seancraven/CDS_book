{
 "cells": [
  {
   "cell_type": "markdown",
   "metadata": {},
   "source": [
    "## Three Models \n",
    "The three hypothetical scenarios inspired by 2030 net-zero commitments \n",
    "1. No reduction in emissions rates by 2030 and net-zero by 2050.\n",
    "2. Net-zero by 2030, no further reductions.\n",
    "3. Net-zero by 2030, from 2030 begin reducing total atmospheric carbon at the same rate it is currently produced. "
   ]
  },
  {
   "cell_type": "code",
   "execution_count": 1,
   "metadata": {},
   "outputs": [
    {
     "ename": "ModuleNotFoundError",
     "evalue": "No module named 'dur_utils'",
     "output_type": "error",
     "traceback": [
      "\u001b[0;31m---------------------------------------------------------------------------\u001b[0m",
      "\u001b[0;31mModuleNotFoundError\u001b[0m                       Traceback (most recent call last)",
      "Input \u001b[0;32mIn [1]\u001b[0m, in \u001b[0;36m<cell line: 4>\u001b[0;34m()\u001b[0m\n\u001b[1;32m      2\u001b[0m \u001b[38;5;28;01mimport\u001b[39;00m \u001b[38;5;21;01mnumpy\u001b[39;00m \u001b[38;5;28;01mas\u001b[39;00m \u001b[38;5;21;01mnp\u001b[39;00m\n\u001b[1;32m      3\u001b[0m \u001b[38;5;28;01mimport\u001b[39;00m \u001b[38;5;21;01mmatplotlib\u001b[39;00m\u001b[38;5;21;01m.\u001b[39;00m\u001b[38;5;21;01mpyplot\u001b[39;00m \u001b[38;5;28;01mas\u001b[39;00m \u001b[38;5;21;01mplt\u001b[39;00m\n\u001b[0;32m----> 4\u001b[0m \u001b[38;5;28;01mfrom\u001b[39;00m \u001b[38;5;21;01mdur_utils\u001b[39;00m \u001b[38;5;28;01mimport\u001b[39;00m colours\n\u001b[1;32m      5\u001b[0m \u001b[38;5;28;01mfrom\u001b[39;00m \u001b[38;5;21;01mnumpy\u001b[39;00m\u001b[38;5;21;01m.\u001b[39;00m\u001b[38;5;21;01mlib\u001b[39;00m\u001b[38;5;21;01m.\u001b[39;00m\u001b[38;5;21;01mstride_tricks\u001b[39;00m \u001b[38;5;28;01mimport\u001b[39;00m sliding_window_view\n\u001b[1;32m      6\u001b[0m \u001b[38;5;28;01mfrom\u001b[39;00m \u001b[38;5;21;01mscipy\u001b[39;00m\u001b[38;5;21;01m.\u001b[39;00m\u001b[38;5;21;01moptimize\u001b[39;00m \u001b[38;5;28;01mimport\u001b[39;00m curve_fit\n",
      "\u001b[0;31mModuleNotFoundError\u001b[0m: No module named 'dur_utils'"
     ]
    }
   ],
   "source": [
    "import pandas as pd\n",
    "import numpy as np\n",
    "import matplotlib.pyplot as plt\n",
    "from dur_utils import colours\n",
    "from numpy.lib.stride_tricks import sliding_window_view\n",
    "from scipy.optimize import curve_fit\n",
    "from scipy import stats"
   ]
  },
  {
   "cell_type": "code",
   "execution_count": 2,
   "metadata": {},
   "outputs": [],
   "source": [
    "path = \"http://berkeleyearth.lbl.gov/auto/Global/Complete_TAVG_complete.txt\"\n",
    "#Formatting be data\n",
    "colnames=['year', 'month', 'monthly_anomaly', 'monthly_anomaly_unc',\n",
    "    'yearly_anomaly', 'yearly_anomaly_unc', '5yearly_anomaly',\n",
    "    '5yearly_anomaly_unc', '10yearly_anomaly', '10yearly_anomaly_unc',\n",
    "    '20yearly_anomaly', '20yearly_anomaly_unc'\n",
    "    ]\n",
    "temp_data = pd.read_fwf(path, skiprows=34, names=colnames)\n",
    "temp_data['dt'] = temp_data['month']/12 + temp_data['year']\n",
    "#remove be moving averages\n",
    "temp_data.drop( columns=['yearly_anomaly', 'yearly_anomaly_unc',\n",
    "    '5yearly_anomaly', '5yearly_anomaly_unc', '10yearly_anomaly',\n",
    "    '10yearly_anomaly_unc', '20yearly_anomaly', '20yearly_anomaly_unc'],\n",
    "    inplace=True\n",
    "    )"
   ]
  },
  {
   "cell_type": "markdown",
   "metadata": {},
   "source": [
    "## Determining the sensitivity coefficient\n",
    "The functional form of the model \n",
    "```{math} \n",
    "T(C) = T_0 + S \\log_2(C/C_0).\n",
    "```\n",
    "Only has one free parameter. This corresponds to the sensitivity of the model. Because the equation is linear in $\\log(C)$ an analytic solution can be found using the least-squares method.\n"
   ]
  },
  {
   "cell_type": "code",
   "execution_count": null,
   "metadata": {},
   "outputs": [],
   "source": [
    "def TofC(C: pd.DataFrame, S: int) -> pd.DataFrame:\n",
    "    ''' Model fuction for Temperature and CO_2 relationship.'''\n",
    "    C_0 = \n",
    "    T_0 = \n",
    "    return T_0 + np.log2(C/C_0)*S "
   ]
  }
 ],
 "metadata": {
  "kernelspec": {
   "display_name": "Python 3.10.4 ('CDS_book')",
   "language": "python",
   "name": "python3"
  },
  "language_info": {
   "codemirror_mode": {
    "name": "ipython",
    "version": 3
   },
   "file_extension": ".py",
   "mimetype": "text/x-python",
   "name": "python",
   "nbconvert_exporter": "python",
   "pygments_lexer": "ipython3",
   "version": "3.9.12"
  },
  "vscode": {
   "interpreter": {
    "hash": "a46088b7c0406c06689d7e07885ac5c738a91551ff07af49abda945581724aff"
   }
  }
 },
 "nbformat": 4,
 "nbformat_minor": 2
}