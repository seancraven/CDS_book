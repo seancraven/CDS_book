{
 "cells": [
  {
   "cell_type": "markdown",
   "metadata": {},
   "source": [
    "# Fitting\n",
    "Fitting enables the identification of trends and behaviours in datasets. A fit describes a model of the data matched to the dataset. The fit produced can then be used to identify outliers or predict future behaviour. Much effort has been applied to modelling and exotic numerical techniques like neural networks and gradient trees are widely used today. This Section will focus on least-squares fitting of curves and goodness of fit metrics. \n",
    "\n",
    "In the context of the $\textrm{CO}_2$ data, this chapter is interested in the behaviour of the year 2020 in comparison to previous years. "
   ]
  },
  {
   "cell_type": "code",
   "execution_count": 1,
   "metadata": {
    "tags": [
     "remove-input"
    ]
   },
   "outputs": [
    {
     "ename": "ModuleNotFoundError",
     "evalue": "No module named 'dur_utils'",
     "output_type": "error",
     "traceback": [
      "\u001b[0;31m---------------------------------------------------------------------------\u001b[0m",
      "\u001b[0;31mModuleNotFoundError\u001b[0m                       Traceback (most recent call last)",
      "Input \u001b[0;32mIn [1]\u001b[0m, in \u001b[0;36m<cell line: 1>\u001b[0;34m()\u001b[0m\n\u001b[0;32m----> 1\u001b[0m \u001b[38;5;28;01mfrom\u001b[39;00m \u001b[38;5;21;01mdur_utils\u001b[39;00m \u001b[38;5;28;01mimport\u001b[39;00m colours \u001b[38;5;66;03m#Durham Utilities module that stores constants like colours, can be found on _githublink_\u001b[39;00m\n\u001b[1;32m      2\u001b[0m \u001b[38;5;28;01mimport\u001b[39;00m \u001b[38;5;21;01mpandas\u001b[39;00m \u001b[38;5;28;01mas\u001b[39;00m \u001b[38;5;21;01mpd\u001b[39;00m\n\u001b[1;32m      3\u001b[0m \u001b[38;5;28;01mimport\u001b[39;00m \u001b[38;5;21;01mmatplotlib\u001b[39;00m\u001b[38;5;21;01m.\u001b[39;00m\u001b[38;5;21;01mpyplot\u001b[39;00m \u001b[38;5;28;01mas\u001b[39;00m \u001b[38;5;21;01mplt\u001b[39;00m\n",
      "\u001b[0;31mModuleNotFoundError\u001b[0m: No module named 'dur_utils'"
     ]
    }
   ],
   "source": [
    "from dur_utils import colours #Durham Utilities module that stores constants like colours, can be found on _githublink_\n",
    "import pandas as pd\n",
    "import matplotlib.pyplot as plt\n",
    "import scipy.optimize "
   ]
  },
  {
   "cell_type": "code",
   "execution_count": 11,
   "metadata": {
    "tags": [
     "remove-input"
    ]
   },
   "outputs": [],
   "source": [
    "path_global = 'https://gml.noaa.gov/webdata/ccgg/trends/co2/co2_mm_gl.csv'\n",
    "co2_data_global = pd.read_csv(path_global, header=0, comment='#')\n",
    "path_ml =  'https://gml.noaa.gov/webdata/ccgg/trends/co2/co2_mm_mlo.csv'              \n",
    "co2_data_ml = pd.read_csv(path_ml, header=0, comment='#')\n",
    "co2_data_ml = co2_data_ml[co2_data_ml['sdev']>0] "
   ]
  },
  {
   "cell_type": "markdown",
   "metadata": {},
   "source": [
    "## Least-Squares Fitting \n",
    "When performing curve fitting, the method of non-linear least-squares fitting is typically appropriate. The principle behind least-squares fitting is reducing the residual between the data and the fit. The N point residual for a scalar function, \n",
    "```{math}\n",
    ":label: Residuals\n",
    "r = \\sum_{i = 0}^N(y'(\\vec{x_i},\\vec{p})-y(\\vec{x_i}))^2.\n",
    "``` \n",
    "Where  $y'(\\vec{x},\\vec{p})$  is the model function and  $y(\\vec{x})$  the data. \n",
    "\n",
    "For a scalar function, the fitted line  $ y'(x,\\vec{p})$  is a function of the data and the free parameters of the curve $ \\vec{p} \\in \\mathbb{R}^m $. An iterative solution to minimise the residuals can be found for any non-linear problem. For the linear subclass of problems, an analytic solution to a set of equations can be found. Each residual in equation {eq}`Residuals`, can be considered as its own function $ r_i(\\vec{p})$. The Jacobian matrix's pseudo inverse {eq}`Pseudo` corresponds to the direction each vector must change and the curvature of the error surface. The minimisation can be considered as a ball rolling down an error surface in steps. The step size is proportional to both the gradient and the curvature of the slope. A full treatment of this can be found in chapter 7 of 'Measurements and Their Uncertainties'{cite}`Hughes_Hase`. \n",
    "\n",
    "```{math}\n",
    "(J_r)_{ij} = \\frac{\\partial r_i}{\\partial p_j}\n",
    "```\n",
    "\n",
    "```{math}\n",
    ":label: Pseudo\n",
    "\\Delta  = - (J_r^TJ_r)^{-1}J_r^Tr(\\vec{p})\n",
    "``` \n",
    "\n",
    "```{math}\n",
    "\\vec{p}_{t+1} = \\Delta \\vec{p} + \\vec{p}_t\n",
    "```\n",
    "```{note}\n",
    "The method described breifly here is the Gauss Newton algorithm, which is not used in practice. There are alternative implementations of minimising the least squarest problem depending on a multitude of factors, particularly bounds. Scipy itself uses multiple algorithms, described [here](https://docs.scipy.org/doc/scipy/reference/generated/scipy.optimize.leastsq.html#scipy.optimize.leastsq). This method can also be extended straighforwardly to data with associated errors. The errors act as a weighting to the fit, where the weighting is inversly proportional to the error.  \n",
    "```\n",
    "\n",
    "### Applying Curve Fitting to $\\textrm{CO}_2$ Data\n",
    "In order to make predictions from the current data, performing a functional fit to the data and using this to extrapolate into the future is the most elementary predictive step we can take. The model takes historical training data and adjusts its parameters $\\vec{p}$ to emulate the data best. The simplest solution is a constant. \n",
    "\n",
    "```{math}\n",
    "y' = c\n",
    "```\n",
    "\n",
    "Intuitively one would draw a line to fit this data, a model with two free parameters. A polynomial fit is the higher freedom extension to this. Increased dimensions in $\\vec{p}$ will reduce the size of residuals. It follows that an exact fit can be found by increasing the order of the polynomial. However, this comes at a cost to the generalisability of the model. A small section of the data sets are shown below with polynomial fits, constituting under and overfitting of data. "
   ]
  },
  {
   "cell_type": "code",
   "execution_count": 12,
   "metadata": {
    "tags": [
     "hide-input"
    ]
   },
   "outputs": [],
   "source": [
    "def compound_mask(array: pd.DataFrame, *tuples):\n",
    "    '''\n",
    "    A function which takes the product of multiple masks\n",
    "\n",
    "    Input :\n",
    "    array: pd.DataFrame, with column keys that contain \n",
    "    *tuples: (column_key: string in array.keys(),\n",
    "        values: list of items in array[column_key]\n",
    "        )\n",
    "\n",
    "    Output:\n",
    "    pd.DataFrame, which satisfies all of the conditions \n",
    "    provided by the tuples\n",
    "    '''\n",
    "    mask = True\n",
    "    for colum_name, values in tuples:\n",
    "        cond = array[colum_name].isin(values)\n",
    "        mask = mask & cond\n",
    "    return array[mask]"
   ]
  },
  {
   "cell_type": "code",
   "execution_count": 13,
   "metadata": {
    "tags": [
     "remove-output",
     "hide-input"
    ]
   },
   "outputs": [
    {
     "name": "stderr",
     "output_type": "stream",
     "text": [
      "/home/sean/anaconda3/envs/CDS_book/lib/python3.10/site-packages/scipy/optimize/minpack.py:833: OptimizeWarning: Covariance of the parameters could not be estimated\n",
      "  warnings.warn('Covariance of the parameters could not be estimated',\n"
     ]
    }
   ],
   "source": [
    "# Define overfit polynomial\n",
    "def p3(x, a_0, a_1, a_2, a_3):\n",
    "    return a_0 + a_1*x + a_2*x**2 + a_3*x**3\n",
    "# Define more reasonable poly \n",
    "def p1(x, a_0, a_1):\n",
    "    return a_0 + a_1*x\n",
    "# Define underfit poly\n",
    "def p0(x, a_0,):\n",
    "    return [a_0 for i in x] \n",
    "# Data For Fitting\n",
    "fit_test = compound_mask(co2_data_global, \n",
    "    ('month',[6]),\n",
    "    ('year',[1991,1992,1993,1994])\n",
    "    )\n",
    "fit_extension = compound_mask(co2_data_global, \n",
    "    ('month',[6]),\n",
    "    ('year',[i for i in range(1985,2000)])\n",
    "    )\n",
    "# Fit Coefs\n",
    "p0_fit, p0_error = scipy.optimize.curve_fit(p0,\n",
    "    fit_test['decimal'],\n",
    "    fit_test['average']\n",
    "    )\n",
    "\n",
    "p1_fit, p1_error = scipy.optimize.curve_fit(p1,\n",
    "    fit_test['decimal'],\n",
    "    fit_test['average']\n",
    "    )\n",
    "\n",
    "p3_fit, p3_error = scipy.optimize.curve_fit(p3,\n",
    "    fit_test['decimal'],\n",
    "    fit_test['average']\n",
    "    );"
   ]
  },
  {
   "cell_type": "markdown",
   "metadata": {},
   "source": [
    "```{note}\n",
    "There are quite a few interesting subtlties brought up by this example. \n",
    "- The P3 polynomial, does not exactly fit the datapoints on the left hand figure. This illustrates the iterative approximate solution provided by the ```scipy.optimise.curvefit``` function.\n",
    "- The P3 polynomial fits the data quite well above 1991. It is clear however that the polynomial is overfitting when looking at time periods before 1991, as the trendline doen't characterise the behaviour well.\n",
    "- P3 polynomial, is the highest order polynomial for which there is one exact solution that goes through all of the data points. For P4 and above there are an infinite set of polynomials that go through 4 points. \n",
    "```"
   ]
  },
  {
   "cell_type": "code",
   "execution_count": 14,
   "metadata": {
    "tags": [
     "hide-input"
    ]
   },
   "outputs": [
    {
     "data": {
      "image/png": "[encoded data removed]",
      "text/plain": [
       "<Figure size 720x360 with 2 Axes>"
      ]
     },
     "metadata": {
      "filenames": {
       "image/png": "/home/sean/Documents/Work/CDS_book/_build/jupyter_execute/Chapter_1/Fitting_7_0.png"
      },
      "needs_background": "light"
     },
     "output_type": "display_data"
    }
   ],
   "source": [
    "\n",
    "#Plotting\n",
    "fig, ax = plt.subplots(1, 2, figsize = (10,5))\n",
    "# First axis\n",
    "ax[0].plot(fit_test['decimal'],\n",
    "    p0(fit_test['decimal'], *p0_fit),\n",
    "    label = 'Underfit',\n",
    "    c = colours.durham.red\n",
    "    )\n",
    "ax[0].plot(fit_test['decimal'],\n",
    "    p1(fit_test['decimal'], *p1_fit),\n",
    "    label = 'P1 fit',\n",
    "    c = colours.durham.green\n",
    "    )\n",
    "ax[0].plot(fit_test['decimal'],\n",
    "    p3(fit_test['decimal'], *p3_fit),\n",
    "    label = 'Overfit',\n",
    "    c = colours.durham.purple\n",
    "    )\n",
    "ax[0].plot(fit_test['decimal'],\n",
    "    fit_test['average'],\n",
    "    linestyle = '',\n",
    "    marker = 'x',\n",
    "    c = 'black'\n",
    "    )\n",
    "ax[0].legend()\n",
    "ax[0].set_xticks(fit_test['decimal'])\n",
    "ax[0].set_xticklabels([i for i in range(1991,1995)])\n",
    "ax[0].set_xlabel('Years')\n",
    "ax[0].set_ylabel(r'$\\textrm{{CO}}_2$ (ppm)')\n",
    "#Extended Axis\n",
    "ax[1].plot(fit_extension['decimal'],\n",
    "    p0(fit_extension['decimal'], *p0_fit),\n",
    "    label = 'Underfit',\n",
    "    c = colours.durham.red\n",
    "    )\n",
    "ax[1].plot(fit_extension['decimal'],\n",
    "    p1(fit_extension['decimal'], *p1_fit),\n",
    "    label = 'P1 fit',\n",
    "    c = colours.durham.green\n",
    "    )\n",
    "ax[1].plot(fit_extension['decimal'],\n",
    "    p3(fit_extension['decimal'], *p3_fit),\n",
    "    label = 'Overfit',\n",
    "    c = colours.durham.purple)\n",
    "ax[1].plot(fit_extension['decimal'],\n",
    "    fit_extension['average'],\n",
    "    linestyle = '',\n",
    "    marker = 'x',\n",
    "    c = 'black'\n",
    "    )\n",
    "ax[1].legend()\n",
    "ax[1].set_xticks(fit_extension['decimal'].iloc[::2])\n",
    "ax[1].set_xticklabels([i for i in range(1985,2000,2)])\n",
    "ax[1].set_xlabel('Years')\n",
    "ax[1].set_ylabel(r'$\\textrm{{CO}}_2$ (ppm)')\n",
    "None"
   ]
  },
  {
   "cell_type": "markdown",
   "metadata": {},
   "source": [
    "Underfitting, shown in red in the above figure is characterised by a model with too few free parameters to characterise the data well. Underfitting results in poor model performance and a considerable value for the residuals. \n",
    "\n",
    "Overfitting behaviour, shown in purple is the opposite of underfitting, where there are too many free parameters. This is limited by most software packages as there are no unique solutions for the case where there are more free parameters than data-points. The consequence of overfitting is the poor generalisability of the model. It fits the specific dataset rather than more general trends. This, makes the predictive power of the model weak.\n",
    "\n",
    "Both of these concepts are not rigid and for different applications the number of free parameters for a given dataset should be adjusted. The $\\chi^2$ test can determine whether a fit is acceptable for a given critical value. "
   ]
  }
 ],
 "metadata": {
  "celltoolbar": "Tags",
  "kernelspec": {
   "display_name": "Python 3 (ipykernel)",
   "language": "python",
   "name": "python3"
  },
  "language_info": {
   "codemirror_mode": {
    "name": "ipython",
    "version": 3
   },
   "file_extension": ".py",
   "mimetype": "text/x-python",
   "name": "python",
   "nbconvert_exporter": "python",
   "pygments_lexer": "ipython3",
   "version": "3.9.12"
  },
  "vscode": {
   "interpreter": {
    "hash": "a46088b7c0406c06689d7e07885ac5c738a91551ff07af49abda945581724aff"
   }
  }
 },
 "nbformat": 4,
 "nbformat_minor": 4
}