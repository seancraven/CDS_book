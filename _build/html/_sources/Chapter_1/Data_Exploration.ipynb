{
 "cells": [
  {
   "cell_type": "markdown",
   "metadata": {},
   "source": [
    "#  Global $\\textrm{CO}_2 $\n",
    "The first chapter in this book follows a case study on the concentration of $\\textrm{{CO}}_2$ in the atmosphere. During the Covid-19 pandemic, many nations went into lockdown, reducing fossil fuel consumption. In turn, this precipitated a fall in global $\\textrm{{CO}}_2$ production{cite}`Liu2020`. This Chapter is a walk-through of answering the question; can this effect be detected using global $\\textrm{{CO}}_2$ concentration data? \n",
    "\n",
    "Almost half of the world's population was in lockdown by March of 2020. Thus, the effect we are looking for is after this. Additionally, the effect should be cumulative, with the tail end of the year showing the most significant depression in emissions. "
   ]
  },
  {
   "cell_type": "markdown",
   "metadata": {},
   "source": [
    "## Data Exploration\n",
    "Clearly, without data, one is unable to provide an answer to the question. Therefore, the first task is gathering data and convincing oneself that it is worth working off. \n",
    "\n",
    "Before starting any analysis, ask the questions below. With each data set the exact questions will differ. However, it is crucial that you can convince yourself of the validity of your conclusions and that you can convince your readers aswell.\n",
    "1.  Is the data reliable enough to make predictions from? \n",
    "    - For example, are there quantified errors in the measurments, and are they suitably low? Is this the correct dataset? \n",
    "2.  Is the data representative of the problem in question?\n",
    "    - Could this data set answer the question? Does it cover a wide enough range of cases?"
   ]
  },
  {
   "cell_type": "code",
   "execution_count": 38,
   "metadata": {},
   "outputs": [],
   "source": [
    "from dur_utils import colours #Durham Utilities module that stores constants like colours, can be found on _githublink_\n",
    "import pandas as pd\n",
    "import numpy as np\n",
    "import matplotlib.pyplot as plt"
   ]
  },
  {
   "cell_type": "markdown",
   "metadata": {},
   "source": [
    "```{tip}\n",
    "Handling imports is typically done at the top of the file. The best practice is to avoid having redundant imports in a file. Avoiding double imports and redundant imports reduces the possibility of incompatibility errors.\n",
    "```\n",
    "\n",
    "The first section will collect data from the [NOAA/GML](https://gml.noaa.gov/ccgg/trends/gl_data.html){cite}`Tans1995,Conway1994`. There are multiple files on the website; [mean monthly csv](https://gml.noaa.gov/webdata/ccgg/trends/co2/co2_mm_gl.csv) was chosen. For this problem, greater resolution in each point is a boon. Further, in 'Extension and integration of atmospheric carbon dioxide data into a globally consistent measurement record'{cite}`Tans1995`, the approximate upper bound for the variation between Global monthly $\\textrm{{CO}}_2$ is 0.5 ppm, across all measurements.  \n",
    "\n",
    " CSV or comma-separated variable files are a common way of storing tabular data. [Pandas](https://pandas.pydata.org/docs/reference/api/pandas.read_csv.html) and [Numpy](https://numpy.org/doc/stable/reference/generated/numpy.loadtxt.html) both have functions which read CSVs. Pandas is much faster. \n",
    "```\n",
    "pd.read_csv(file)\n",
    "```\n",
    "```\n",
    "np.loadtxt(file, delimiter = ',')\n",
    "```"
   ]
  },
  {
   "cell_type": "code",
   "execution_count": 39,
   "metadata": {},
   "outputs": [
    {
     "data": {
      "text/html": [
       "<div>\n",
       "<style scoped>\n",
       "    .dataframe tbody tr th:only-of-type {\n",
       "        vertical-align: middle;\n",
       "    }\n",
       "\n",
       "    .dataframe tbody tr th {\n",
       "        vertical-align: top;\n",
       "    }\n",
       "\n",
       "    .dataframe thead th {\n",
       "        text-align: right;\n",
       "    }\n",
       "</style>\n",
       "<table border=\"1\" class=\"dataframe\">\n",
       "  <thead>\n",
       "    <tr style=\"text-align: right;\">\n",
       "      <th></th>\n",
       "      <th>Number of Null Values</th>\n",
       "    </tr>\n",
       "  </thead>\n",
       "  <tbody>\n",
       "    <tr>\n",
       "      <th>year</th>\n",
       "      <td>0</td>\n",
       "    </tr>\n",
       "    <tr>\n",
       "      <th>month</th>\n",
       "      <td>0</td>\n",
       "    </tr>\n",
       "    <tr>\n",
       "      <th>decimal</th>\n",
       "      <td>0</td>\n",
       "    </tr>\n",
       "    <tr>\n",
       "      <th>average</th>\n",
       "      <td>0</td>\n",
       "    </tr>\n",
       "    <tr>\n",
       "      <th>trend</th>\n",
       "      <td>0</td>\n",
       "    </tr>\n",
       "  </tbody>\n",
       "</table>\n",
       "</div>"
      ],
      "text/plain": [
       "         Number of Null Values\n",
       "year                         0\n",
       "month                        0\n",
       "decimal                      0\n",
       "average                      0\n",
       "trend                        0"
      ]
     },
     "execution_count": 39,
     "metadata": {},
     "output_type": "execute_result"
    }
   ],
   "source": [
    "path_global = 'https://gml.noaa.gov/webdata/ccgg/trends/co2/co2_mm_gl.csv'\n",
    "co2_data_global = pd.read_csv(\n",
    "    path_global, header=0, comment='#'\n",
    "    )\n",
    "null_sum = (co2_data_global.isna()).values.sum(axis=0)\n",
    "pd.DataFrame(data=null_sum,\n",
    "    index=co2_data_global.columns,\n",
    "    columns=['Number of Null Values']\n",
    "    )"
   ]
  },
  {
   "cell_type": "markdown",
   "metadata": {},
   "source": [
    "Tabulating the number of null entries in each column provides a reference to column names and the number of missing entries. In this data, there are no Null fields.\n",
    "Notably, none of the columns has units in their headers apart from years and months. On inspection of the website, the average column is a pseudo-unit quantity in parts per million. \n",
    "\n",
    "If there were large counts of null entries, a decision on whether to use the current dataset should be made. The effect of missing data has entire fields of research dedicated to it. There are multiple different statistical methods available to repopulate datasets. This, however, is beyond the remit of this text.  \n",
    "\n",
    "When Displaying the ``` co2_data_global``` dataframe up to the first five rows, it can be seen that the decimal column is given by: \n",
    "```{math}\n",
    "decimal = year + \\frac{month}{12}\n",
    "```\n",
    "This makes it straightforward to plot $\\textrm{{CO}}_2$ average against time. "
   ]
  },
  {
   "cell_type": "code",
   "execution_count": 40,
   "metadata": {},
   "outputs": [
    {
     "data": {
      "text/html": [
       "<div>\n",
       "<style scoped>\n",
       "    .dataframe tbody tr th:only-of-type {\n",
       "        vertical-align: middle;\n",
       "    }\n",
       "\n",
       "    .dataframe tbody tr th {\n",
       "        vertical-align: top;\n",
       "    }\n",
       "\n",
       "    .dataframe thead th {\n",
       "        text-align: right;\n",
       "    }\n",
       "</style>\n",
       "<table border=\"1\" class=\"dataframe\">\n",
       "  <thead>\n",
       "    <tr style=\"text-align: right;\">\n",
       "      <th></th>\n",
       "      <th>year</th>\n",
       "      <th>month</th>\n",
       "      <th>decimal</th>\n",
       "      <th>average</th>\n",
       "      <th>trend</th>\n",
       "    </tr>\n",
       "  </thead>\n",
       "  <tbody>\n",
       "    <tr>\n",
       "      <th>0</th>\n",
       "      <td>1980</td>\n",
       "      <td>1</td>\n",
       "      <td>1980.042</td>\n",
       "      <td>338.55</td>\n",
       "      <td>337.93</td>\n",
       "    </tr>\n",
       "    <tr>\n",
       "      <th>1</th>\n",
       "      <td>1980</td>\n",
       "      <td>2</td>\n",
       "      <td>1980.125</td>\n",
       "      <td>339.27</td>\n",
       "      <td>338.22</td>\n",
       "    </tr>\n",
       "    <tr>\n",
       "      <th>2</th>\n",
       "      <td>1980</td>\n",
       "      <td>3</td>\n",
       "      <td>1980.208</td>\n",
       "      <td>339.60</td>\n",
       "      <td>338.25</td>\n",
       "    </tr>\n",
       "    <tr>\n",
       "      <th>3</th>\n",
       "      <td>1980</td>\n",
       "      <td>4</td>\n",
       "      <td>1980.292</td>\n",
       "      <td>339.99</td>\n",
       "      <td>338.37</td>\n",
       "    </tr>\n",
       "    <tr>\n",
       "      <th>4</th>\n",
       "      <td>1980</td>\n",
       "      <td>5</td>\n",
       "      <td>1980.375</td>\n",
       "      <td>340.43</td>\n",
       "      <td>338.91</td>\n",
       "    </tr>\n",
       "  </tbody>\n",
       "</table>\n",
       "</div>"
      ],
      "text/plain": [
       "   year  month   decimal  average   trend\n",
       "0  1980      1  1980.042   338.55  337.93\n",
       "1  1980      2  1980.125   339.27  338.22\n",
       "2  1980      3  1980.208   339.60  338.25\n",
       "3  1980      4  1980.292   339.99  338.37\n",
       "4  1980      5  1980.375   340.43  338.91"
      ]
     },
     "execution_count": 40,
     "metadata": {},
     "output_type": "execute_result"
    }
   ],
   "source": [
    "co2_data_global.iloc[:5,:]"
   ]
  },
  {
   "cell_type": "code",
   "execution_count": 41,
   "metadata": {
    "tags": [
     "hide-input"
    ]
   },
   "outputs": [
    {
     "data": {
      "image/png": "[encoded data removed]",
      "text/plain": [
       "<Figure size 432x288 with 1 Axes>"
      ]
     },
     "metadata": {
      "needs_background": "light"
     },
     "output_type": "display_data"
    }
   ],
   "source": [
    "fig, ax = plt.subplots(1, 1)\n",
    "ax.plot(co2_data_global['decimal'],\n",
    "        co2_data_global['average'],\n",
    "        c=colours.durham.red, linestyle='',\n",
    "        marker='o', markersize = 1\n",
    "        )\n",
    "ax.plot(co2_data_global['decimal'],    \n",
    "        co2_data_global['trend'],\n",
    "        c=colours.durham.ink\n",
    "        )\n",
    "ax.set_ylabel(r'$\\textrm{{CO}}_2$ (ppm)')\n",
    "ax.set_xlabel('Year');"
   ]
  },
  {
   "cell_type": "markdown",
   "metadata": {},
   "source": [
    "By plotting the monthly average against time and the trendline provided shows a consistent increase in the average concentration of $\\textrm{{CO}}_2$ in the atmosphere over the last 40 years. In addition, a cyclical pattern over a shorter timescale is also observed. The data set is well populated over the time period for predictions on the few years scale. Thus\n",
    "\n",
    "There is an additional data set from Mauna Loa {cite}`Tans1989`, which is worth comparing to global averages. Notably, these data sets are not expected to correspond precisely as $\\textrm{{CO}}_2$ concentration is a function of altitude, latitude and longitude.\n",
    "\n",
    "In this case, we know that the surface average $\\textrm{{CO}}_2$ is taken from multiple sea-level sites. Each site is part of the Cooperative Global Air Sampling Network{cite}`. These sites have been chosen to minimise the interference of local effects in the amount of atmospheric $\\textrm{{CO}}_2$. \n",
    "\n",
    "There can be no hard and fast rule for how many data sources are required to make predictions. However, with more independent sets of data, confidence in the generality of predictions can increase. Further, both of these datasets come from peer-reviewed sources. Thus their methodology has been independantly certified.   \n",
    "\n",
    " "
   ]
  },
  {
   "cell_type": "code",
   "execution_count": 42,
   "metadata": {
    "tags": [
     "hide-input"
    ]
   },
   "outputs": [
    {
     "data": {
      "text/html": [
       "<div>\n",
       "<style scoped>\n",
       "    .dataframe tbody tr th:only-of-type {\n",
       "        vertical-align: middle;\n",
       "    }\n",
       "\n",
       "    .dataframe tbody tr th {\n",
       "        vertical-align: top;\n",
       "    }\n",
       "\n",
       "    .dataframe thead th {\n",
       "        text-align: right;\n",
       "    }\n",
       "</style>\n",
       "<table border=\"1\" class=\"dataframe\">\n",
       "  <thead>\n",
       "    <tr style=\"text-align: right;\">\n",
       "      <th></th>\n",
       "      <th>Number of Null Values</th>\n",
       "      <th>Number of Negative Values</th>\n",
       "    </tr>\n",
       "  </thead>\n",
       "  <tbody>\n",
       "    <tr>\n",
       "      <th>year</th>\n",
       "      <td>0</td>\n",
       "      <td>0</td>\n",
       "    </tr>\n",
       "    <tr>\n",
       "      <th>month</th>\n",
       "      <td>0</td>\n",
       "      <td>0</td>\n",
       "    </tr>\n",
       "    <tr>\n",
       "      <th>decimal date</th>\n",
       "      <td>0</td>\n",
       "      <td>0</td>\n",
       "    </tr>\n",
       "    <tr>\n",
       "      <th>average</th>\n",
       "      <td>0</td>\n",
       "      <td>0</td>\n",
       "    </tr>\n",
       "    <tr>\n",
       "      <th>deseasonalized</th>\n",
       "      <td>0</td>\n",
       "      <td>0</td>\n",
       "    </tr>\n",
       "    <tr>\n",
       "      <th>ndays</th>\n",
       "      <td>0</td>\n",
       "      <td>195</td>\n",
       "    </tr>\n",
       "    <tr>\n",
       "      <th>sdev</th>\n",
       "      <td>0</td>\n",
       "      <td>196</td>\n",
       "    </tr>\n",
       "    <tr>\n",
       "      <th>unc</th>\n",
       "      <td>0</td>\n",
       "      <td>196</td>\n",
       "    </tr>\n",
       "  </tbody>\n",
       "</table>\n",
       "</div>"
      ],
      "text/plain": [
       "                Number of Null Values  Number of Negative Values\n",
       "year                                0                          0\n",
       "month                               0                          0\n",
       "decimal date                        0                          0\n",
       "average                             0                          0\n",
       "deseasonalized                      0                          0\n",
       "ndays                               0                        195\n",
       "sdev                                0                        196\n",
       "unc                                 0                        196"
      ]
     },
     "execution_count": 42,
     "metadata": {},
     "output_type": "execute_result"
    }
   ],
   "source": [
    "path_ml =  'https://gml.noaa.gov/webdata/ccgg/trends/co2/co2_mm_mlo.csv'              \n",
    "co2_data_ml = pd.read_csv(path_ml, header=0, comment='#')\n",
    "null_sum = (co2_data_ml.isna()).values.sum(axis=0)\n",
    "neg_sum = (co2_data_ml < 0).values.sum(axis = 0)\n",
    "pd.DataFrame(data= np.vstack((null_sum, neg_sum)).transpose(),\n",
    "    index=co2_data_ml.columns,\n",
    "    columns=['Number of Null Values', 'Number of Negative Values']\n",
    "    )"
   ]
  },
  {
   "cell_type": "code",
   "execution_count": 43,
   "metadata": {
    "tags": [
     "hide-input"
    ]
   },
   "outputs": [
    {
     "data": {
      "image/png": "[encoded data removed]",
      "text/plain": [
       "<Figure size 432x288 with 1 Axes>"
      ]
     },
     "metadata": {
      "needs_background": "light"
     },
     "output_type": "display_data"
    }
   ],
   "source": [
    "plt.errorbar(co2_data_ml['decimal date'],\n",
    "        co2_data_ml['average'],\n",
    "        co2_data_ml['sdev'],\n",
    "        c = colours.durham.ink, linestyle='',\n",
    "        marker='o', markersize = 1\n",
    "        )\n",
    "plt.ylabel(r'$\\textrm{{CO}}_2$ (ppm)')\n",
    "plt.xlabel('Year');"
   ]
  },
  {
   "cell_type": "markdown",
   "metadata": {},
   "source": [
    "The weekly Mauna Loa data contains more fields than the global average data. However, the decimal format is still available. In this dataset, recordings before 1980 have unknown associated standard error. Not using these points in the model is an option rather than estimating their ucertainty as the number of timesteps needing to be predicted into the future are not particularly large, for investigating the effects of covid. "
   ]
  },
  {
   "cell_type": "code",
   "execution_count": 44,
   "metadata": {
    "tags": [
     "hide-input"
    ]
   },
   "outputs": [
    {
     "name": "stdout",
     "output_type": "stream",
     "text": [
      " Number of discarded data points: 196 , Fraction of Total Values: 0.25\n"
     ]
    }
   ],
   "source": [
    "invalid_values = np.sum(co2_data_ml['sdev']<0)\n",
    "iv_fraction = invalid_values / co2_data_ml.shape[0]\n",
    "print(' Number of discarded data points:', invalid_values,\n",
    "    ', Fraction of Total Values:', f'{iv_fraction:.2}'\n",
    "    )\n"
   ]
  },
  {
   "cell_type": "code",
   "execution_count": 45,
   "metadata": {
    "tags": [
     "hide-input"
    ]
   },
   "outputs": [
    {
     "data": {
      "image/png": "[encoded data removed]",
      "text/plain": [
       "<Figure size 432x288 with 1 Axes>"
      ]
     },
     "metadata": {
      "needs_background": "light"
     },
     "output_type": "display_data"
    }
   ],
   "source": [
    "co2_data_ml = co2_data_ml[co2_data_ml['average']>0] \n",
    "#Plotting\n",
    "plt.plot(co2_data_ml['decimal date'], co2_data_ml['average'],\n",
    "        c = colours.durham.red, linestyle='',\n",
    "        marker='o', markersize = 1, \n",
    "        label = 'Mauna Loa'\n",
    "        )\n",
    "plt.plot(co2_data_global['decimal'], co2_data_global['average'], \n",
    "        c=colours.durham.purple, linestyle='', marker='o', markersize = 1,\n",
    "        label = 'Global'\n",
    "        )\n",
    "plt.plot(co2_data_global['decimal'], co2_data_global['trend'], \n",
    "        c=colours.durham.ink\n",
    "        ) \n",
    "plt.ylabel(r'$\\textrm{{CO}}_2$ (ppm)')\n",
    "plt.xlabel('Year')\n",
    "plt.legend();"
   ]
  },
  {
   "cell_type": "markdown",
   "metadata": {},
   "source": [
    "### Next steps\n",
    "After acquiring both data sets, non-physical values and missing fields were removed. On brief inspection, both datasets follow a similar trend and describe an increase in global $\\textrm{{CO}}_2$, with a consistent oscillation. Finally, both datasets include the time period of interest, 2020-2021. \n",
    "\n",
    "Regarding dataset reliability, these datasets are averages over time series fits from data collected hourly. This data is challenging to determine sensible standard errors on the monthly mean values. Daily variance is of the order of a few ppm due to a variety of factors. An example day and data collection process are documented [here](https://gml.noaa.gov/ccgg/about/co2_measurements.html). However, the standard deviations of the measurements for Mauna Loa are provided. These are obtained from weekly and daily fits. Such quantification of the data's precision is required to determine the significance of any events, enabling observation of a trend change indicative of Covid-19.\n",
    "\n",
    "The global data lacks a standard error. There is an expected variance between testing sites in both the timing and magnitude of oscilations, which can be read further about [here](https://gml.noaa.gov/ccgg/about/global_means.html). Due to the nature of the global data, using the monthly Mauna Loa data for the main analysis and having the global data as a touchstone seems prudent. At this point, the author is sufficiently convinced that they have obtained a dataset that is fit for purpose in the Mauna Loa dataset. \n",
    "\n"
   ]
  }
 ],
 "metadata": {
  "celltoolbar": "Tags",
  "interpreter": {
   "hash": "a46088b7c0406c06689d7e07885ac5c738a91551ff07af49abda945581724aff"
  },
  "kernelspec": {
   "display_name": "Python 3 (ipykernel)",
   "language": "python",
   "name": "python3"
  },
  "language_info": {
   "codemirror_mode": {
    "name": "ipython",
    "version": 3
   },
   "file_extension": ".py",
   "mimetype": "text/x-python",
   "name": "python",
   "nbconvert_exporter": "python",
   "pygments_lexer": "ipython3",
   "version": "3.10.4"
  }
 },
 "nbformat": 4,
 "nbformat_minor": 2
}
