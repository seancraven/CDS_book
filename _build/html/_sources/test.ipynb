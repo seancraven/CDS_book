{
 "cells": [
  {
   "cell_type": "code",
   "execution_count": null,
   "metadata": {},
   "outputs": [],
   "source": [
    "def per(x, a_1, a_2, omega_1, omega_2, C):\n",
    "    return a_1*np.cos(omega_1*x) + a_2*np.sin(omega_2*x) + C\n",
    "    \n",
    "\n",
    "# Fit Coefs\n",
    "lower_bound = [-10,-10, 0, 0, -10]\n",
    "upper_bound = 10\n",
    "p0 = [5,5,100,100,0]\n",
    "##Unweighted Least Squares Global\n",
    "p1_res_fit, p1_res_error = scipy.optimize.curve_fit(per,\n",
    "    co2_data_ml['decimal date']-co2_data_ml['decimal date'].iloc[0],\n",
    "    rs_ml_p1,\n",
    "    sigma=co2_data_ml['sdev'],\n",
    "    p0=p0,\n",
    "    #bounds=(lower_bound, upper_bound)\n",
    "    )\n",
    "#chisq\n",
    "y_p1_res = per(co2_data_ml['decimal date'], *p1_res_fit)\n",
    "rs_ml_res_p1 = y_p1_res-rs_ml_p1\n",
    "chisq_res_p1 = np.sum(((rs_ml_res_p1)\n",
    "    / np.mean(co2_data_ml['sdev']))**2\n",
    "    )\n",
    "#P3\n",
    "p3_res_fit, p3_res_error = scipy.optimize.curve_fit(per,\n",
    "    co2_data_ml['decimal date']-co2_data_ml['decimal date'].iloc[0],\n",
    "    rs_ml_p3,\n",
    "    sigma= co2_data_ml['sdev'], \n",
    "    #bounds=(lower_bound, upper_bound),\n",
    "    p0=p0\n",
    "    )\n",
    "#chisq\n",
    "y_p3_res = per(co2_data_ml['decimal date'], *p3_res_fit)\n",
    "rs_ml_res_p3 = y_p3_res-rs_ml_p3\n",
    "chisq_res_p3 = np.sum(((rs_ml_res_p3)\n",
    "    / np.mean(co2_data_ml['sdev']))**2\n",
    "    )\n",
    "print(p3_res_fit)\n",
    "plt.plot(co2_data_ml['decimal date'], rs_ml_p3)\n",
    "plt.plot(co2_data_ml['decimal date'], y_p3_res)\n",
    "However, as can be seen in the figure abvoe of an  "
   ]
  }
 ],
 "metadata": {
  "kernelspec": {
   "display_name": "Python 3.8.8 ('base')",
   "language": "python",
   "name": "python3"
  },
  "language_info": {
   "name": "python",
   "version": "3.8.8"
  },
  "orig_nbformat": 4,
  "vscode": {
   "interpreter": {
    "hash": "1e0edef247045f2f5f35ac9d6435770b0c68a1ddd7eb34b4959830e587ac51e2"
   }
  }
 },
 "nbformat": 4,
 "nbformat_minor": 2
}
