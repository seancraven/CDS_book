{
 "cells": [
  {
   "cell_type": "code",
   "execution_count": 1,
   "metadata": {},
   "outputs": [
    {
     "ename": "ModuleNotFoundError",
     "evalue": "No module named 'Functions'",
     "output_type": "error",
     "traceback": [
      "\u001b[0;31m---------------------------------------------------------------------------\u001b[0m",
      "\u001b[0;31mModuleNotFoundError\u001b[0m                       Traceback (most recent call last)",
      "\u001b[1;32m/home/sean/Documents/Work/CDS_book/dur_rads_to_be_removed_wip/Longwave Tutorial.ipynb Cell 1\u001b[0m in \u001b[0;36m<cell line: 4>\u001b[0;34m()\u001b[0m\n\u001b[1;32m      <a href='vscode-notebook-cell:/home/sean/Documents/Work/CDS_book/dur_rads_to_be_removed_wip/Longwave%20Tutorial.ipynb#ch0000000?line=1'>2</a>\u001b[0m \u001b[39mimport\u001b[39;00m \u001b[39mnumpy\u001b[39;00m \u001b[39mas\u001b[39;00m \u001b[39mnp\u001b[39;00m\n\u001b[1;32m      <a href='vscode-notebook-cell:/home/sean/Documents/Work/CDS_book/dur_rads_to_be_removed_wip/Longwave%20Tutorial.ipynb#ch0000000?line=2'>3</a>\u001b[0m \u001b[39mimport\u001b[39;00m \u001b[39mmatplotlib\u001b[39;00m\u001b[39m.\u001b[39;00m\u001b[39mpyplot\u001b[39;00m \u001b[39mas\u001b[39;00m \u001b[39mplt\u001b[39;00m\n\u001b[0;32m----> <a href='vscode-notebook-cell:/home/sean/Documents/Work/CDS_book/dur_rads_to_be_removed_wip/Longwave%20Tutorial.ipynb#ch0000000?line=3'>4</a>\u001b[0m \u001b[39mimport\u001b[39;00m \u001b[39mFunctions\u001b[39;00m\n\u001b[1;32m      <a href='vscode-notebook-cell:/home/sean/Documents/Work/CDS_book/dur_rads_to_be_removed_wip/Longwave%20Tutorial.ipynb#ch0000000?line=4'>5</a>\u001b[0m \u001b[39mimport\u001b[39;00m \u001b[39mpandas\u001b[39;00m \u001b[39mas\u001b[39;00m \u001b[39mpd\u001b[39;00m \n\u001b[1;32m      <a href='vscode-notebook-cell:/home/sean/Documents/Work/CDS_book/dur_rads_to_be_removed_wip/Longwave%20Tutorial.ipynb#ch0000000?line=5'>6</a>\u001b[0m \u001b[39mimport\u001b[39;00m \u001b[39misa\u001b[39;00m\n",
      "\u001b[0;31mModuleNotFoundError\u001b[0m: No module named 'Functions'"
     ]
    }
   ],
   "source": [
    "import scipy.constants as cst\n",
    "import numpy as np\n",
    "import matplotlib.pyplot as plt\n",
    "import pandas as pd \n",
    "from gas import Gas\n",
    "import isa\n",
    "from scipy.signal import find_peaks\n",
    "CO2 = Gas('./Absorbtion Continua up to 5000cm^-1/CO2.csv',44,415.16 )\n",
    "CH4 = Gas('./Absorbtion Continua up to 5000cm^-1/CH4.csv',16,1.8505 )\n",
    "H2O = Gas('./Absorbtion Continua up to 5000cm^-1/H2O.csv',18,2500)\n",
    "O3 = Gas('./Absorbtion Continua/O3.csv',48,0.08 )"
   ]
  },
  {
   "cell_type": "markdown",
   "metadata": {},
   "source": [
    "The main function, that this package serves is to provide code that takes the line by line cross sections provided by the HITRAN database, and calculate light absorption through the gases. \n",
    "\n",
    "To load the Line by line spectra from the HITRAN database a new file type should be made, with the following properties: \n",
    "Line Endings:  Unix / Linux / Mac OS X (LF)\n",
    "Field separator: [comma]\n",
    "\n",
    "The Parameters in the output should be:  \\\n",
    "Molecule ID  \\\n",
    "$\\nu$   \\\n",
    "S  \\\n",
    "$\\gamma_{air}$  \\\n",
    "$n_{air}$  \\\n",
    "$\\gamma_{self}$  \n",
    "\n",
    "For all of the data on the Github, a wavenumber range of $ 0 < \\nu < 5000 cm^{-1}$ was used and only the most common isotopologue was chosen.\n",
    "\n",
    "\n",
    "\n"
   ]
  },
  {
   "cell_type": "markdown",
   "metadata": {},
   "source": [
    "To download the data go to https://hitran.org/lbl/.  \\\n",
    "Choose a molecue and a wavenumber range  \\\n",
    "Create an output format as above  \\\n",
    "Download the file  \\\n",
    "(Rename the file to 'gas'.csv e.g CO2.csv)\n"
   ]
  },
  {
   "cell_type": "markdown",
   "metadata": {},
   "source": [
    "The Hitran file can be loaded as follows:  \\\n",
    "\n",
    "                gas = Functions.gas(path,mr,ppm)\n",
    "path: path to file  \\\n",
    "mr: relative atomic mass(g/mol)  \\\n",
    "ppm: parts per million"
   ]
  },
  {
   "cell_type": "code",
   "execution_count": null,
   "metadata": {},
   "outputs": [
    {
     "ename": "",
     "evalue": "",
     "output_type": "error",
     "traceback": [
      "\u001b[1;31mRunning cells with 'Python 3.10.4 64-bit' requires ipykernel package.\n",
      "Run the following command to install 'ipykernel' into the Python environment. \n",
      "Command: '/bin/python3 -m pip install ipykernel -U --user --force-reinstall'"
     ]
    }
   ],
   "source": [
    "H2O = Functions.gas('./Absorbtion Continua up to 5000cm^-1/H2O.csv',18,2500)"
   ]
  },
  {
   "cell_type": "markdown",
   "metadata": {},
   "source": [
    "### Gas Class \n",
    "the gas class has the following attributes:\n",
    "\n",
    "            self.nu  1d Dataframe of nu\n",
    "            self.nu_unit  '$cm^-1$'\n",
    "            self.absorbtion_coeff  1d Dataframe of absoption coefficient \n",
    "            self.absorbtion_coeff_unit  cm^-1/(molecule cm^-1)\n",
    "            self.mr  mr\n",
    "            self.mr_unit  g/mol\n",
    "            self.data 2d dataframe, with columns of nu, absorption coefficient, Gamma air, N air, Gamma Self \n",
    "            self.gamma_air  1d Dataframe of gamma air \n",
    "            self.gamma_self  1d Dataframe og gamma self \n",
    "            self.n_air  1d Dataframe of N_air \n",
    "            self.ppm  Parts per million        \n",
    "            self.pv  Fractional content per volume \n",
    "The main part for plotting absoption spectra is: \n",
    "        Tau_for_whole_atmosphere(self,alt_1, alt_2,steps = 10)\n",
    "This function implements the pressure and temperature dependence of the molecular absorption spectra."
   ]
  },
  {
   "cell_type": "code",
   "execution_count": null,
   "metadata": {},
   "outputs": [
    {
     "ename": "",
     "evalue": "",
     "output_type": "error",
     "traceback": [
      "\u001b[1;31mRunning cells with 'Python 3.10.4 64-bit' requires ipykernel package.\n",
      "Run the following command to install 'ipykernel' into the Python environment. \n",
      "Command: '/bin/python3 -m pip install ipykernel -U --user --force-reinstall'"
     ]
    }
   ],
   "source": [
    "gas  = CH4\n",
    "## Temperatures at surface and 10km up\n",
    "T_a = isa.getTemperature(0)\n",
    "T_b = isa.getTemperature(10000)\n",
    "\n",
    "\n",
    "tau = CH4.Tau_for_whole_atmosphere(0,10000)\n",
    "\n",
    "p_int = Functions.plank_nu(gas.nu,T_b,Flux= True)\n",
    "I_surf= Functions.plank_nu(gas.nu,T_a,Flux = True)\n",
    "I_strat_no_gas = Functions.plank_nu(gas.nu,T_b,Flux = True)\n",
    "\n",
    "I_strat =  np.exp(-tau)*I_surf + p_int\n",
    "\n",
    "\n",
    "###Plotting \n",
    "fig = plt.figure(figsize=(10,10))\n",
    "plt.plot(gas.nu,I_strat,c = 'black')\n",
    "plt.plot(gas.nu,I_strat_no_gas, c = \"black\")\n",
    "plt.xlabel('Wavenumber $(cm^{-1})$')\n",
    "plt.ylabel('Spectral Radiance $(W/m^2/cm^{-1})$')\n",
    "fig.savefig('./Figures/co2.png',dpi = 300)"
   ]
  },
  {
   "cell_type": "markdown",
   "metadata": {},
   "source": [
    "## Multigas Tutorial \n",
    "The multigas function, implements the transmission equation for multiple gases.  \\\n",
    " This function takes a list of gas objects, a start altitude and an end altitude, and outputs 3 lists:  \\\n",
    " Outgoing Flux \n",
    " Wavenumber \n",
    " Incoming Flux\n",
    " these 3 lists have 1d DataFrames corresponding to each gas for each of these quantities, ie the below example outputs 9 DataFrames. \n",
    "\n",
    " Note: \n",
    " This implementation is a good start however, the line by line cross sections for each gas could be combined into one total $\\kappa(\\nu,p,T)$, This would be a more accurate description of the actual phenomena, as currently the gases are treated as independent. "
   ]
  },
  {
   "cell_type": "code",
   "execution_count": null,
   "metadata": {},
   "outputs": [
    {
     "ename": "",
     "evalue": "",
     "output_type": "error",
     "traceback": [
      "\u001b[1;31mRunning cells with 'Python 3.10.4 64-bit' requires ipykernel package.\n",
      "Run the following command to install 'ipykernel' into the Python environment. \n",
      "Command: '/bin/python3 -m pip install ipykernel -U --user --force-reinstall'"
     ]
    }
   ],
   "source": [
    "gases = [H2O,CO2,CH4]\n",
    "### Use of Multigas method \n",
    "flux , nu ,inc = Functions.multigas(gases,0,1000)\n",
    "### Plotting \n",
    "colors = [\"red\",'blue', 'black']\n",
    "gn = ['H2O','CO2','CH4']\n",
    "for i in range(3):\n",
    "    plt.plot(nu[i],flux[i],c = colors[i], label = gn[i])\n",
    "plt.xlabel('Wavenumber $(cm^{-1})$')\n",
    "plt.ylabel('Spectral Radiance $(W/m^2/cm^{-1})$')\n",
    "\n",
    "plt.legend()"
   ]
  },
  {
   "cell_type": "markdown",
   "metadata": {},
   "source": []
  }
 ],
 "metadata": {
  "kernelspec": {
   "display_name": "Python 3.10.4 ('CDS_book')",
   "language": "python",
   "name": "python3"
  },
  "language_info": {
   "codemirror_mode": {
    "name": "ipython",
    "version": 3
   },
   "file_extension": ".py",
   "mimetype": "text/x-python",
   "name": "python",
   "nbconvert_exporter": "python",
   "pygments_lexer": "ipython3",
   "version": "3.10.4"
  },
  "orig_nbformat": 4,
  "vscode": {
   "interpreter": {
    "hash": "a46088b7c0406c06689d7e07885ac5c738a91551ff07af49abda945581724aff"
   }
  }
 },
 "nbformat": 4,
 "nbformat_minor": 2
}
