{
 "cells": [
  {
   "cell_type": "markdown",
   "metadata": {},
   "source": [
    "#  Data Exploration Global $CO_2$\n",
    "Aquiring reliable data, is the foundation for any analysis project. If your data is incomplete inaccurate, any analysis will draw poor conclusions. \n",
    "\n",
    "After aqusition data which has been well formatted into a csv, or similar easy to handle file, should be explored. "
   ]
  },
  {
   "cell_type": "code",
   "execution_count": 1,
   "metadata": {},
   "outputs": [],
   "source": [
    "from dur_utils import colours #Durham Utilities module that stores constants like colours, can be found on _githublink_\n",
    "import pandas as pd\n",
    "import numpy as np\n",
    "import matplotlib.pyplot as plt"
   ]
  },
  {
   "cell_type": "markdown",
   "metadata": {},
   "source": [
    "Handelling imports, is typically done at the top of the file. Best practice is to avoid having redundant imports in a file. Thus minimising the potential for a bug from incompatibility.\n",
    "\n",
    "For the first section, the data will be collected from the [NOAA/GML](https://gml.noaa.gov/ccgg/trends/gl_data.html){cite}`NOAA_CO2`. On the website there are multiple different files, [mean monthly csv](https://gml.noaa.gov/webdata/ccgg/trends/co2/co2_mm_gl.csv) was chosen. CSV or comma separated variable files, are a very common way of storing tabular data. [Pandas](https://pandas.pydata.org/docs/reference/api/pandas.read_csv.html) and [Numpy](https://numpy.org/doc/stable/reference/generated/numpy.loadtxt.html) both have functions which read CSVs, pandas is much faster. \n",
    "```\n",
    "pd.read_csv(file)\n",
    "```\n",
    "```\n",
    "np.loadtxt(file, delimiter = ',')\n",
    "```"
   ]
  },
  {
   "cell_type": "code",
   "execution_count": 12,
   "metadata": {},
   "outputs": [
    {
     "data": {
      "text/html": [
       "<div>\n",
       "<style scoped>\n",
       "    .dataframe tbody tr th:only-of-type {\n",
       "        vertical-align: middle;\n",
       "    }\n",
       "\n",
       "    .dataframe tbody tr th {\n",
       "        vertical-align: top;\n",
       "    }\n",
       "\n",
       "    .dataframe thead th {\n",
       "        text-align: right;\n",
       "    }\n",
       "</style>\n",
       "<table border=\"1\" class=\"dataframe\">\n",
       "  <thead>\n",
       "    <tr style=\"text-align: right;\">\n",
       "      <th></th>\n",
       "      <th>Number of Null Values</th>\n",
       "    </tr>\n",
       "  </thead>\n",
       "  <tbody>\n",
       "    <tr>\n",
       "      <th>year</th>\n",
       "      <td>0</td>\n",
       "    </tr>\n",
       "    <tr>\n",
       "      <th>month</th>\n",
       "      <td>0</td>\n",
       "    </tr>\n",
       "    <tr>\n",
       "      <th>decimal</th>\n",
       "      <td>0</td>\n",
       "    </tr>\n",
       "    <tr>\n",
       "      <th>average</th>\n",
       "      <td>0</td>\n",
       "    </tr>\n",
       "    <tr>\n",
       "      <th>trend</th>\n",
       "      <td>0</td>\n",
       "    </tr>\n",
       "  </tbody>\n",
       "</table>\n",
       "</div>"
      ],
      "text/plain": [
       "         Number of Null Values\n",
       "year                         0\n",
       "month                        0\n",
       "decimal                      0\n",
       "average                      0\n",
       "trend                        0"
      ]
     },
     "execution_count": 12,
     "metadata": {},
     "output_type": "execute_result"
    }
   ],
   "source": [
    "path_global = './Data/co2_mm_gl.csv' #Path is machine specific. input your own\n",
    "co2_data_global = pd.read_csv(path_global, header=0, comment='#')\n",
    "null_sum = (co2_data_global.isna()).values.sum(axis=0)\n",
    "pd.DataFrame(data=null_sum, index=co2_data_global.columns, columns=['Number of Null Values'])"
   ]
  },
  {
   "cell_type": "markdown",
   "metadata": {},
   "source": [
    "Tabulating number of null entries in each column, provides quick reference to column names and the number of missing entries. In this data, there are no Null fields.\n",
    "It is notable, that none of the columns have units in their headers apart from years and months, for any of the colums. From, the website we find that the average colum, is a pseudo-unit quantity in parts per million. \n",
    "\n",
    "When Displaying the ``` co2_data_global``` dataframe up to the first five rows, it can be seen that the decimal column is given by: \n",
    "$$\n",
    "decimal = year + \\frac{month}{12}\n",
    "$$\n",
    "This makes it straightforward to plot $CO_2$ average against time.  "
   ]
  },
  {
   "cell_type": "code",
   "execution_count": 13,
   "metadata": {},
   "outputs": [
    {
     "data": {
      "text/html": [
       "<div>\n",
       "<style scoped>\n",
       "    .dataframe tbody tr th:only-of-type {\n",
       "        vertical-align: middle;\n",
       "    }\n",
       "\n",
       "    .dataframe tbody tr th {\n",
       "        vertical-align: top;\n",
       "    }\n",
       "\n",
       "    .dataframe thead th {\n",
       "        text-align: right;\n",
       "    }\n",
       "</style>\n",
       "<table border=\"1\" class=\"dataframe\">\n",
       "  <thead>\n",
       "    <tr style=\"text-align: right;\">\n",
       "      <th></th>\n",
       "      <th>year</th>\n",
       "      <th>month</th>\n",
       "      <th>decimal</th>\n",
       "      <th>average</th>\n",
       "      <th>trend</th>\n",
       "    </tr>\n",
       "  </thead>\n",
       "  <tbody>\n",
       "    <tr>\n",
       "      <th>0</th>\n",
       "      <td>1980</td>\n",
       "      <td>1</td>\n",
       "      <td>1980.042</td>\n",
       "      <td>338.55</td>\n",
       "      <td>337.93</td>\n",
       "    </tr>\n",
       "    <tr>\n",
       "      <th>1</th>\n",
       "      <td>1980</td>\n",
       "      <td>2</td>\n",
       "      <td>1980.125</td>\n",
       "      <td>339.27</td>\n",
       "      <td>338.22</td>\n",
       "    </tr>\n",
       "    <tr>\n",
       "      <th>2</th>\n",
       "      <td>1980</td>\n",
       "      <td>3</td>\n",
       "      <td>1980.208</td>\n",
       "      <td>339.60</td>\n",
       "      <td>338.25</td>\n",
       "    </tr>\n",
       "    <tr>\n",
       "      <th>3</th>\n",
       "      <td>1980</td>\n",
       "      <td>4</td>\n",
       "      <td>1980.292</td>\n",
       "      <td>339.99</td>\n",
       "      <td>338.37</td>\n",
       "    </tr>\n",
       "    <tr>\n",
       "      <th>4</th>\n",
       "      <td>1980</td>\n",
       "      <td>5</td>\n",
       "      <td>1980.375</td>\n",
       "      <td>340.43</td>\n",
       "      <td>338.91</td>\n",
       "    </tr>\n",
       "  </tbody>\n",
       "</table>\n",
       "</div>"
      ],
      "text/plain": [
       "   year  month   decimal  average   trend\n",
       "0  1980      1  1980.042   338.55  337.93\n",
       "1  1980      2  1980.125   339.27  338.22\n",
       "2  1980      3  1980.208   339.60  338.25\n",
       "3  1980      4  1980.292   339.99  338.37\n",
       "4  1980      5  1980.375   340.43  338.91"
      ]
     },
     "execution_count": 13,
     "metadata": {},
     "output_type": "execute_result"
    }
   ],
   "source": [
    "co2_data_global.iloc[:5,:]"
   ]
  },
  {
   "cell_type": "markdown",
   "metadata": {},
   "source": [
    "Plotting the monthly average against time and the trendline, provided by the data set. Shows a consistent increase in the average concentration of $CO_2$ in the atmosphere over the last 40 years, with a cyclical pattern over a shorter timescale. Drawing conclusions from this data is possible, however, because there is also the weekly data from the Mauna Loa, comparing both will yeild more confidence."
   ]
  },
  {
   "cell_type": "code",
   "execution_count": 29,
   "metadata": {},
   "outputs": [
    {
     "data": {
      "text/plain": [
       "Text(0.5, 0, 'Year')"
      ]
     },
     "execution_count": 29,
     "metadata": {},
     "output_type": "execute_result"
    },
    {
     "data": {
      "image/png": "[encoded data removed]",
      "text/plain": [
       "<Figure size 432x288 with 1 Axes>"
      ]
     },
     "metadata": {
      "needs_background": "light"
     },
     "output_type": "display_data"
    }
   ],
   "source": [
    "plt.plot(co2_data_global['decimal'], co2_data_global['average'], c=colours.durham.red, linestyle='', marker='o', markersize = 1)\n",
    "plt.plot(co2_data_global['decimal'], co2_data_global['trend'], c=colours.durham.ink)\n",
    "plt.ylabel('$CO_2$ (ppm)')\n",
    "plt.xlabel('Year')"
   ]
  },
  {
   "cell_type": "code",
   "execution_count": 17,
   "metadata": {},
   "outputs": [
    {
     "data": {
      "text/html": [
       "<div>\n",
       "<style scoped>\n",
       "    .dataframe tbody tr th:only-of-type {\n",
       "        vertical-align: middle;\n",
       "    }\n",
       "\n",
       "    .dataframe tbody tr th {\n",
       "        vertical-align: top;\n",
       "    }\n",
       "\n",
       "    .dataframe thead th {\n",
       "        text-align: right;\n",
       "    }\n",
       "</style>\n",
       "<table border=\"1\" class=\"dataframe\">\n",
       "  <thead>\n",
       "    <tr style=\"text-align: right;\">\n",
       "      <th></th>\n",
       "      <th>Number of Null Values</th>\n",
       "    </tr>\n",
       "  </thead>\n",
       "  <tbody>\n",
       "    <tr>\n",
       "      <th>year</th>\n",
       "      <td>0</td>\n",
       "    </tr>\n",
       "    <tr>\n",
       "      <th>month</th>\n",
       "      <td>0</td>\n",
       "    </tr>\n",
       "    <tr>\n",
       "      <th>day</th>\n",
       "      <td>0</td>\n",
       "    </tr>\n",
       "    <tr>\n",
       "      <th>decimal</th>\n",
       "      <td>0</td>\n",
       "    </tr>\n",
       "    <tr>\n",
       "      <th>average</th>\n",
       "      <td>0</td>\n",
       "    </tr>\n",
       "    <tr>\n",
       "      <th>ndays</th>\n",
       "      <td>0</td>\n",
       "    </tr>\n",
       "    <tr>\n",
       "      <th>1 year ago</th>\n",
       "      <td>0</td>\n",
       "    </tr>\n",
       "    <tr>\n",
       "      <th>10 years ago</th>\n",
       "      <td>0</td>\n",
       "    </tr>\n",
       "    <tr>\n",
       "      <th>increase since 1800</th>\n",
       "      <td>0</td>\n",
       "    </tr>\n",
       "  </tbody>\n",
       "</table>\n",
       "</div>"
      ],
      "text/plain": [
       "                     Number of Null Values\n",
       "year                                     0\n",
       "month                                    0\n",
       "day                                      0\n",
       "decimal                                  0\n",
       "average                                  0\n",
       "ndays                                    0\n",
       "1 year ago                               0\n",
       "10 years ago                             0\n",
       "increase since 1800                      0"
      ]
     },
     "execution_count": 17,
     "metadata": {},
     "output_type": "execute_result"
    }
   ],
   "source": [
    "path_ml =  'Data/co2_weekly_mlo.csv'              \n",
    "co2_data_ml = pd.read_csv(path_ml, header=0, comment='#')\n",
    "null_sum = (co2_data_ml.isna()).values.sum(axis=0)\n",
    "pd.DataFrame(data=null_sum, index=co2_data_ml.columns, columns=['Number of Null Values'])"
   ]
  },
  {
   "cell_type": "code",
   "execution_count": 33,
   "metadata": {},
   "outputs": [
    {
     "data": {
      "text/plain": [
       "Text(0.5, 0, 'Year')"
      ]
     },
     "execution_count": 33,
     "metadata": {},
     "output_type": "execute_result"
    },
    {
     "data": {
      "image/png": "[encoded data removed]",
      "text/plain": [
       "<Figure size 432x288 with 1 Axes>"
      ]
     },
     "metadata": {
      "needs_background": "light"
     },
     "output_type": "display_data"
    }
   ],
   "source": [
    "plt.plot(co2_data_ml['decimal'], co2_data_ml['average'], c = colours.durham.red,linestyle='', marker='o', markersize = 1)\n",
    "plt.ylabel('$CO_2$ (ppm)')\n",
    "plt.xlabel('Year')"
   ]
  },
  {
   "cell_type": "markdown",
   "metadata": {},
   "source": [
    "The weekly Mauna Loa data contains more fields than the global average data. However, the decimal format is still avalible. In this dataset, there is clear anomolous data-points. -1000 is a non physical concentration, so cleaning thr rows out which lack data for these weeks, is important before further processing goes ahead. "
   ]
  },
  {
   "cell_type": "code",
   "execution_count": 37,
   "metadata": {},
   "outputs": [
    {
     "data": {
      "text/plain": [
       "<matplotlib.legend.Legend at 0x7f0f416505b0>"
      ]
     },
     "execution_count": 37,
     "metadata": {},
     "output_type": "execute_result"
    },
    {
     "data": {
      "image/png": "[encoded data removed]",
      "text/plain": [
       "<Figure size 432x288 with 1 Axes>"
      ]
     },
     "metadata": {
      "needs_background": "light"
     },
     "output_type": "display_data"
    }
   ],
   "source": [
    "co2_data_ml = co2_data_ml[co2_data_ml['average']>0] # dataframe[mask] the mask provides an array of bools, which makes selecting the values you want efficient and easy\n",
    "#plotting\n",
    "plt.plot(co2_data_ml['decimal'], co2_data_ml['average'], c = colours.durham.red,linestyle='', marker='o', markersize = 1, label = 'Mauna Loa')\n",
    "plt.plot(co2_data_global['decimal'], co2_data_global['average'], c=colours.durham.purple, linestyle='', marker='o', markersize = 1, label = 'Global')\n",
    "plt.plot(co2_data_global['decimal'], co2_data_global['trend'], c=colours.durham.ink) \n",
    "plt.ylabel('$CO_2$ (ppm)')\n",
    "plt.xlabel('Year')\n",
    "plt.legend()"
   ]
  },
  {
   "cell_type": "code",
   "execution_count": null,
   "metadata": {},
   "outputs": [],
   "source": []
  }
 ],
 "metadata": {
  "interpreter": {
   "hash": "a46088b7c0406c06689d7e07885ac5c738a91551ff07af49abda945581724aff"
  },
  "kernelspec": {
   "display_name": "Python 3.8.8 ('CDS_book')",
   "language": "python",
   "name": "python3"
  },
  "language_info": {
   "codemirror_mode": {
    "name": "ipython",
    "version": 3
   },
   "file_extension": ".py",
   "mimetype": "text/x-python",
   "name": "python",
   "nbconvert_exporter": "python",
   "pygments_lexer": "ipython3",
   "version": "3.8.8"
  },
  "orig_nbformat": 4
 },
 "nbformat": 4,
 "nbformat_minor": 2
}
