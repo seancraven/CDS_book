{
 "cells": [
  {
   "cell_type": "markdown",
   "metadata": {
    "pycharm": {
     "name": "#%% md\n"
    }
   },
   "source": [
    "# Global Temperature Predictions\n",
    "\n",
    "In the previous few sections we have looked at the data from NOAA, and explored some statistical techniques. This section is a slight deviation as we look at a new data set on Global Temperatures.\n",
    "Using global temperature data combined with global $\\text{CO}_2$ concentration and warming data provided by the IPCC we compare a simple model with Global warming estimates laid out in the Special Report on Emission Scenarios(SRES){cite}`SRES`."
   ]
  },
  {
   "cell_type": "code",
   "execution_count": 9,
   "metadata": {
    "pycharm": {
     "name": "#%%\n"
    },
    "tags": [
     "remove-input"
    ]
   },
   "outputs": [],
   "source": [
    "import pandas as pd\n",
    "import numpy as np\n",
    "import matplotlib.pyplot as plt\n",
    "from dur_utils import colours\n",
    "from numpy.lib.stride_tricks import sliding_window_view\n",
    "from scipy.optimize import curve_fit\n",
    "from scipy import stats\n",
    "\n",
    "plt.style.use(\"../CDS.mplstyle\")"
   ]
  },
  {
   "cell_type": "markdown",
   "metadata": {
    "pycharm": {
     "name": "#%% md\n"
    }
   },
   "source": [
    "The global Temperature data is taken from [Berkley Earth](http://berkeleyearth.org/data/). The temperature data has missing fields as with the Global $\\text{CO}_2$ data. Further, the date is formatted awkwardly into a fixed width table format with commented-out headers. Finally, the global temperature data is seasonal. Thus some data cleaning and formatting is required.\n",
    "\n",
    "When ananlysing the data, a Fourier-based fit could be applied similarly to that performed in the section on Global $\\text{CO}_2$ data. Because this section is not looking for a functional form, an average is more straightforward to implement.\n",
    "\n",
    "After cleaning the data of null fields, a moving average can be used to remove the seasonal trends."
   ]
  },
  {
   "cell_type": "code",
   "execution_count": 10,
   "metadata": {
    "pycharm": {
     "name": "#%%\n"
    },
    "tags": [
     "remove-input"
    ]
   },
   "outputs": [
    {
     "data": {
      "text/html": [
       "<div>\n",
       "<style scoped>\n",
       "    .dataframe tbody tr th:only-of-type {\n",
       "        vertical-align: middle;\n",
       "    }\n",
       "\n",
       "    .dataframe tbody tr th {\n",
       "        vertical-align: top;\n",
       "    }\n",
       "\n",
       "    .dataframe thead th {\n",
       "        text-align: right;\n",
       "    }\n",
       "</style>\n",
       "<table border=\"1\" class=\"dataframe\">\n",
       "  <thead>\n",
       "    <tr style=\"text-align: right;\">\n",
       "      <th></th>\n",
       "      <th>Number of Null Values</th>\n",
       "    </tr>\n",
       "  </thead>\n",
       "  <tbody>\n",
       "    <tr>\n",
       "      <th>year</th>\n",
       "      <td>0</td>\n",
       "    </tr>\n",
       "    <tr>\n",
       "      <th>month</th>\n",
       "      <td>0</td>\n",
       "    </tr>\n",
       "    <tr>\n",
       "      <th>monthly_anomaly</th>\n",
       "      <td>1</td>\n",
       "    </tr>\n",
       "    <tr>\n",
       "      <th>monthly_anomaly_unc</th>\n",
       "      <td>1</td>\n",
       "    </tr>\n",
       "    <tr>\n",
       "      <th>dt</th>\n",
       "      <td>0</td>\n",
       "    </tr>\n",
       "  </tbody>\n",
       "</table>\n",
       "</div>"
      ],
      "text/plain": [
       "                     Number of Null Values\n",
       "year                                     0\n",
       "month                                    0\n",
       "monthly_anomaly                          1\n",
       "monthly_anomaly_unc                      1\n",
       "dt                                       0"
      ]
     },
     "execution_count": 10,
     "metadata": {},
     "output_type": "execute_result"
    }
   ],
   "source": [
    "# Load, Format and clean\n",
    "path = (\n",
    "    \"http://berkeleyearth.lbl.gov/auto/Global/Complete_TAVG_complete.txt\"\n",
    ")\n",
    "colnames = [\n",
    "    \"year\",\n",
    "    \"month\",\n",
    "    \"monthly_anomaly\",\n",
    "    \"monthly_anomaly_unc\",\n",
    "    \"yearly_anomaly\",\n",
    "    \"yearly_anomaly_unc\",\n",
    "    \"5yearly_anomaly\",\n",
    "    \"5yearly_anomaly_unc\",\n",
    "    \"10yearly_anomaly\",\n",
    "    \"10yearly_anomaly_unc\",\n",
    "    \"20yearly_anomaly\",\n",
    "    \"20yearly_anomaly_unc\",\n",
    "]\n",
    "temp_data = pd.read_fwf(path, skiprows=34, names=colnames)\n",
    "temp_data[\"dt\"] = temp_data[\"month\"] / 12 + temp_data[\"year\"]\n",
    "# remove the moving averages\n",
    "temp_data.drop(\n",
    "    columns=[\n",
    "        \"yearly_anomaly\",\n",
    "        \"yearly_anomaly_unc\",\n",
    "        \"5yearly_anomaly\",\n",
    "        \"5yearly_anomaly_unc\",\n",
    "        \"10yearly_anomaly\",\n",
    "        \"10yearly_anomaly_unc\",\n",
    "        \"20yearly_anomaly\",\n",
    "        \"20yearly_anomaly_unc\",\n",
    "    ],\n",
    "    inplace=True,\n",
    ")\n",
    "# Format data\n",
    "null_sum = (temp_data.isna()).values.sum(axis=0)\n",
    "path_ml = \"https://gml.noaa.gov/webdata/ccgg/trends/co2/co2_mm_gl.csv\"\n",
    "co2_data = pd.read_csv(path_ml, header=0, comment=\"#\")\n",
    "\n",
    "pd.DataFrame(\n",
    "    data=null_sum,\n",
    "    index=temp_data.columns,\n",
    "    columns=[\"Number of Null Values\"],\n",
    ")"
   ]
  },
  {
   "cell_type": "code",
   "execution_count": null,
   "outputs": [],
   "source": [
    "\"\"\"\n",
    "The sliding window view provided by numpy is used so that\n",
    "The moving averages can be calculated. \n",
    "\n",
    "The window length of 120 corresponds to a 10 year average.\n",
    "\"\"\"\n",
    "temp_data = temp_data.dropna()\n",
    "WINDOW = 120\n",
    "# Sliding window weighted average:\n",
    "slv = sliding_window_view(temp_data, WINDOW, 0)\n",
    "time_midpoint = np.mean(slv[:, -1, :], axis=1)\n",
    "win_ave_temp = slv[:, 2, :]\n",
    "win_ave_unc = slv[:, 3, :]"
   ],
   "metadata": {
    "collapsed": false,
    "pycharm": {
     "name": "#%%\n"
    }
   }
  },
  {
   "cell_type": "code",
   "execution_count": null,
   "outputs": [],
   "source": [
    "def moving_ave_frame(df: pd.DataFrame, window: int) -> pd.DataFrame:\n",
    "    \"Applies a moving average, with a fixed window size\"\n",
    "    slv = sliding_window_view(df, window, axis=0)\n",
    "    moving_averages = np.mean(slv, axis=2)\n",
    "    ma_df = pd.DataFrame(moving_averages, columns=df.keys())\n",
    "    return ma_df\n",
    "\n",
    "\n",
    "def moving_std_frame(df: pd.DataFrame, window: int) -> pd.DataFrame:\n",
    "    \"Applies a moving average, provides the standard deviation\"\n",
    "    slv = sliding_window_view(df, window, axis=0)\n",
    "    moving_averages = np.std(slv, axis=2) / np.sqrt(window)\n",
    "    ma_df = pd.DataFrame(moving_averages, columns=df.keys())\n",
    "    return ma_df\n",
    "\n",
    "\n",
    "def lb_ub(values, sigma, factor=1):\n",
    "    lb = values - sigma * factor\n",
    "    ub = values + sigma * factor\n",
    "    return lb, ub\n",
    "\n",
    "\n",
    "def P1(x, a0, a1):\n",
    "    return a0 + a1 * x"
   ],
   "metadata": {
    "collapsed": false,
    "pycharm": {
     "name": "#%%\n"
    }
   }
  },
  {
   "cell_type": "code",
   "execution_count": null,
   "outputs": [],
   "source": [
    "fig, ax = plt.subplots(1, 1, figsize=(10, 6))\n",
    "ave_temp = np.mean(win_ave_temp, axis=1)\n",
    "ave_unc = np.mean(win_ave_unc, axis=1)\n",
    "lb, ub = lb_ub(ave_temp, ave_unc)\n",
    "# Plotting\n",
    "ax.plot(time_midpoint, ave_temp, color=colours.durham.ink)\n",
    "ax.fill_between(time_midpoint, lb, ub, color=colours.durham.ink, alpha=0.2)\n",
    "ax.set_xlabel(\"Window Midpoint (Year)\")\n",
    "ax.set_ylabel(\n",
    "    \"10 Year Moving Average of \\n \\\n",
    "    Land Average Temperature Anomaly $(^{\\circ}C)$\"\n",
    ");"
   ],
   "metadata": {
    "collapsed": false,
    "pycharm": {
     "name": "#%%\n"
    }
   }
  },
  {
   "cell_type": "markdown",
   "source": [
    "## Predictions\n",
    "Global temperatures provide an interesting case study for a further introduction to predictive modeling. \n",
    "\n",
    "There has already been substantial warming compared to the period from $1850-1900$. This period is set as a pre-industrial baseline{cite}`preindbaseline`. Further temperature rises will continue to increase the occurrence of extreme weather events and myriad other consequences, with an entire [IPCC](https://www.ipcc.ch/sr15/) report dedicated to the consequences of warming over $1.5^\\circ C$. The special report on emission scenarios(SRES){cite}`SRES` produced by the IPCC in 2000, details multiple families of emission scenarios with their associated warming. \n",
    "\n",
    "These scenarios are developed using six independent models. Such models use economic driving forces and predict the consequences of changing macro-economic behavior, for example, the percentage of fossil fuel used compared to renewables. \n",
    "\n",
    "These highly detailed models are beyond the scope of the section. Using $\\text{CO}_2$ concentration, a simple model can be formed to determine the change in temperature over the next 30 years.\n",
    "The three scenarios that will be investigated are approximations of the A1 and B1 storylines described from page 247 onwards in the [SRES](https://www.ipcc.ch/site/assets/uploads/2018/03/emissions_scenarios-1.pdf).\n",
    "- A1B) Continued growth in emission Rates. This scenario represents a growth-focused world with a balanced mix of energy sources. \n",
    "- A1T) Net-zero by 2030, no further reductions. This scenario corresponds to a growth-focused world with renewable energy sources.\n",
    "- B1) Net-zero by 2030, and then reducing total atmospheric carbon at the same rate it is currently produced. Corresponding to a global focus on emissions reduction.\n",
    "The relationship between $\\text{CO}_2$ concentration used is:\n",
    "\n",
    "```{math}\n",
    "T(C) = T_0 + S \\log_2(C/C_0).\n",
    "```\n",
    "Where $C$ is the concentration of $\\text{CO}_2$ and $S$ is a fitted sensitivity factor."
   ],
   "metadata": {
    "collapsed": false,
    "pycharm": {
     "name": "#%% md\n"
    }
   }
  },
  {
   "cell_type": "markdown",
   "source": [
    "## Current Warming trend "
   ],
   "metadata": {
    "collapsed": false,
    "pycharm": {
     "name": "#%% md\n"
    }
   }
  },
  {
   "cell_type": "code",
   "execution_count": null,
   "outputs": [],
   "source": [
    "trend_data = temp_data[temp_data[\"dt\"] > 1960]\n",
    "trend_ave = moving_ave_frame(trend_data, WINDOW)\n",
    "lb, ub = lb_ub(\n",
    "    trend_ave[\"monthly_anomaly\"], trend_ave[\"monthly_anomaly_unc\"]\n",
    ")\n",
    "trend_ave.to_csv(\n",
    "    f\"../output_files/temperature_{int(WINDOW/12)}\" \"_moving_average.csv\"\n",
    ")\n",
    "trend_fit, trend_error = curve_fit(\n",
    "    P1,\n",
    "    trend_ave[\"dt\"],\n",
    "    trend_ave[\"monthly_anomaly\"],\n",
    "    sigma=trend_ave[\"monthly_anomaly_unc\"],\n",
    ")\n",
    "gradient_lb, gradient_ub = lb_ub(trend_fit[1], trend_error[1, 1])\n",
    "lb, ub = lb_ub(\n",
    "    trend_ave[\"monthly_anomaly\"], trend_ave[\"monthly_anomaly_unc\"]\n",
    ")\n",
    "# Plotting\n",
    "fig, ax = plt.subplots(1, 1, figsize=(10, 6))\n",
    "time = np.linspace(2017.3, 2055, 300)\n",
    "trend_lb = trend_fit - np.diagonal(trend_error)\n",
    "trend_ub = trend_fit + np.diagonal(trend_error)\n",
    "plt.fill_between(\n",
    "    trend_ave[\"dt\"], lb, ub, alpha=0.2, color=colours.durham.ink\n",
    ")\n",
    "plt.plot(\n",
    "    trend_ave[\"dt\"],\n",
    "    trend_ave[\"monthly_anomaly\"],\n",
    "    c=colours.durham.ink,\n",
    "    label=\"Moving Average\",\n",
    ")\n",
    "plt.plot(\n",
    "    time,\n",
    "    P1(time, *trend_fit),\n",
    "    linestyle=\"--\",\n",
    "    color=colours.durham.ink,\n",
    "    label=\"Linear Trend\",\n",
    ")\n",
    "ax.set_xlabel(\"Window Midpoint (Year)\")\n",
    "ax.set_ylabel(\n",
    "    f\"{int(WINDOW / 12)} Year Moving Average of \\n\"\n",
    "    r\"Land Average Temperature Anomaly $(^{\\circ}\\textrm{{C}})$\"\n",
    ")\n",
    "# Warming Targets\n",
    "x = np.linspace(1960, 2055, 100)\n",
    "y = np.ones_like(x)\n",
    "plt.plot(\n",
    "    x,\n",
    "    y * 1.5,\n",
    "    color=colours.durham.red,\n",
    "    label=\"$1.5^\\circ C$ Warming\",\n",
    "    linestyle=\"--\",\n",
    ")\n",
    "plt.plot(\n",
    "    x,\n",
    "    y * 2,\n",
    "    color=colours.durham.red,\n",
    "    label=\"$2.0^\\circ C$ Warming\",\n",
    "    linestyle=\"-.\",\n",
    ")\n",
    "plt.fill_between(time, P1(time, *trend_lb), P1(time, *trend_ub))\n",
    "plt.legend();"
   ],
   "metadata": {
    "collapsed": false,
    "pycharm": {
     "name": "#%%\n"
    }
   }
  },
  {
   "cell_type": "markdown",
   "source": [
    "With a simple linear extrapolation of the Berkeley Earth temperature data, one can see that if the current rate of warming persists, then keeping the Global Temperature anomaly below $1.5^\\circ C$ is unlikely, moving into the future. However, this simple model is just for getting a feeling of the data. By combining this dataset with the Global $\\text{CO}_2$ data, the correlation of these datasets can be examined.  Both of the datasets' moving averages are plotted below for a visual comparison. Further, the Pearson correlation co-efficient $(r)$ can be calculated for the datasets. $r$ is given by,\n",
    "```{math}\n",
    "r(x,y) = \\frac{\\sum (x_i-\\bar{x})(y_i-\\bar{y})}{\\sqrt{\\sum (x_i-\\bar{x})^2 \\sum (y_i-\\bar{y})^2 }}.\n",
    "```\n",
    "Where $\\bar{q}$ indicates the mean of $q$. The $r$ value can be calculated for the global $\\text{CO}_2$ concentration and the temperature by taking both variables evaluated simultaneously in time. \n",
    "\n",
    "```{note}\n",
    "The error bars on the $\\text{CO_2}$ concentration are two times the standard error on the mean. However, the error bars on the temperature is the mean of the uncertainty over the window. This is because the uncertainty corresponds to 95\\% of recorded percentages.  \n",
    "```"
   ],
   "metadata": {
    "collapsed": false,
    "pycharm": {
     "name": "#%% md\n"
    }
   }
  },
  {
   "cell_type": "code",
   "execution_count": null,
   "outputs": [],
   "source": [
    "trend_co2_data = co2_data[co2_data[\"decimal\"] > 1960]\n",
    "trend_co2_ave = moving_ave_frame(co2_data, WINDOW)\n",
    "trend_co2_std = moving_std_frame(co2_data, WINDOW)\n",
    "co2_lb, co2_ub = lb_ub(\n",
    "    trend_co2_ave[\"average\"], trend_co2_std[\"average\"], factor=2\n",
    ")\n",
    "trend_co2_ave.to_csv(\n",
    "    f\"../output_files/co2_{int(WINDOW/12)}\" \"_moving_average.csv\"\n",
    ")\n",
    "trend_co2_std.to_csv(\n",
    "    f\"../output_files/co2_{int(WINDOW/12)}\" \"_moving_std.csv\"\n",
    ")\n",
    "fig, ax = plt.subplots(1, 1, figsize=(10, 6))\n",
    "# Temp\n",
    "ax1 = ax.twinx()\n",
    "ax.plot(\n",
    "    trend_ave[\"dt\"],\n",
    "    trend_ave[\"monthly_anomaly\"],\n",
    "    c=colours.durham.ink,\n",
    "    label=\"Moving Average\",\n",
    ")\n",
    "ax.fill_between(\n",
    "    trend_ave[\"dt\"], lb, ub, alpha=0.2, color=colours.durham.red\n",
    ")\n",
    "\n",
    "ax.set_ylabel(\n",
    "    f\"{int(WINDOW / 12)} Year Moving Average of \\n\"\n",
    "    r\"Land Average Temperature Anomaly $(^{\\circ}\\textrm{{C}})$\"\n",
    ")\n",
    "ax.set_yticks(\n",
    "    np.arange(-0.2, 1.4, 0.2),\n",
    "    np.round(np.arange(-0.2, 1.4, 0.2), 2),\n",
    "    color=colours.durham.red,\n",
    ")\n",
    "ax.set_xlabel(\"Window Midpoint (Year)\")\n",
    "# CO2\n",
    "ax1.plot(\n",
    "    trend_co2_ave[\"decimal\"],\n",
    "    trend_co2_ave[\"average\"],\n",
    "    color=colours.durham.ink,\n",
    ")\n",
    "ax1.fill_between(\n",
    "    trend_co2_ave[\"decimal\"],\n",
    "    co2_lb,\n",
    "    co2_ub,\n",
    "    alpha=0.2,\n",
    "    color=colours.durham.ink,\n",
    ")\n",
    "ax1.set_ylabel(\n",
    "    rf\"{int(WINDOW / 12)} Year Moving Average of\"\n",
    "    r\" $\\textrm{{CO}}_2$ (ppm)\"\n",
    ")\n",
    "\n",
    "plt.xlim(1985, 2017);"
   ],
   "metadata": {
    "collapsed": false,
    "pycharm": {
     "name": "#%%\n"
    }
   }
  },
  {
   "cell_type": "code",
   "execution_count": null,
   "outputs": [],
   "source": [
    "\"\"\"\n",
    "To calculate the correlation coefficient, the arrays must \n",
    "have the same size along the time axis. So they are clipped\n",
    "for this calculation. \n",
    "\"\"\"\n",
    "\n",
    "co2_slice = np.where(\n",
    "    (1985 < trend_co2_ave[\"decimal\"]) & (trend_co2_ave[\"decimal\"] < 2016)\n",
    ")\n",
    "temp_slice = np.where((1985 < trend_ave[\"dt\"]) & (trend_ave[\"dt\"] < 2016))\n",
    "bound_co2 = trend_co2_ave[\"average\"].iloc[co2_slice]\n",
    "bound_temp = trend_ave[\"monthly_anomaly\"].iloc[temp_slice]\n",
    "r_coef = stats.pearsonr(bound_co2, np.array(bound_temp)[1:])\n",
    "print(f\"Pearson Correlation Coefficient:{r_coef[0]:.2}\")"
   ],
   "metadata": {
    "collapsed": false,
    "pycharm": {
     "name": "#%%\n"
    }
   }
  },
  {
   "cell_type": "markdown",
   "metadata": {
    "pycharm": {
     "name": "#%% md\n"
    }
   },
   "source": [
    "As expected the two quantities are very strongly correlated. The Pearson correlation coefficient in this scenario is not particularly useful. The information it provides is redundant with the above graph. However, with high dimensional data, a correlation matrix can glean insight into the relationship of variables. A short medium article on correlation matrix plots can be found [here](https://towardsdatascience.com/better-heatmaps-and-correlation-matrix-plots-in-python-41445d0f2bec)"
   ]
  }
 ],
 "metadata": {
  "celltoolbar": "Tags",
  "kernelspec": {
   "display_name": "Python 3 (ipykernel)",
   "language": "python",
   "name": "python3"
  },
  "language_info": {
   "codemirror_mode": {
    "name": "ipython",
    "version": 3
   },
   "file_extension": ".py",
   "mimetype": "text/x-python",
   "name": "python",
   "nbconvert_exporter": "python",
   "pygments_lexer": "ipython3",
   "version": "3.9.12"
  },
  "vscode": {
   "interpreter": {
    "hash": "59741db575107ab5410b00365ec93382e14756ed49d68fa4219f7bcb47931d56"
   }
  }
 },
 "nbformat": 4,
 "nbformat_minor": 2
}