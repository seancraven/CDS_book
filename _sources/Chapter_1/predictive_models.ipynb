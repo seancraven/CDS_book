{
 "cells": [
  {
   "cell_type": "markdown",
   "metadata": {
    "pycharm": {
     "name": "#%% md\n"
    }
   },
   "source": [
    "# Predictive Modeling \n",
    "One of the critical uses of data recorded in the past is to attempt to make inferences about the future. Making predictions about future events on time series data can be done by forming a model on historical data.\n",
    "\n",
    "An introductory example of the general methodology of data-driven predictions using partitioning data into; training, validation and testing sections is explored. These sections are used as follows; the data is used to derive a model from the training data. Next, this model is tested on available validation data. Finally, the model is applied to the testing data to predict its behaviour. \n",
    "\n",
    "A straightforward example of predictive modelling using linear regression is taken from the previous section and walked through. The question is to test if there is an observable drop-in $\\textrm{CO}_2$ from the pandemic. In the previous section, a model was derived using least-squares regression and Fourier series of the form eq.{eq}`model`. In this example, the free coefficient of the model will be discerned from the period from 1980 up to 2018. This period gives a large window to learn from to avoid learning overly patterns unique to a few years, while also providing a good fit with the validation window of $2018, 2019$.\n",
    "\n",
    "When performing any supervised prediction task, a training data set is selected. A training set is data in which the independent and dependent variables are known. In the example of detecting covid, the form of the predicted quantity is slightly obscured, ie the occurrence of an anomalous change in $\\textrm{CO}_2$ concentration. However, when modelling of $\\textrm{CO}_2$ concentration, $\\textrm{CO}_2$ concentration and time are the dependent and independent variables, respectively. The model is then built from this data. For least-squares fitting, this constitutes determining the form of the function and evaluating the free coefficients.\n",
    "\n",
    "Using the previously developed model, the validation data is then investigated. This must not overlap with the training data. In the global $\\textrm{CO}_2$ data, using the years $2018, 2019$ provides a period as similar as possible to the test window $2020, 2021$ asides from the pandemic anomaly being tested for. The quality of the model is then assessed on the validation data. Because the actual value of the validation data is known(There were no pandemics), the model's efficacy can be assessed here using the $\\chi^2$ metric.\n",
    "\n",
    "If the model's behaviour on the validation set is satisfactory. Then the model can be used to investigate the test case. If there was a significant deviation from eq.{eq}`model` in 2020, then the presence of the pandemic can be shown."
   ]
  },
  {
   "cell_type": "code",
   "execution_count": 1,
   "metadata": {
    "tags": [
     "remove-input"
    ],
    "pycharm": {
     "name": "#%%\n"
    }
   },
   "outputs": [],
   "source": [
    "import scipy.optimize\n",
    "import numpy as np\n",
    "import matplotlib.pyplot as plt\n",
    "import pandas as pd\n",
    "from dur_utils import colours\n",
    "from scipy import stats\n",
    "from matplotlib import cycler\n",
    "import inspect\n",
    "from typing import Tuple\n",
    "\n",
    "plt.style.use(\"../CDS.mplstyle\")\n",
    "\n",
    "path_ml = \"https://gml.noaa.gov/webdata/ccgg/trends/co2/co2_mm_mlo.csv\"\n",
    "co2_data_ml = pd.read_csv(path_ml, header=0, comment=\"#\")\n",
    "co2_data_ml = co2_data_ml[co2_data_ml[\"sdev\"] > 0]"
   ]
  },
  {
   "cell_type": "code",
   "execution_count": 2,
   "metadata": {
    "tags": [
     "hide-input"
    ],
    "pycharm": {
     "name": "#%%\n"
    }
   },
   "outputs": [],
   "source": [
    "\"\"\"\n",
    "Here we define the model used and some of the ranges for our train, test,\n",
    "and validate datasets.\n",
    "Finally, the parameters for hypothesis testing are defined.\n",
    "\"\"\"\n",
    "def model(x, a_0, a_1, omega_0, omega_1, c, p_1, p_2, p_3):\n",
    "    polynomial = x * p_1 + x**2 * p_2 + x**3 * p_3\n",
    "    trig = a_0 * np.cos((x + 1 / 2) * 2 * np.pi * omega_0) + a_1 * np.cos(\n",
    "        (x + 1 / 2) * 2 * np.pi * omega_1\n",
    "    )\n",
    "    return c + trig + polynomial\n",
    "\n",
    "\n",
    "# Training Set\n",
    "test_years = [i for i in range(1980, 2020)]\n",
    "mask = np.isin(co2_data_ml[\"year\"], test_years)\n",
    "train_co2_data = co2_data_ml.iloc[mask]\n",
    "# Validation Set\n",
    "val_years = [i for i in range(2018, 2020)]\n",
    "mask = np.isin(co2_data_ml[\"year\"], val_years)\n",
    "val_co2_data = co2_data_ml.iloc[mask]\n",
    "# Test Set\n",
    "test_years = [i for i in range(2020, 2021)]\n",
    "mask = np.isin(co2_data_ml[\"year\"], test_years)\n",
    "test_co2_data = co2_data_ml.iloc[mask]\n",
    "# Fitting\n",
    "model_fit, model_error = scipy.optimize.curve_fit(\n",
    "    model,\n",
    "    co2_data_ml[\"decimal date\"],\n",
    "    co2_data_ml[\"average\"],\n",
    "    sigma=co2_data_ml[\"sdev\"],\n",
    "    p0=[5, 5, 1, 2, -2 * 10**6, 3 * 10**3, 0, 0,],  # Inital Parameter Guess\n",
    ")\n",
    "# chisq\n",
    "model_ml = model(co2_data_ml[\"decimal date\"], *model_fit)\n",
    "model_residuals = model_ml - co2_data_ml[\"average\"]\n",
    "chisq_model = np.sum((model_residuals / co2_data_ml[\"sdev\"]) ** 2)\n",
    "nu_model = co2_data_ml[\"average\"].shape[0] - len(model_fit)\n",
    "p_model = stats.chi2.sf(chisq_model, nu_model)\n",
    "chi_crit = stats.chi2.isf(0.05, nu_model)\n"
   ]
  },
  {
   "cell_type": "markdown",
   "metadata": {
    "pycharm": {
     "name": "#%% md\n"
    }
   },
   "source": [
    "```{margin} Classes\n",
    "[Classes](https://docs.python.org/3/tutorial/classes.html) are the staple of Object oriented programming(OOP). An example is the `FittedModel` class. A class can be called and has methods and atributes. Methods are functions of the object. Atributes are values stored inside the class. A good example of a class is a list. It has multiple functions like `__len__()` which returns the instance of the classes length. The ` __init__()` dunder method initialises the class, creating an instance. The instance here is the specific object, a list of `[1, 2, 3]`.  The atributes of the list are its values. When implementing a class it is considered good practice to only have users interact with methods. Chapter 10 of [Python Programming: An introduction to Computer Science](https://www.google.co.uk/books/edition/Python_Programming/) covers Classes well. However, there are many guides online to their implementation. \n",
    "```"
   ]
  },
  {
   "cell_type": "code",
   "execution_count": 2,
   "metadata": {
    "tags": [
     "hide-input"
    ],
    "pycharm": {
     "name": "#%%\n"
    }
   },
   "outputs": [],
   "source": [
    "\n",
    "\n",
    "class FittedModel:\n",
    "    \"\"\"\n",
    "    Here we define a Fitted model class, because we are testing multiple\n",
    "    models of the same form, it makes sense to build a tool to speed up the\n",
    "    process of fitting the model and calculating values of interest.\n",
    "    The python class, method framework is a great way of implementing a\n",
    "    task like this.\n",
    "\n",
    "    If this were to be a larger project, one might write the class in a\n",
    "    separate file and then import it as and when you need it.\n",
    "    \"\"\"\n",
    "    def __init__(\n",
    "        self, fn, x, y, sigma=None, p0=None, name=None, fit_coefs=None\n",
    "    ):\n",
    "        self.fn = fn\n",
    "        self.x = x\n",
    "        self.y = y\n",
    "        self.sigma = sigma\n",
    "        self.p0 = p0\n",
    "        self.name = name\n",
    "        if fit_coefs:\n",
    "            self.fit_coefs, self.fit_errs = fit_coefs\n",
    "            self.fit_errs = None\n",
    "        else:\n",
    "            self.fit_coefs, self.fit_cov = self.get_fit()\n",
    "            self.fit_errs = np.diagonal(self.fit_cov) ** 0.5\n",
    "\n",
    "    def get_fit(self) -> Tuple:\n",
    "        \"\"\"Applies scipy.optimize.curve_fit() to the passed args.\n",
    "\n",
    "        Returns:\n",
    "             fit_coefs array, correlation_array\n",
    "        \"\"\"\n",
    "        model_fit, model_error = scipy.optimize.curve_fit(\n",
    "            self.fn, self.x, self.y, sigma=self.sigma, p0=self.p0\n",
    "        )\n",
    "        return model_fit, model_error\n",
    "\n",
    "    def fit_data(self):\n",
    "        \"\"\"Returns the fitted function evaluated on x\"\"\"\n",
    "        return self.fn(self.x, *self.fit_coefs)\n",
    "\n",
    "    def get_chi2(self) -> int:\n",
    "        \"\"\"Returns the chi^2 value of the model\"\"\"\n",
    "        fit = self.fit_data()\n",
    "        residuals = fit - self.y\n",
    "        if self.sigma is not None:\n",
    "            chi2 = np.sum((residuals / self.sigma) ** 2)\n",
    "        else:\n",
    "            print(\"No uncertainty, using expectation.\")\n",
    "            print(\"Expectation of the values is: E(residuals)\")\n",
    "            chi2 = np.sum((residuals / np.mean(residuals)) ** 2)\n",
    "        return chi2\n",
    "\n",
    "    def get_nu(self) -> int:\n",
    "        \"\"\"Returns the degrees of freedom of the model\"\"\"\n",
    "        return len(self.x) - len(self.fit_coefs)\n",
    "\n",
    "    def get_sf(self) -> int:\n",
    "        \"\"\"Returns P(chi^2 > chi^2_min)\"\"\"\n",
    "        chi_min = self.get_chi2()\n",
    "        nu = self.get_nu()\n",
    "        return scipy.stats.chi2.sf(chi_min, nu)\n",
    "\n",
    "    def print_errors(self):\n",
    "        \"\"\"Prints the model's coefficients associated errors\"\"\"\n",
    "        coef_names = inspect.getfullargspec(self.fn).args\n",
    "        for i, (value, error) in enumerate(\n",
    "            zip(self.fit_coefs, self.fit_errs)\n",
    "        ):\n",
    "            if error:\n",
    "                print(f\"{coef_names[1+i]} = {value:.2} +_ {error:.1}\")\n",
    "            else:\n",
    "                print(\"No error. The model was fitted on other Data\")"
   ]
  },
  {
   "cell_type": "code",
   "execution_count": 1,
   "metadata": {
    "pycharm": {
     "name": "#%%\n"
    }
   },
   "outputs": [
    {
     "ename": "NameError",
     "evalue": "name 'FittedModel' is not defined",
     "output_type": "error",
     "traceback": [
      "\u001B[0;31m---------------------------------------------------------------------------\u001B[0m",
      "\u001B[0;31mNameError\u001B[0m                                 Traceback (most recent call last)",
      "Input \u001B[0;32mIn [1]\u001B[0m, in \u001B[0;36m<cell line: 1>\u001B[0;34m()\u001B[0m\n\u001B[0;32m----> 1\u001B[0m train \u001B[38;5;241m=\u001B[39m \u001B[43mFittedModel\u001B[49m(\n\u001B[1;32m      2\u001B[0m     model,\n\u001B[1;32m      3\u001B[0m     train_co2_data[\u001B[38;5;124m\"\u001B[39m\u001B[38;5;124mdecimal date\u001B[39m\u001B[38;5;124m\"\u001B[39m],\n\u001B[1;32m      4\u001B[0m     train_co2_data[\u001B[38;5;124m\"\u001B[39m\u001B[38;5;124maverage\u001B[39m\u001B[38;5;124m\"\u001B[39m],\n\u001B[1;32m      5\u001B[0m     sigma\u001B[38;5;241m=\u001B[39mtrain_co2_data[\u001B[38;5;124m\"\u001B[39m\u001B[38;5;124msdev\u001B[39m\u001B[38;5;124m\"\u001B[39m],\n\u001B[1;32m      6\u001B[0m     p0\u001B[38;5;241m=\u001B[39m[\u001B[38;5;241m5\u001B[39m, \u001B[38;5;241m5\u001B[39m, \u001B[38;5;241m1\u001B[39m, \u001B[38;5;241m2\u001B[39m, \u001B[38;5;241m0\u001B[39m, \u001B[38;5;241m0\u001B[39m, \u001B[38;5;241m0\u001B[39m, \u001B[38;5;241m0\u001B[39m],\n\u001B[1;32m      7\u001B[0m     name\u001B[38;5;241m=\u001B[39m\u001B[38;5;124m\"\u001B[39m\u001B[38;5;124mTraining Model\u001B[39m\u001B[38;5;124m\"\u001B[39m,\n\u001B[1;32m      8\u001B[0m )\n\u001B[1;32m      9\u001B[0m test \u001B[38;5;241m=\u001B[39m FittedModel(\n\u001B[1;32m     10\u001B[0m     model,\n\u001B[1;32m     11\u001B[0m     test_co2_data[\u001B[38;5;124m\"\u001B[39m\u001B[38;5;124mdecimal date\u001B[39m\u001B[38;5;124m\"\u001B[39m],\n\u001B[0;32m   (...)\u001B[0m\n\u001B[1;32m     15\u001B[0m     fit_coefs\u001B[38;5;241m=\u001B[39mtrain\u001B[38;5;241m.\u001B[39mget_fit(),\n\u001B[1;32m     16\u001B[0m )\n\u001B[1;32m     17\u001B[0m val \u001B[38;5;241m=\u001B[39m FittedModel(\n\u001B[1;32m     18\u001B[0m     model,\n\u001B[1;32m     19\u001B[0m     val_co2_data[\u001B[38;5;124m\"\u001B[39m\u001B[38;5;124mdecimal date\u001B[39m\u001B[38;5;124m\"\u001B[39m],\n\u001B[0;32m   (...)\u001B[0m\n\u001B[1;32m     23\u001B[0m     fit_coefs\u001B[38;5;241m=\u001B[39mtrain\u001B[38;5;241m.\u001B[39mget_fit(),\n\u001B[1;32m     24\u001B[0m )\n",
      "\u001B[0;31mNameError\u001B[0m: name 'FittedModel' is not defined"
     ]
    }
   ],
   "source": [
    "\"\"\"\n",
    "Here we use the FittedModel class on our data. As you can see rather\n",
    "than writing the same code over and over again this interface once built,\n",
    "saves time and effort.\n",
    "\"\"\"\n",
    "\n",
    "train = FittedModel(\n",
    "    model,\n",
    "    train_co2_data[\"decimal date\"],\n",
    "    train_co2_data[\"average\"],\n",
    "    sigma=train_co2_data[\"sdev\"],\n",
    "    p0=[5, 5, 1, 2, 0, 0, 0, 0],\n",
    "    name=\"Training Model\",\n",
    ")\n",
    "test = FittedModel(\n",
    "    model,\n",
    "    test_co2_data[\"decimal date\"],\n",
    "    test_co2_data[\"average\"],\n",
    "    sigma=test_co2_data[\"sdev\"],\n",
    "    name=\"Test Model\",\n",
    "    fit_coefs=train.get_fit(),\n",
    ")\n",
    "val = FittedModel(\n",
    "    model,\n",
    "    val_co2_data[\"decimal date\"],\n",
    "    val_co2_data[\"average\"],\n",
    "    sigma=val_co2_data[\"sdev\"],\n",
    "    name=\"Validation Model\",\n",
    "    fit_coefs=train.get_fit(),\n",
    ")\n",
    "\n",
    "print(\"Training Model Co-efficients\")\n",
    "train.print_errors()"
   ]
  },
  {
   "cell_type": "markdown",
   "metadata": {
    "pycharm": {
     "name": "#%% md\n"
    }
   },
   "source": [
    "### Problems with error on $P_0$ and $P_1$\n",
    "The error on both quantities is astronomically high, around 10%. Further, it can be shown that it is an inaccurate measurement. If one changes the starting position for these quantities, the `p0` `kwarg` for `scipy.optimize.curve_fit`, the results do not oscillate around the obtained values indicating that the distribution of possible values is much tighter than the actual result. A better estimate of such errors can be determined by performing the fit with random start values centered around the obtained value.  \n"
   ]
  },
  {
   "cell_type": "code",
   "execution_count": 5,
   "metadata": {
    "tags": [
     "remove-input"
    ],
    "pycharm": {
     "name": "#%%\n"
    }
   },
   "outputs": [
    {
     "name": "stdout",
     "output_type": "stream",
     "text": [
      "C coefficent:-2e+06 +_ 2e-10 \n",
      "P_1 coefficient:3e+03 +_ 9e-13\n"
     ]
    }
   ],
   "source": [
    "c_mean, p_mean = train.fit_coefs[[4, 5]]\n",
    "length = 1000\n",
    "coef_df = pd.DataFrame(np.zeros((length, 2)), columns=[\"c\", \"p_1\"])\n",
    "for i, _ in enumerate(coef_df):\n",
    "    c_0 = np.random.normal(loc=c_mean, scale=abs(c_mean / 10))\n",
    "    p_1_0 = np.random.normal(loc=p_mean, scale=abs(p_mean / 10))\n",
    "    error_train = FittedModel(\n",
    "        model,\n",
    "        train_co2_data[\"decimal date\"],\n",
    "        train_co2_data[\"average\"],\n",
    "        sigma=train_co2_data[\"sdev\"],\n",
    "        p0=[5, 5, 1, 2, c_0, p_1_0, 0, 0],\n",
    "        name=\"Training Model\",\n",
    "    )\n",
    "    coef_df.iloc[\n",
    "        :,\n",
    "    ] = error_train.fit_coefs[[4, 5]]\n",
    "coef_mean = np.mean(coef_df, axis=0)\n",
    "coef_ste = np.std(coef_df, axis=0)\n",
    "print(\n",
    "    f\"C coefficient:{coef_mean[0]:.2} +_ {coef_ste[0]:.1} \\n\"\n",
    "    f\"P_1 coefficient:{coef_mean[1]:.2} +_ {coef_ste[1]:.1}\"\n",
    ")\n",
    "train.fit_errs[[4, 5]] = coef_ste"
   ]
  },
  {
   "cell_type": "code",
   "execution_count": 6,
   "metadata": {
    "tags": [
     "remove-imput"
    ],
    "pycharm": {
     "name": "#%%\n"
    }
   },
   "outputs": [],
   "source": [
    "# params\n",
    "labels = [\"a_0\", \"a_1\", \"omega_0\", \"omega_1\", \"c\", \"p_1\", \"p_2\", \"p_3\"]\n",
    "model_fit_params = pd.Series(train.fit_coefs, index=labels)\n",
    "fname = \"../output_files/co2_model_parameters.csv\"\n",
    "model_fit_params.to_csv(fname)\n",
    "# errors\n",
    "model_cov_frame = pd.Series(train.fit_errs, index=labels)\n",
    "fname = \"../output_files/co2_model_parameters_errors.csv\"\n",
    "\n",
    "model_cov_frame.to_csv(fname)"
   ]
  },
  {
   "cell_type": "code",
   "execution_count": 7,
   "metadata": {
    "tags": [
     "hide-input"
    ],
    "pycharm": {
     "name": "#%%\n"
    }
   },
   "outputs": [
    {
     "name": "stdout",
     "output_type": "stream",
     "text": [
      "Training Model\n",
      "chi^2 = 1.005e+03\n",
      "chi^2/nu = 2.134\n",
      "P(chi^2 > chi^2_min) = 7.862e-41\n",
      "\n",
      "Validation Model\n",
      "chi^2 = 13.67\n",
      "chi^2/nu = 0.8541\n",
      "P(chi^2 > chi^2_min) = 0.6236\n",
      "\n",
      "Test Model\n",
      "chi^2 = 9.291\n",
      "chi^2/nu = 2.323\n",
      "P(chi^2 > chi^2_min) = 0.05423\n",
      "\n"
     ]
    }
   ],
   "source": [
    "for model_ in [train, val, test]:\n",
    "    print(model_.name)\n",
    "    print(f\"chi^2 = {model_.get_chi2():.4}\")\n",
    "    print(f\"chi^2/nu = {model_.get_chi2()/model_.get_nu():.4}\")\n",
    "    print(f\"P(chi^2 > chi^2_min) = {model_.get_sf():.4}\")\n",
    "    print(\"\")"
   ]
  },
  {
   "cell_type": "markdown",
   "metadata": {
    "pycharm": {
     "name": "#%% md\n"
    }
   },
   "source": [
    "## Results\n",
    "The output $\\chi^2$ statistics for the training model are to be desired, with a very low probability that the model demonstrates a good fit. However, This is not particularly important for the current test. Inspecting the performance of the model on the validation period, the model provides a good fit. This is exemplified by the $P(\\chi^2 \\geq \\chi^2_{min};\\nu) = 0.63$, well inside a significance level of 5 percent. This strong agreement between the validation data and the model suggests that the model is extended into the testing regime. \n",
    "\n",
    "In the testing regime, the $P(\\chi^2 \\geq \\chi^2_{min};\\nu) = 0.055$. This $P$ value indicates that approximately 5% of the time, the random variable normalised residuals would be distributed in such a manner. This extrapolation is pushing the bounds of the model. In this case, there is insufficient evidence to say that there has been a noticeable downwards trend in $\\textrm{CO}_2$ production over the year $2020$. "
   ]
  },
  {
   "cell_type": "code",
   "execution_count": 8,
   "metadata": {
    "tags": [
     "hide-input"
    ],
    "pycharm": {
     "name": "#%%\n"
    }
   },
   "outputs": [
    {
     "data": {
      "image/png": "[encoded data removed]",
      "text/plain": [
       "<Figure size 720x720 with 3 Axes>"
      ]
     },
     "metadata": {
      "needs_background": "light"
     },
     "output_type": "display_data"
    }
   ],
   "source": [
    "fig, ax = plt.subplots(3, 1, figsize=(10, 10))\n",
    "fig.subplots_adjust(hspace=0.4)\n",
    "dur_cycle = cycler(\n",
    "    color=[colours.durham.ink, colours.durham.purple, colours.durham.red]\n",
    ")\n",
    "\n",
    "for i, model_ in enumerate([train, val, test]):\n",
    "    # Formatting\n",
    "\n",
    "    ax[i].set_xlabel(\"Years\")\n",
    "    ax[i].set_ylabel(r\"$\\textrm{CO}_2$ (ppm)\")\n",
    "    ax[i].set_prop_cycle(dur_cycle)\n",
    "    # Data\n",
    "    ax[i].plot(model_.x, model_.fit_data(), label=model_.name)\n",
    "    ax[i].errorbar(model_.x, model_.y, model_.sigma, linestyle=\"\")\n",
    "    ax[i].legend()\n",
    "ax[1].set_xticks([2018, 2019, 2020])\n",
    "ax[2].set_xticks([2020, 2021, 2021])"
   ]
  },
  {
   "cell_type": "markdown",
   "metadata": {
    "pycharm": {
     "name": "#%% md\n"
    }
   },
   "source": [
    "## Discussion\n",
    "\n",
    "The linear-regression model developed in the previous section does not account for any global effects that vary the average behaviour of the $\\textrm{CO}_2$ concentration in the previous section. When using the $\\chi^2$ statistic, this returns very poor fits over many years due to significant variances, exemplified by the 90s. However, a small window representing the general overall trend without high variance, like the period of 2018 and 2019, can present a good fit. Towards the end of the year 2021, the residuals of the data points are all negative. This could be the presence of Covid-19; however, the residuals are similar in size to the uncertainty, resulting in the high $\\chi^2$ value. \n",
    "\n",
    "More can be read about using the $\\textrm{CO}_2$ concentration in the atmosphere to detect the [pandemic](https://gml.noaa.gov/ccgg/covid2.html). \n",
    "```{note}\n",
    "The TLDR of the article from the NOAA, is that global $\\textrm{CO}_2$ concentrations are buffered by release from the ocean and that fires in the southern hemisphere, could have offset the $\\textrm{CO}_2$ emission decrease. \n",
    "```\n"
   ]
  }
 ],
 "metadata": {
  "celltoolbar": "Tags",
  "kernelspec": {
   "display_name": "Python 3.7.13 ('base')",
   "language": "python",
   "name": "python3"
  },
  "language_info": {
   "codemirror_mode": {
    "name": "ipython",
    "version": 3
   },
   "file_extension": ".py",
   "mimetype": "text/x-python",
   "name": "python",
   "nbconvert_exporter": "python",
   "pygments_lexer": "ipython3",
   "version": "3.7.13"
  },
  "vscode": {
   "interpreter": {
    "hash": "59741db575107ab5410b00365ec93382e14756ed49d68fa4219f7bcb47931d56"
   }
  }
 },
 "nbformat": 4,
 "nbformat_minor": 2
}