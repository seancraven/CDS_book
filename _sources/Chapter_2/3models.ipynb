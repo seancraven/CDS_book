{
 "cells": [
  {
   "cell_type": "markdown",
   "metadata": {},
   "source": [
    "## Implementation of the Three Models\n",
    "The three approximate SRES scenarios chosen will be used to develop Bayesian temperature change prediction. The model of global temperatures $T$ as a function of $\\textrm{CO}_2 (C)$ is, \n",
    "```{math} \n",
    ":temp_co2_model:\n",
    "T(C) = T_0 + S \\log_2(C/C_0).\n",
    "```\n",
    "$S$ describes the sensitivity of the global temperature to doubling in $\\textrm{CO}_2$ concentration. This parameter has proved challenging to estimate given the complexity of the systems influencing global temperature Change. A PDF of $S$, $P(S)$ was produced by Sherwood et al.{ref}`S20` and will be used for our future temperature predictions and approximations of the SRES scenarios. The PDF of temperature change can be written as \n",
    "```{math}\n",
    "P(\\Delta T) = \\int P(\\Delta T|S) P(S) dS.\n",
    "```\n",
    "```{note}\n",
    "In this model Radiative Forcing is neglected, this id the phenomenon which describes the global flux inbalance. Where more enenrgy is being let out than let in. This is a key part of the global temperature rise equation as this is not a constant factor when global temperatures rise. For a more thourough predictive with radiative forcing see [Sherwood2022](https://iopscience.iop.org/article/10.1088/1748-9326/ac6ff6){ref}`probabilityofwarming`.\n",
    "```\n",
    "The quantity $P(\\Delta T|S)$ can be calculated using our simple climate model eq.{eq}`temp_co2_model`. \n",
    "\n",
    "The model will have three separate cases. As discussed before they are as follows:\n",
    "- A1B) Continued growth in emission Rates.\n",
    "- A1T) Net-zero by 2030, no further reductions. \n",
    "- B1) Net-zero by 2030, and then reducing total atmospheric carbon at the same rate it is currently produced."
   ]
  },
  {
   "cell_type": "code",
   "execution_count": 3,
   "metadata": {},
   "outputs": [],
   "source": [
    "import pandas as pd\n",
    "import numpy as np\n",
    "import matplotlib.pyplot as plt\n",
    "from dur_utils import colours\n",
    "from numpy.lib.stride_tricks import sliding_window_view\n",
    "from scipy.optimize import curve_fit\n",
    "from scipy import stats"
   ]
  },
  {
   "cell_type": "code",
   "execution_count": 4,
   "metadata": {},
   "outputs": [],
   "source": [
    "path = \"http://berkeleyearth.lbl.gov/auto/Global/Complete_TAVG_complete.txt\"\n",
    "#Formatting be data\n",
    "colnames=['year', 'month', 'monthly_anomaly', 'monthly_anomaly_unc',\n",
    "    'yearly_anomaly', 'yearly_anomaly_unc', '5yearly_anomaly',\n",
    "    '5yearly_anomaly_unc', '10yearly_anomaly', '10yearly_anomaly_unc',\n",
    "    '20yearly_anomaly', '20yearly_anomaly_unc'\n",
    "    ]\n",
    "temp_data = pd.read_fwf(path, skiprows=34, names=colnames)\n",
    "temp_data['dt'] = temp_data['month']/12 + temp_data['year']\n",
    "#remove be moving averages\n",
    "temp_data.drop( columns=['yearly_anomaly', 'yearly_anomaly_unc',\n",
    "    '5yearly_anomaly', '5yearly_anomaly_unc', '10yearly_anomaly',\n",
    "    '10yearly_anomaly_unc', '20yearly_anomaly', '20yearly_anomaly_unc'],\n",
    "    inplace=True\n",
    "    )"
   ]
  },
  {
   "cell_type": "markdown",
   "metadata": {},
   "source": [
    "## $\\textrm{CO}_2$ Concentration Models\n",
    "In the final part of [Chapter 1](Chapter_1/Final_Model.ipynb), a polynomial model with a trigonometric addition was developed to characterize the Mauna Loa $\\textrm{CO}_2$ concentration, which closely follows the global average trend. Using the model without the trigonometric terms will be the basis for this section. \n"
   ]
  },
  {
   "cell_type": "code",
   "execution_count": 45,
   "metadata": {},
   "outputs": [],
   "source": [
    "# Loading fits\n",
    "model_fit = pd.read_csv('../output_files/co2_model_parameters.csv',\n",
    "    index_col=0,\n",
    "    ).squeeze(\"columns\")\n",
    "model_error = pd.read_csv('../output_files/co2_model_parameters_error.csv',\n",
    "    index_col=0,\n",
    "    header=0\n",
    "    )\n",
    "# Loading Moving average Data"
   ]
  },
  {
   "cell_type": "markdown",
   "metadata": {},
   "source": [
    "\n",
    "### A1B\n",
    "This scenario describes no global change in response to warming and continuing to use a mix of renewable energy and fossil fuel sources."
   ]
  },
  {
   "cell_type": "code",
   "execution_count": null,
   "metadata": {},
   "outputs": [],
   "source": []
  },
  {
   "cell_type": "code",
   "execution_count": 9,
   "metadata": {},
   "outputs": [],
   "source": [
    "def simple_climate_model(C: pd.DataFrame, S: int, C_0: int, T_0: int) -> pd.DataFrame:\n",
    "    ''' Model fuction for Temperature and CO_2 relationship.'''\n",
    "     #Placeholder till I figure out what I am going to \n",
    "    return T_0 + np.log2(C/C_0)*S "
   ]
  },
  {
   "cell_type": "code",
   "execution_count": null,
   "metadata": {},
   "outputs": [],
   "source": []
  }
 ],
 "metadata": {
  "kernelspec": {
   "display_name": "Python 3.10.4 ('CDS_book')",
   "language": "python",
   "name": "python3"
  },
  "language_info": {
   "codemirror_mode": {
    "name": "ipython",
    "version": 3
   },
   "file_extension": ".py",
   "mimetype": "text/x-python",
   "name": "python",
   "nbconvert_exporter": "python",
   "pygments_lexer": "ipython3",
   "version": "3.10.4"
  },
  "orig_nbformat": 4,
  "vscode": {
   "interpreter": {
    "hash": "a46088b7c0406c06689d7e07885ac5c738a91551ff07af49abda945581724aff"
   }
  }
 },
 "nbformat": 4,
 "nbformat_minor": 2
}
