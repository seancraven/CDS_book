{
 "cells": [
  {
   "cell_type": "markdown",
   "source": [
    "## Radiative transfer\n",
    "\n",
    "The first step of radiative transfer, is the Beer-Lambert Law\n",
    "```{math}\n",
    ":label:\n",
    "-\\frac{d I(\\tau, \\hat{n}, \\nu}{d\\tau}) = I(\\tau, \\hat{n}, \\nu}{d\\tau})\n",
    "```\n",
    "Where $\\tau = k(\\nu, p, T)u$, $u$ is the column number density of absorbing species and $k(\\nu, p, T)$ is the absorption coefficient per molecule per unit length. This describes a radiation model that only models the amount of light which is not scattered by the medium. This is solved by a simple exponential decay, which has decay length inversely proportional to the optical depth of the medium.\n",
    "\n",
    "This is an insufficient model for our use case; the key behaviour of greenhouse gases is that they re-radiate isotropically. The isotropic behaviour produces a simplified solution to the Schwarzschild equation. The Schwarzschild equaltion is a modification of beers law where the transmitted radiation is augmented by isotropic re-radiation of the absorbed radiation\n",
    "```{math}\n",
    ":label:\n",
    "\\frac{I(\\tau_{\\nu}, \\hat{n}, \\nu) = \\frac{1}{\\cos\\theta} [I(\\tau_{\\nu}, \\hat{n}, \\nu) = B(T(\\tau_{\\nu}), \\nu)].\n",
    "```\n",
    "The re-radiation term is the plank function $B(T(\\tau_\\nu), \\nu)$. The $\\cos \\theta$ term comes from the distance through the medium of width $\\delta \\tau$, if the path is at some angle to the"
   ],
   "metadata": {
    "collapsed": false,
    "pycharm": {
     "name": "#%% md\n"
    }
   }
  },
  {
   "cell_type": "code",
   "execution_count": null,
   "outputs": [],
   "source": [],
   "metadata": {
    "collapsed": false,
    "pycharm": {
     "name": "#%%\n"
    }
   }
  }
 ],
 "metadata": {
  "kernelspec": {
   "display_name": "Python 3.7.13 ('base')",
   "language": "python",
   "name": "python3"
  },
  "language_info": {
   "name": "python",
   "version": "3.7.13"
  },
  "orig_nbformat": 4,
  "vscode": {
   "interpreter": {
    "hash": "59741db575107ab5410b00365ec93382e14756ed49d68fa4219f7bcb47931d56"
   }
  }
 },
 "nbformat": 4,
 "nbformat_minor": 2
}