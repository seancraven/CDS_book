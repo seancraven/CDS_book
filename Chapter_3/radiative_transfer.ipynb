{
 "cells": [
  {
   "cell_type": "markdown",
   "source": [
    "## Radiative transfer\n",
    "\n",
    "Radiation modelling, is a notorious challenging due to its highly coupled nature. It is important that the goals of our model are defined, such that when approximations are made to simply the problem, the sources of discrepancy can be understood. Throughout the book most of the effort in the chapters has been focused around $\\textrm{CO}_2$. Therefore, to continue this focus, the radiation model that is developed is focused on modelling the greenhouse effect caused by molecules re-radiating longwave radiation into the atmosphere. We take the only source of radiation to be black body radiation emitted by the earth, assuming it is a perfect black body, at some temperature $T$ and wavenumber $\\nu$ the spectral radiance is\n",
    "```{math}\n",
    ":label:\n",
    "B(T, \\nu) = 2hc^2 \\nu^3 \\frac{1}{e^{hc\\nu/(k_bT) - 1}.\n",
    "```\n",
    "\n",
    "```{note}\n",
    "The hitran convention for wavenumber is used wher it is denoted as $\\nu$ rather than $\\tilde{\\nu}$ in many texts.\n",
    "```\n",
    "Additionally, because the effects of incoming solar radiation are not considered, which performs a substantial amount of heating in the stratosphere with absorption of UV by O2, limiting the model to only extend up to 10km enables the model to both avoid warming due to shortwave and relative gas concentration changes.\n",
    "\n",
    "To start the simplest model of the atmosphere is that it is a single block of some height, from which an observer is looking down perpendicular to and radiation is emitted parallel to the surface. The Beer-Lambert Law describes this\n",
    "```{math}\n",
    ":label:\n",
    "-\\frac{d}{d \\tau_\\nu} I(\\tau, \\hat{n}, \\nu) = I(\\tau, \\hat{n}, \\nu).\n",
    "```\n",
    "The parameter $\\tau$ is the optical density of the medium. This equation, describes a radiation model that only models the amount of light, which is not scattered by the medium. This is solved by a simple exponential decay, which has decay length inversely proportional to the optical depth of the medium.\n",
    "```{math}\n",
    ":label:\n",
    "I = I_0 \\exp (-\\tau)\n",
    "```\n",
    "This is an insufficient model for our use case; firstly, a key behaviour of greenhouse gases is that they re-radiate isotropically, and secondly, they have differing optical depth depending on [wavenumber](./lorentzian_broadening.ipynb).\n",
    "\n",
    "To include the isotropic re-radiation we iterate upon the Beer-Lambert law, with the Schwarzschild equation. The Schwarzschild equation adds a black body radiation term to the Beer-Lambert law, which is dependent on the optical depth of the medium. Further, it is assumed that the incident radiation is incident on the medium with a direction defined by a unit vector $\\hat{n}$\n",
    "```{math}\n",
    ":label:\n",
    "\\frac{d}{d \\tau_nu} I(\\tau_{\\nu}, \\hat{n}, \\nu)= -\\frac{1}{\\cos\\theta} [I(\\tau_{\\nu}, \\hat{n}, \\nu) - B(T(\\tau_{\\nu}), \\nu)].\n",
    "```\n",
    "Where $\\tau = k(\\nu, p, T)u$, $u$ is the column number density of absorbing species and $k(\\nu, p, T)$ is the absorption coefficient per molecule per unit length. The re-radiation term is the plank function $B(T(\\tau_\\nu), \\nu)$. Additionally, the $\\cos \\theta$ term comes from the distance through the medium of width $\\delta \\tau$, where , if the path of incoming radiation is at some angle $\\theta$ to the perpendicular from the surface, the distance the radiation travels is further $\\delta \\tau / \\cos \\theta$, as seen in the figure below from{cite}`pierrehumbert_2010`. This model is taken from sections of chapter 4 in $principles of planetary climate${cite}`pierrehumbert_2012`.\n",
    "```{image} ../Figures/Schwarzchild.png\n",
    "---\n",
    "align: center\n",
    "---\n",
    "```\n",
    "If it is assumed that the radiation incoming and outgoing is isotropic as is emitted black body radiation, then the directional dependence of the equation is removed. The Solution can then be integrated over a hemisphere,and two separate ordinary differential equations for upward and downward propagating flux can be performed, assuming that $\\cos \\bar{\\theta} = 1/2$\n",
    "\\begin{align}\n",
    "\\int_0^{\\pi/2}I(T(\\tau_{\\nu}),\\nu) d\\Omega &= \\int_0^{\\pi/2} -\\frac{1}{\\cos\\theta} [I(\\tau_{\\nu}, \\hat{n}, \\nu) - B(T(\\tau_{\\nu}), \\nu)] d\\Omega, \\\\\n",
    "\\frac{d}{d \\tau_{\\nu}} I_+ &= - I_+ + \\pi B(T_{\\nu}, \\nu).\n",
    "\\end{align}\n",
    "$I_+$ is all the radiation in the upward direction from the block of atmosphere. In the downward direction $I_-$, the equation is similar\n",
    "\\begin{align}\n",
    "\\int_{\\pi/2}^{\\pi}I(T(\\tau_{\\nu}), \\nu) d\\Omega &= \\int_{\\pi/2}^{\\pi} -\\frac{1}{\\cos\\theta} [I(\\tau_{\\nu}, \\hat{n}, \\nu) - B(T(\\tau_{\\nu}), \\nu)] d\\Omega, \\\\\n",
    "\\frac{d}{d \\tau_{\\nu}} I_- &=  I_- - \\pi B(T_{\\nu}, \\nu).\n",
    "\\end{align}\n",
    "As the temperature of the radiation block is a function of the atmosphere's optical depth, Ideally it should be calculated, rather than taken from the ISA model. However, this is deceptively difficult. Often, atmospheres are not in just radiative equilibrium, because they are comprised of gases convection plays a key role in energy transfer as well, thus blocks of atmosphere may infect heat, and not be in radiative equilibrium with their surroundings. A model which includes, convection is much better approximated by an adiabatic atmosphere where warm blocks of air rise, expand and cool adiabatically. This, is typically the assumption for the lower atmosphere, [troposphere](https://ereader.cambridge.org/wr/viewer.html#book/95232efd-fe8e-4b72-ad9e-c3f22d2a0cda/ichap4/pos_1.4427424769341008){cite}`pierrehumbert_2010`. For higher altitudes, convection is less important and radiative equilibrium provides a better approximation.\n",
    "\n",
    "Despite, it not being a good approximation, for the lower atmosphere, radiative equilibrium provides a more straightforward path to a solution. With this boundary condition two equations for the upwards and downward spectral radiance can be formed:\n",
    "\\begin{align}\n",
    "0 = \\frac{d}{d \\tau_{\\nu}}I_+ - I_- &= -(I_+ + I_-) + 2 \\pi B(T(\\tau_{\\nu}, \\nu), \\\\\n",
    " \\frac{d}{d \\tau_{\\nu}}I_+ + I_- &= -(I_+ - I_-).\n",
    "\\end{align} (label)\n",
    "As an initial start point, a grey gas atmosphere is considered. This is where optical depth is independent of wavenumber.\n",
    "## Grey Gas Model\n",
    "With wavenumber independence, we can consider the total flux given by the integral over the integral over wavenumber and solid angle of the plank function which gives the Stephan-Boltzmann law\n",
    "```{math}\n",
    ":label:\n",
    "\\sigma T^4 = \\int \\int d \\Omega d \\nu B(T,\\nu).\n",
    "```\n",
    "With the solution to eq.{eq}`label` now,\n",
    "```{math}\n",
    ":label:\n",
    "I_+ - I_- = C,\n",
    "```\n",
    "Thus\n",
    "```{math}\n",
    ":label:\n",
    "I_+ + I_- = -c \\tau + c'\n",
    "```\n",
    "Using the boundary condition that the outgoing longwave radiation(OLR) at the top of the atmosphere is a constant $I_{OLR}$\n",
    "```{math}\n",
    ":label: specific solution\n",
    "I_+ + I_- = c' - c\\tau_{\\infty} = I_{OLR},\n",
    "```\n",
    "Then\n",
    "\\begin{align}\n",
    "c &= I_{OLR}, \\\\\n",
    "c' &= I_{OLR}(\\tau_{\\infty} + 1).\n",
    "\\end{align}\n",
    "Finally, substituting into eq.{eq}`specific solution`\n",
    "```{math}\n",
    ":label:\n",
    "T = \\left(\\frac{(1 + \\tau_{\\infty} - \\tau)I_{\\infty}}{2 \\sigma} \\right)^{1/4}.\n",
    "```\n",
    "This gives us the expression for the Grey Gas at zero altitude. A comparison between this and the surface temperature of the planet is plotted below.\n"
   ],
   "metadata": {
    "collapsed": false,
    "pycharm": {
     "name": "#%% md\n"
    }
   }
  },
  {
   "cell_type": "code",
   "execution_count": 1,
   "outputs": [],
   "source": [
    "import matplotlib.pyplot as plt\n",
    "import matplotlib as mpl\n",
    "import numpy as np\n",
    "from simpletrans import isa\n",
    "import seaborn as sns\n",
    "import scipy.constants as cst\n",
    "from typing import List\n",
    "from dur_utils import colours\n",
    "\n",
    "mpl.style.use(\"../CDS.mplstyle\")"
   ],
   "metadata": {
    "collapsed": false,
    "pycharm": {
     "name": "#%%\n"
    }
   }
  },
  {
   "cell_type": "code",
   "execution_count": 3,
   "outputs": [
    {
     "data": {
      "text/plain": "<Figure size 432x288 with 1 Axes>",
      "image/png": "[encoded data removed]"
     },
     "metadata": {
      "needs_background": "light"
     },
     "output_type": "display_data"
    }
   ],
   "source": [
    "\n",
    "max_alt = 10000  # Alt strat stop\n",
    "SBC = cst.physical_constants[\"Stefan-Boltzmann constant\"][0]\n",
    "olr = SBC * 2 * isa.get_temperature(max_alt) ** 4\n",
    "points = 100\n",
    "altitudes = np.linspace(0, max_alt, points, dtype=float)\n",
    "taus_inf = np.logspace(-2, 1, 8)\n",
    "isa_temp_profile = isa.get_temperature(altitudes)\n",
    "\n",
    "\n",
    "def ground_gas_temp(tau_inf: float) -> float:\n",
    "    \"\"\"\n",
    "    Returns the ground temperature for a particular optical thickness of the\n",
    "    whole atmosphere tau_infinity.\n",
    "    Args:\n",
    "        tau_inf: The total optical Thickness of the atmosphere.\n",
    "\n",
    "    Returns:\n",
    "        t_ground\n",
    "\n",
    "    \"\"\"\n",
    "    t_ground = ((1 + tau_inf) * olr / (2 * SBC)) ** 0.25\n",
    "    return t_ground\n",
    "\n",
    "\n",
    "def ground_temp(tau_inf: float) -> float:\n",
    "    \"\"\"\n",
    "    Returns The surface temperature of the planet assuming radiative equilibruim as a function of\n",
    "    Args:\n",
    "        tau_inf:\n",
    "\n",
    "    Returns:\n",
    "\n",
    "    \"\"\"\n",
    "    t_ground = ((2 + tau_inf) * olr / (2 * SBC)) ** 0.25\n",
    "    return t_ground\n",
    "\n",
    "\n",
    "plt.semilogx(\n",
    "    taus_inf,\n",
    "    ground_gas_temp(taus_inf),\n",
    "    c=colours.durham.ink,\n",
    "    label=\"Grey gas temperature at ground level\",\n",
    ")\n",
    "plt.semilogx(\n",
    "    taus_inf,\n",
    "    ground_temp(taus_inf),\n",
    "    c=colours.durham.purple,\n",
    "    label=\"Surface Temperature\",\n",
    ")\n",
    "plt.semilogx(\n",
    "    taus_inf,\n",
    "    [isa.get_temperature(0) for i in taus_inf],\n",
    "    linestyle=\"--\",\n",
    "    c=colours.durham.ink,\n",
    "    label=\"Earth Surface Temperature\",\n",
    ")\n",
    "plt.legend()\n",
    "plt.xlabel(r\"Total atmosphere optical thickness: $\\tau_{\\infty}$\")\n",
    "plt.ylabel(\"Temperature (K)\");\n"
   ],
   "metadata": {
    "collapsed": false,
    "pycharm": {
     "name": "#%%\n"
    }
   }
  },
  {
   "cell_type": "markdown",
   "source": [
    "As the optical thickness of the atmosphere increases the surface temperature and the Grey Gas surface temperature approach each other, reducing the need for convection.\n",
    "```{math}\n",
    ":label:\n",
    "T(0) = \\left[\\frac{(1 + \\tau_{\\infty})I_{OLR}}{2 \\sigma} \\right]^{1/4}\n",
    "```"
   ],
   "metadata": {
    "collapsed": false,
    "pycharm": {
     "name": "#%% md\n"
    }
   }
  },
  {
   "cell_type": "code",
   "execution_count": null,
   "outputs": [],
   "source": [],
   "metadata": {
    "collapsed": false,
    "pycharm": {
     "name": "#%%\n"
    }
   }
  }
 ],
 "metadata": {
  "kernelspec": {
   "display_name": "Python 3.7.13 ('base')",
   "language": "python",
   "name": "python3"
  },
  "language_info": {
   "name": "python",
   "version": "3.7.13"
  },
  "orig_nbformat": 4,
  "vscode": {
   "interpreter": {
    "hash": "59741db575107ab5410b00365ec93382e14756ed49d68fa4219f7bcb47931d56"
   }
  }
 },
 "nbformat": 4,
 "nbformat_minor": 2
}