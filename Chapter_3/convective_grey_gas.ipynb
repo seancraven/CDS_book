{
 "cells": [
  {
   "cell_type": "code",
   "execution_count": 1,
   "outputs": [],
   "source": [
    "import numpy as np\n",
    "import pandas as pd\n",
    "import matplotlib as mpl\n",
    "import sqlite3\n",
    "from typing import Tuple\n",
    "from numpy.typing import ArrayLike\n",
    "import matplotlib.pyplot as plt\n",
    "from tqdm import tqdm\n",
    "\n",
    "mpl.style.use(\"../CDS.mplstyle\")"
   ],
   "metadata": {
    "collapsed": false,
    "pycharm": {
     "name": "#%%\n"
    }
   }
  },
  {
   "cell_type": "code",
   "execution_count": 2,
   "outputs": [],
   "source": [
    "\n",
    "\n",
    "def fetch_od_from_db(\n",
    "    connection: sqlite3.Connection,\n",
    "    gas: str,\n",
    "    alt_range: Tuple[float, float],\n",
    "    wave_no_range: Tuple[float, float],\n",
    ") -> Tuple[dict[int:ArrayLike], ArrayLike]:\n",
    "    \"\"\"\n",
    "    Returns a smoothed dict of optical depths, where the key is the altitude.\n",
    "    Only returns values in the intervals:\n",
    "    [wave_no_min, wavenumber_max], [alt_min, alt_max].\n",
    "    Additionally, returns the bins in which the values are put into.\n",
    "\n",
    "    Args:\n",
    "        alt_range:\n",
    "        wave_no_range:\n",
    "        gas: gas name, must be in database.\n",
    "        connection: Database Connection, with optical depths.\n",
    "\n",
    "\n",
    "    Returns:\n",
    "\n",
    "    \"\"\"\n",
    "    wave_no_min, wave_no_max = wave_no_range\n",
    "    alt_min, alt_max = alt_range\n",
    "\n",
    "    sql_gas_query = (\n",
    "        f\"SELECT mol_id, mol_name FROM gases WHERE mol_name = '{gas}';\"\n",
    "    )\n",
    "    gas_df = pd.read_sql_query(sql_gas_query, connection)\n",
    "    gas_id = gas_df[\"mol_id\"][0]\n",
    "\n",
    "    sql_query = f\"\"\"\n",
    "    SELECT altitude, wave_no, optical_depth FROM optical_depths\n",
    "    WHERE (wave_no BETWEEN {wave_no_min} and {wave_no_max}) and\n",
    "    (altitude BETWEEN {alt_min} and {alt_max}) and\n",
    "    (mol_id = {gas_id});\n",
    "    \"\"\"\n",
    "    od_array = pd.read_sql_query(sql_query, connection).to_numpy()\n",
    "\n",
    "    sql_alt_query = \"SELECT DISTINCT altitude from optical_depths\"\n",
    "    alts = pd.read_sql_query(sql_alt_query, connection)\n",
    "    alt_list = []\n",
    "    for i in alts[\"altitude\"]:\n",
    "        if (i > alt_min) and (i < alt_max):\n",
    "            alt_list.append(i)\n",
    "    int_wave_no = np.rint(od_array[:, 1])\n",
    "    od_dict = {}\n",
    "    for alt in tqdm(alt_list):\n",
    "        mask = od_array[:, 0] == alt\n",
    "        ods = od_array[:, 2][mask]\n",
    "        wave_nos = int_wave_no[mask]\n",
    "        binned_wave_nos, mean_ods = integer_bin_means(\n",
    "            np.vstack((wave_nos, ods))\n",
    "        )\n",
    "        od_dict.update({str(int(alt)): mean_ods})\n",
    "    return od_dict, binned_wave_nos\n",
    "\n",
    "\n",
    "def integer_bin_means(data: ArrayLike) -> Tuple[ArrayLike, ArrayLike]:\n",
    "    # Have rounding in function, makes it more encapsulated.\n",
    "    assert 2 in data.shape\n",
    "    if data.shape[0] != 2:\n",
    "        data = data.transpose()\n",
    "    col_0_unique = np.unique(data[0])\n",
    "    means = np.zeros_like(col_0_unique)\n",
    "    for i, value in np.ndenumerate(col_0_unique):\n",
    "        mask = data[0] == value\n",
    "        means[i] = np.mean(data[1][mask])\n",
    "    return col_0_unique, means\n",
    "\n",
    "\n",
    "class AtmosphereGrid:\n",
    "    def __init__(\n",
    "        self,\n",
    "        alt_range: Tuple[float, float],\n",
    "        wave_no_range: Tuple[float, float],\n",
    "        db_connection: sqlite3.Connection,\n",
    "        *gas: str,\n",
    "    ):\n",
    "        self.alt_min, self.alt_max = alt_range\n",
    "        self.wave_no_min, self.wave_no_max = wave_no_range\n",
    "        self.connection = db_connection\n",
    "        self.gases = gas\n",
    "\n",
    "        # Not implemented multiple gases yet.\n",
    "        # If when the atmosphere grid is initialised you implement the query this makes sense.\n",
    "        od_dict, self.wave_no_bins = fetch_od_from_db(\n",
    "            self.connection,\n",
    "            gas[0],\n",
    "            (self.alt_min, self.alt_max),\n",
    "            (self.wave_no_min, self.wave_no_max),\n",
    "        )\n",
    "\n",
    "        self.od_df = pd.DataFrame.from_dict(od_dict)\n",
    "        self.alt_list = list(od_dict.keys())\n",
    "        self.ones_grid = np.ones(\n",
    "            (len(self.alt_list), len(self.wave_no_bins))\n",
    "        )\n",
    "\n",
    "    def transmission(self, alt_1: float, alt_2: float):\n",
    "        \"\"\"\n",
    "\n",
    "        Args:\n",
    "            alt_1:\n",
    "            alt_2:\n",
    "\n",
    "        Returns:\n",
    "\n",
    "        \"\"\"\n",
    "        in_range_alts = []\n",
    "        for alt in self.od_df.columns.to_list():\n",
    "            if (int(alt) >= alt_1) and (int(alt) <= alt_2):\n",
    "                in_range_alts.append(alt)\n",
    "        transmission_function = np.sum(\n",
    "            np.exp(-self.od_df[in_range_alts]), axis=1\n",
    "        )\n",
    "        return transmission_function\n",
    "\n"
   ],
   "metadata": {
    "collapsed": false,
    "pycharm": {
     "name": "#%%\n"
    }
   }
  },
  {
   "cell_type": "code",
   "execution_count": 3,
   "outputs": [
    {
     "name": "stderr",
     "output_type": "stream",
     "text": [
      "100%|██████████| 10/10 [00:03<00:00,  3.28it/s]\n"
     ]
    }
   ],
   "source": [
    "conn = sqlite3.connect(\"../database_utitlites/optical_depth.db\")\n",
    "ag_test = AtmosphereGrid(\n",
    "    (0, 10000),\n",
    "    (200, 4000),\n",
    "    conn,\n",
    "    \"CO2\",\n",
    ")\n"
   ],
   "metadata": {
    "collapsed": false,
    "pycharm": {
     "name": "#%%\n"
    }
   }
  },
  {
   "cell_type": "code",
   "execution_count": 11,
   "outputs": [
    {
     "data": {
      "text/plain": "3801"
     },
     "execution_count": 11,
     "metadata": {},
     "output_type": "execute_result"
    }
   ],
   "source": [
    "len(ag_test.wave_no_bins)"
   ],
   "metadata": {
    "collapsed": false,
    "pycharm": {
     "name": "#%%\n"
    }
   }
  },
  {
   "cell_type": "code",
   "execution_count": 12,
   "outputs": [],
   "source": [],
   "metadata": {
    "collapsed": false,
    "pycharm": {
     "name": "#%%\n"
    }
   }
  },
  {
   "cell_type": "code",
   "execution_count": 13,
   "outputs": [
    {
     "data": {
      "text/plain": "[<matplotlib.lines.Line2D at 0x7f61036df490>]"
     },
     "execution_count": 13,
     "metadata": {},
     "output_type": "execute_result"
    },
    {
     "data": {
      "text/plain": "<Figure size 432x288 with 1 Axes>",
      "image/png": "[encoded data removed]"
     },
     "metadata": {
      "needs_background": "light"
     },
     "output_type": "display_data"
    }
   ],
   "source": [],
   "metadata": {
    "collapsed": false,
    "pycharm": {
     "name": "#%%\n"
    }
   }
  }
 ],
 "metadata": {
  "kernelspec": {
   "display_name": "Python 3",
   "language": "python",
   "name": "python3"
  },
  "language_info": {
   "codemirror_mode": {
    "name": "ipython",
    "version": 2
   },
   "file_extension": ".py",
   "mimetype": "text/x-python",
   "name": "python",
   "nbconvert_exporter": "python",
   "pygments_lexer": "ipython2",
   "version": "2.7.6"
  }
 },
 "nbformat": 4,
 "nbformat_minor": 0
}