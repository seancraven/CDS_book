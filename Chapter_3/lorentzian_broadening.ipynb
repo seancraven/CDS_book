{
 "cells": [
  {
   "cell_type": "markdown",
   "metadata": {
    "pycharm": {
     "name": "#%% md\n"
    }
   },
   "source": [
    "## The Variance of Absorption Spectra\n",
    "\n",
    "From discussing the mechanics of absorption spectra, it was clear that absorption lines themselves do not have a constant magnitude for all temperatures and pressures. This section uses an approximate global atmosphere model to reproduce the environment at different altitudes. \n",
    "\n",
    "The nature of climate models is that they have many interlinked parameters. These relationships must be modelled when the goal is to produce the most accurate model possible. However, this project's scope is to build a reasonable approximation for pedagogy. So by separating the variables and assessing their impact on the model, the most vital parts of the model can be retained.  "
   ]
  },
  {
   "cell_type": "code",
   "execution_count": 1,
   "metadata": {
    "pycharm": {
     "name": "#%%\n"
    },
    "tags": [
     "remove-input"
    ]
   },
   "outputs": [],
   "source": [
    "import os\n",
    "import sqlite3\n",
    "import sys\n",
    "\n",
    "import matplotlib as mpl\n",
    "import matplotlib.pyplot as plt\n",
    "import numpy as np\n",
    "import pandas as pd\n",
    "import seaborn as sns\n",
    "from dur_utils import colours\n",
    "from scipy import constants\n",
    "from scipy.integrate import quad\n",
    "\n",
    "import isa\n",
    "\n",
    "mpl.style.use(\"../CDS.mplstyle\")"
   ]
  },
  {
   "cell_type": "markdown",
   "metadata": {
    "pycharm": {
     "name": "#%% md\n"
    }
   },
   "source": [
    "##  Standard Atmosphere Model\n",
    "The \"US Standard Atmosphere, 1976\"{cite}`USAtmosphere` provides pressure, temperature, and density vertical profiles. The model takes values which are roughly representative of year-round mid-latitude conditions. The density profile is calculated using the temperature and pressure profiles through the ideal gas equation\n",
    "```{math}\n",
    "pV = n K_b T.\n",
    "```\n",
    "Where, $p$ is pressure, $V$ volume and $T$ temperature, n gives the number density of the gas and $K_b$ is Boltzmann's constant.\n",
    "\n",
    "An approximate atmospheric profile is used to calculate molecule concentrations and cross-section broadening. A reasonable assumption in the troposphere is that the relative fractional abundances stay the same. Thus the decrease in atmospheric density provides the main trail off for total absorption. However, the constant relative fraction of greenhouse gases assumption breaks down, particularly for water and ozone fractional abundances above the 10km mark. This is because water forms clouds and precipitates down, becoming much less abundant, and ozone is produced more rapidly at higher altitudes and its concentration peaks in the stratosphere.\n",
    "\n",
    "Despite falling density and pressure, there is an increase in temperature after $20 km$. This temperature increase is due primarily to Ozone absorbing Shortwave UV-radiation, which is incoming from the sun. This temperature increase is not accounted for in our model as we look at longwave radiation exiting the atmosphere.\n",
    "\n"
   ]
  },
  {
   "cell_type": "code",
   "execution_count": null,
   "outputs": [],
   "source": [
    "atlittudes = np.linspace(0, 80000, 100)\n",
    "temp = isa.get_temperature(atlittudes)\n",
    "pressure = isa.get_pressure(atlittudes)\n",
    "density = isa.get_density(atlittudes)\n",
    "fig, ax = plt.subplots(1, 3, figsize=(10, 6), sharey=True)\n",
    "labels = [\"Temperature $(K)$\", \"Pressure $(Pa)$\", \"Density $(kg/m^3)$\"]\n",
    "for i, profile in enumerate([temp, pressure, density]):\n",
    "    ax[i].plot(profile, atlittudes, color=colours.durham.ink)\n",
    "    ax[i].fill_between(\n",
    "        [np.min(profile), np.max(profile)],\n",
    "        [0, 0],\n",
    "        [10**4, 10**4],\n",
    "        linestyle=\"--\",\n",
    "        color=colours.durham.ink,\n",
    "        label=\"Troposphere\",\n",
    "        alpha=0.2,\n",
    "    )\n",
    "    ax[i].set_yticks(ax[i].get_yticks(), ax[i].get_yticks() / 1000)\n",
    "    ax[i].set_ylim(0, 80000)\n",
    "    ax[i].set_xlabel(labels[i])\n",
    "ax[0].set_ylabel(\"Altitude $(km)$\")\n",
    "ax[1].set_title(\"ISA Vertical Profile up to $10km$\")\n",
    "ax[0].legend();"
   ],
   "metadata": {
    "collapsed": false,
    "pycharm": {
     "name": "#%%\n"
    }
   }
  },
  {
   "cell_type": "markdown",
   "source": [
    "## The Variation of the Absorbtion Cross-section of $\\textrm{CO}_2$\n",
    "\n",
    "The HITRAN Database provides the line-by-line intensities for more than 55 molecules. Using the IPCC reports data on the most potent greenhouse gases, the most impactful 3, $\\textrm{CO}_2$, $\\textrm{N}_2 \\textrm{O}$, and $\\textrm{CH}_4$. Additionally, water plays a significant role in the greenhouse effect. However, the variance in its concentration due to anthropogenic factors does not significantly drive global temperature rise. However, it does provide a large amount of radiation scattering and should be included{cite}`IPCCAR6`. \n",
    "\n",
    "Further, the changes in $\\textrm{CO}_2$'s absorption profile can be used as a litmus test for simplifying assumptions and observing the effects of broadening and gas rarefaction. \n",
    "Additionally, to temperature and pressure dependence on the broadening, there is a further temperature dependence on the line intensity due to the accessibility of a given transition. At low temperatures, high-energy transitions, those of low wavelength, are heavily suppressed as the molecules lack the energy to access either the excitation or vibrational mode. A Bose-Einstein distribution quantifies the availability of a transition. When the intensity of a transition is known for one temperature, the ratio of the probabilities gives the intensity\n",
    "```{math}\n",
    ":label:\n",
    "S_{a \\rightarrow b}(T) = S_{a \\rightarrow b, T_ref}\\frac{\\exp(-h\\nu_{a \\rightarrow b} /cK_bT)}{exp(-h\\nu_{a \\rightarrow b} /cK_b T_{ref})} \\frac(T_{ref}}{(T)}\n",
    "```\n",
    "Where $S_{a \\rightarrow b}(T)$ is the line intensity as a function of temperature for some transition $a \\rightarrow b$, $\\nu_{a \\rightarrow b}$ is the wavenumber for the transition, and $Q(T)$ is the partition sum over all states. The values for $S_{a \\rightarrow b}(T_{ref})$ are recorded on the HITRAN database. $\\textrm{CO}_2$'s line intensity variation is plotted at 3 km intervals up to 10km using the ISA model, around the most significant absorption lines, around $650 cm^{-1}$."
   ],
   "metadata": {
    "collapsed": false,
    "pycharm": {
     "name": "#%% md\n"
    }
   }
  },
  {
   "cell_type": "code",
   "execution_count": null,
   "outputs": [],
   "source": [
    "# SQL query\n",
    "path = \"../database_utitlites/optical_depth.db\"\n",
    "conn = sqlite3.connect(path)\n",
    "sql_query = \"SELECT * FROM optical_depths WHERE mol_id = 2\"\n",
    "co2_optical_depth = pd.read_sql_query(sql_query, conn)\n",
    "sql_query = \"SELECT * FROM gases\"\n",
    "gases = pd.read_sql_query(sql_query, conn)\n",
    "alts = co2_optical_depth[\"altitude\"].unique();"
   ],
   "metadata": {
    "collapsed": false,
    "pycharm": {
     "name": "#%%\n"
    }
   }
  },
  {
   "cell_type": "code",
   "execution_count": null,
   "outputs": [],
   "source": [
    "# Initialise Outputs\n",
    "cmap = sns.color_palette(\"rocket\", 10)\n",
    "sm = plt.cm.ScalarMappable(\n",
    "    cmap=\"rocket\", norm=plt.Normalize(vmin=0, vmax=30000)\n",
    ")\n",
    "fig, ax = plt.subplots(1, 1, figsize=(10, 6))\n",
    "color_cycle = ax.set_prop_cycle(color=cmap)\n",
    "for alt in alts:\n",
    "    mask = co2_optical_depth[\"altitude\"] == alt\n",
    "    abs_coef = co2_optical_depth[mask][\"abs_coef\"]\n",
    "    nu = co2_optical_depth[mask][\"wave_no\"]\n",
    "    plot = ax.plot(nu, abs_coef, alpha=0.4)\n",
    "\n",
    "cb = fig.colorbar(sm)\n",
    "cb.set_label(\"Altitude (m)\")\n",
    "ax.set_xlim(635, 700)\n",
    "ax.set_ylim(0, 9 * 10**-17)\n",
    "ax.set_xlabel(\"Wavenumber $(cm^{-1})$\")\n",
    "ax.set_ylabel(\"Absorption Coefficient $(cm^2/molecule)$\");"
   ],
   "metadata": {
    "collapsed": false,
    "pycharm": {
     "name": "#%%\n"
    }
   }
  },
  {
   "cell_type": "markdown",
   "source": [
    "## Optical Density of $\\textrm{CO}_2$\n",
    "The absorption coefficient,$k$, is related to the optical depth at a wavenumber,$\\nu$, by\n",
    "```{math}\n",
    ":label:\n",
    "\\tau(\\nu, \\Delta l, T, p) = \\int_{l}^{l+\\Delta l} n(z) dz \\cdot k(\\nu, T, p).\n",
    "```\n",
    "Where n(z) is the number density per unit volume. Then we plot the optical depth, $I/I_0$, of each atmosphere block up to $30km$."
   ],
   "metadata": {
    "collapsed": false,
    "pycharm": {
     "name": "#%% md\n"
    }
   }
  },
  {
   "cell_type": "code",
   "execution_count": null,
   "outputs": [],
   "source": [
    "def number_density(alt):\n",
    "    \"\"\"\n",
    "    Returns Number of particles per m^3\n",
    "    assuming ideal gas.\n",
    "\n",
    "    Args:\n",
    "        alt (float): Altitude in meters.\n",
    "\n",
    "    Returns:\n",
    "        float: n(alt) in molecules/m^3\n",
    "    \"\"\"\n",
    "    mass_of_air = (\n",
    "        28.9647 * 10**-3 / constants.N_A\n",
    "    )  # conver kg/m^3 to molecule/m^3\n",
    "    return isa.get_density(alt) / mass_of_air\n",
    "\n",
    "\n",
    "def particle_per_sq_m(alt_0, alt_1):\n",
    "    \"\"\"\n",
    "    returns number of particles per square meter\n",
    "    between two altitudes\n",
    "\n",
    "    Args:\n",
    "        alt_0 (float): altitude in meters\n",
    "        alt_1 (float): altitude in meters\n",
    "\n",
    "    Returns:\n",
    "        float:\n",
    "    \"\"\"\n",
    "    return quad(number_density, alt_0, alt_1)[0]\n",
    "\n",
    "\n",
    "def optical_depth(alt_0, alt_1, ppm_conc, abs_coef):\n",
    "    particles = particle_per_sq_m(alt_0, alt_1) * ppm_conc * 10 ** (-9)\n",
    "    return (\n",
    "        particles * abs_coef * 10 ** (-4)\n",
    "    )  # 10^-4 factor from cm^2->m^2 conv"
   ],
   "metadata": {
    "collapsed": false,
    "pycharm": {
     "name": "#%%\n"
    }
   }
  },
  {
   "cell_type": "markdown",
   "source": [
    "## Increasing Altitude's effect on Absorption\n",
    "\n",
    "As the Greenhouse Gas molecules become more rarefied, the amount of radiation they absorb decreases. Further, when calculating the fraction of flux absorbed, the most computationally intensive part is the calculation of line-by-line absorption cross-sections. Therefore, if the contribution from the broadening does not provide a significant decrease in flux, an Assumption could be made that cross-section broadening was not necessary. However, we show below that broadening significantly reduces the atmosphere's opacity. \n",
    "\n",
    "The figure below plots the ratio of spectral radiance transmitted over the outgoing longwave wavenumber spectrum. The lines are filled between their values and one, such that if no radiance is let through in a region $\\Delta \\nu$, it will be opaque. The colour bar shows the colour gradient associated with increasing altitude. The dark outlines around the pale areas indicate that temperature and pressure broadening with increased altitude corresponds to a narrowing. This effect can also be seen above plot of the absorption coefficient."
   ],
   "metadata": {
    "collapsed": false,
    "pycharm": {
     "name": "#%% md\n"
    }
   }
  },
  {
   "cell_type": "code",
   "execution_count": null,
   "outputs": [],
   "source": [
    "od = []\n",
    "flux_ratios = []\n",
    "for alt in alts:\n",
    "    mask = co2_optical_depth[\"altitude\"] == alt\n",
    "    alt_od = co2_optical_depth[\"optical_depth\"][mask]\n",
    "    od.append(alt_od)\n",
    "    flux_ratios.append(np.exp(-alt_od/1000))"
   ],
   "metadata": {
    "collapsed": false,
    "pycharm": {
     "name": "#%%\n"
    }
   }
  },
  {
   "cell_type": "code",
   "execution_count": null,
   "outputs": [],
   "source": [
    "cmap = sns.color_palette(\"rocket\", 10)\n",
    "sm = plt.cm.ScalarMappable(\n",
    "    cmap=\"rocket\", norm=plt.Normalize(vmin=0, vmax=30000)\n",
    ")\n",
    "fig, ax = plt.subplots(1, 1, figsize=(10, 6))\n",
    "color_cycle = ax.set_prop_cycle(color=cmap)\n",
    "for flux_ratio in flux_ratios:\n",
    "    plt.fill_between(nu, flux_ratio, 1)\n",
    "cb = fig.colorbar(sm)\n",
    "ax.set_xlabel(\"Wavenumber $(cm^{-1})$\")\n",
    "ax.set_ylabel(\"$I(z+1km)/I(z)$\")\n",
    "cb.set_label(\"z (Altitude)\");"
   ],
   "metadata": {
    "collapsed": false,
    "pycharm": {
     "name": "#%%\n"
    }
   }
  },
  {
   "cell_type": "markdown",
   "source": [
    "## Logarithmic Plot of Optical Depth, $\\tau$\n",
    "\n",
    "The previous figure displays clear windows of opacity which decrease in size with increasing altitude. Plotting a semilog plot of the optical depth $\\tau$ shows the large range for which absorption coefficients can meaningfully impact flux transmitted through a block of atmosphere.\n",
    "\n",
    " $\\tau$ values that appear to contribute, by eye, span a range $[10^{-1}, 10^5]$. The range is raised because typical efforts to reduce the amount of computation, such as an absolute value cut off of the form `values[values< max_value*0.001] = 0`, would produce severe discrepancies in the output of the previous figure.\n",
    "\n",
    "A common technique used in radiation codes is to smooth the absorption lines and define windows of no absorption to reduce the computational cost. "
   ],
   "metadata": {
    "collapsed": false,
    "pycharm": {
     "name": "#%% md\n"
    }
   }
  },
  {
   "cell_type": "code",
   "execution_count": null,
   "outputs": [],
   "source": [
    "cmap = sns.color_palette('rocket', 10)\n",
    "sm = plt.cm.ScalarMappable(cmap='rocket',\n",
    "                           norm=plt.Normalize(vmin=0, vmax=30000)\n",
    "                           )\n",
    "fig, ax = plt.subplots(1, 1, figsize=(10, 6))\n",
    "color_cycle = ax.set_prop_cycle(color=cmap)\n",
    "\n",
    "for o_d in od:\n",
    "    ax.semilogy(nu, o_d)\n",
    "cb = fig.colorbar(sm)\n",
    "ax.set_xlabel('Wavenumber $(cm^{-1})$')\n",
    "ax.set_ylabel(\n",
    "    'Optical Thickness from CO$_2$ \\n  between $z, z+1km$ of Atmosphere')\n",
    "ax.set_ylim(10 ** -9)\n",
    "cb.set_label('z (Altitude)');"
   ],
   "metadata": {
    "collapsed": false,
    "pycharm": {
     "name": "#%%\n"
    }
   }
  },
  {
   "cell_type": "code",
   "execution_count": 10,
   "metadata": {
    "pycharm": {
     "name": "#%%\n"
    }
   },
   "outputs": [
    {
     "data": {
      "text/plain": [
       "Text(0, 0.5, 'Transmittance')"
      ]
     },
     "execution_count": 10,
     "metadata": {},
     "output_type": "execute_result"
    },
    {
     "data": {
      "image/png": "[encoded data removed]",
      "text/plain": [
       "<Figure size 432x432 with 1 Axes>"
      ]
     },
     "metadata": {
      "needs_background": "light"
     },
     "output_type": "display_data"
    }
   ],
   "source": [
    "plt.figure(figsize=(6, 6))\n",
    "plt.plot(nu, flux_ratios[0], linewidth=0.1)\n",
    "plt.xlabel('wavenumber $cm^{-1}$')\n",
    "plt.ylabel('Transmittance')"
   ]
  }
 ],
 "metadata": {
  "kernelspec": {
   "display_name": "book",
   "language": "python",
   "name": "book"
  },
  "language_info": {
   "codemirror_mode": {
    "name": "ipython",
    "version": 3
   },
   "file_extension": ".py",
   "mimetype": "text/x-python",
   "name": "python",
   "nbconvert_exporter": "python",
   "pygments_lexer": "ipython3",
   "version": "3.10.4"
  },
  "vscode": {
   "interpreter": {
    "hash": "25a19fbe0a9132dfb9279d48d161753c6352f8f9478c2e74383d340069b907c3"
   }
  }
 },
 "nbformat": 4,
 "nbformat_minor": 4
}