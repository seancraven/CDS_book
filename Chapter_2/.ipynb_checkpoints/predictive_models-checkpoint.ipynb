{
 "cells": [
  {
   "cell_type": "markdown",
   "metadata": {},
   "source": [
    "# Predictive Modeling \n",
    "One of the critical uses of data recorded in the past is to attempt to make inferences about the future. Making predictions about future events on time series data can be done by forming a model on historical data.\n",
    "\n",
    "An introductory example of the general methodology of data-driven predictions using partitioning data into; training, validation and testing sections is explored. These sections are used as follows; the data is used to derive a model from the training data. Next, this model is tested on available validation data. Finally, the model is applied to the testing data to predict its behaviour. \n",
    "\n",
    "A straightforward example of predictive modelling using linear regression is taken from the previous section and walked through. The question is to test if there is an observable drop-in $\\textrm{CO}_2$ from the pandemic. In the previous section, a model was derived using least-squares regression and Fourier series of the form eq.{eq}`model`. In this example, the free co-efficient of the model will be discerned from the period from 1980 up to 2018. This period gives a large window to learn from to avoid lacking generalisation while also providing a good fit with the validation window of $2018, 2019$. \n",
    "\n",
    "When performing any supervised prediction task, a training data set is selected. A training set is data in which the independent and dependent variables are known. In such an example, the form of the predicted quantity is slightly obscured, ie the occurrence of an anomaly. However, the modelling of $\\textrm{CO}_2$ concentration, $\\textrm{CO}_2$ concentration and time are the dependent and independent variables, respectively. The model is then built from this data. For linear regression, this constitutes determining the form of the function and evaluating the free coefficients.\n",
    "\n",
    "Using this model, the validation data is then investigated. This must not overlap with the training data. In the global $\\textrm{CO}_2$ data, using the years $2018, 2019$ provides a period as similar as possible to the test window $2020, 2021$ asides from the pandemic anomaly being tested for. The quality of the model is then assessed on the validation data. Because the actual value of the validation data is known(There were no pandemics), the model's efficacy can be assessed here using the $\\chi^2$ metric. \n",
    "\n",
    "If the model's behaviour on the validation set is satisfactory. Then the model can be used to investigate the test case. If there was a significant deviation from eq.{eq}`model` in 2020, then the presence of the pandemic can be shown. \n",
    "\n"
   ]
  },
  {
   "cell_type": "code",
   "execution_count": 1,
   "metadata": {
    "tags": [
     "remove-input"
    ]
   },
   "outputs": [],
   "source": [
    "import pandas as pd\n",
    "import scipy.optimize\n",
    "import numpy as np\n",
    "import matplotlib.pyplot as plt\n",
    "import pandas as pd\n",
    "from dur_utils import colours\n",
    "from scipy import stats\n",
    "from matplotlib import cycler\n",
    "import inspect\n",
    "plt.style.use('../CDS.mplstyle')\n",
    "\n",
    "path_ml =  'https://gml.noaa.gov/webdata/ccgg/trends/co2/co2_mm_mlo.csv'              \n",
    "co2_data_ml = pd.read_csv(path_ml, header=0, comment='#')\n",
    "co2_data_ml = co2_data_ml[co2_data_ml['sdev']>0] "
   ]
  },
  {
   "cell_type": "code",
   "execution_count": 2,
   "metadata": {
    "tags": [
     "hide-input"
    ]
   },
   "outputs": [],
   "source": [
    "def model(x, a_0, a_1, omega_0, omega_1, c, p_1,p_2,p_3):\n",
    "    polynomial = x*p_1 + x**2*p_2 +x**3*p_3\n",
    "    trig = a_0*np.cos((x + 1/2)*2*np.pi*omega_0) \\\n",
    "        + a_1*np.cos((x + 1/2)*2*np.pi*omega_1)\n",
    "    return c + trig + polynomial\n",
    "\n",
    "# Training Set\n",
    "test_years = [i for i in range(1980, 2020)]\n",
    "mask = np.isin(co2_data_ml['year'], test_years)\n",
    "train_co2_data = co2_data_ml.iloc[mask]\n",
    "# Validation Set\n",
    "val_years = [i for i in range(2018, 2020)]\n",
    "mask = np.isin(co2_data_ml['year'], val_years)\n",
    "val_co2_data = co2_data_ml.iloc[mask]\n",
    "# Test Set\n",
    "test_years = [i for i in range(2020, 2021)]\n",
    "mask = np.isin(co2_data_ml['year'], test_years)\n",
    "test_co2_data = co2_data_ml.iloc[mask]\n",
    "# Fitting\n",
    "model_fit, model_error = scipy.optimize.curve_fit(model,\n",
    "    co2_data_ml['decimal date'],\n",
    "    co2_data_ml['average'],\n",
    "    sigma = co2_data_ml['sdev'],\n",
    "    p0=[5,5,1,2,-2*10**6,3*10**3,0,0] # Inital Parameter Guess\n",
    "    )\n",
    "#chisq\n",
    "model_ml = model(co2_data_ml['decimal date'], *model_fit)\n",
    "model_residuals = model_ml - co2_data_ml['average']\n",
    "chisq_model = np.sum((model_residuals\n",
    "    / co2_data_ml['sdev'])**2\n",
    "    )\n",
    "nu_model = co2_data_ml['average'].shape[0] - len(model_fit)\n",
    "p_model = stats.chi2.sf(chisq_model,nu_model)\n",
    "chi_crit = stats.chi2.isf(.05,nu_model)\n"
   ]
  },
  {
   "cell_type": "markdown",
   "metadata": {},
   "source": [
    "```{margin} Classes\n",
    "[Classes](https://docs.python.org/3/tutorial/classes.html) are the staple of Object oriented programming(OOP). An example is the `FittedModel` class. A class can be called and has methods and atributes. Methods are functions of the object. Atributes are values stored inside the class. A good example of a class is a list. It has multiple functions like `__len__()` which returns the instance of the classes length. The ` __init__()` dunder method initialises the class, creating an instance. The instance here is the specific object, a list of `[1, 2, 3]`.  The atributes of the list are its values. When implementing a class it is considered good practice to only have users interact with methods. Chapter 10 of [Python Programming: An introduction to Computer Science](https://www.google.co.uk/books/edition/Python_Programming/) covers Classes well. However, there are many guides online to their implementation. \n",
    "```"
   ]
  },
  {
   "cell_type": "code",
   "execution_count": 3,
   "metadata": {
    "tags": [
     "hide-input"
    ]
   },
   "outputs": [],
   "source": [
    "class FittedModel:\n",
    "    def __init__(self, fn, x, y, sigma=None,\n",
    "        p0=None, name=None, fit_coefs=None\n",
    "        ):\n",
    "        self.fn  = fn\n",
    "        self.x = x\n",
    "        self.y = y\n",
    "        self.sigma = sigma\n",
    "        self.p0 = p0\n",
    "        self.name = name\n",
    "        if fit_coefs:\n",
    "            self.fit_coefs, self.fit_errs = fit_coefs\n",
    "            self.fit_errs = None \n",
    "        else:\n",
    "            self.fit_coefs , self.fit_cov = self.get_fit()\n",
    "            self.fit_errs = np.diagonal(self.fit_cov)**0.5\n",
    "    \n",
    "    def get_fit(self):\n",
    "        '''Applies scipy.optimize.curve_fit() to the passed args.\n",
    "\n",
    "        returns fit_coefs array, correlation_array  \n",
    "        '''\n",
    "        model_fit, model_error = scipy.optimize.curve_fit(self.fn,\n",
    "            self.x,\n",
    "            self.y,\n",
    "            sigma=self.sigma,\n",
    "            p0=self.p0\n",
    "            )\n",
    "        return model_fit, model_error\n",
    "    \n",
    "    def fit_data(self):\n",
    "        '''Returns the fitted function evaluated on x'''\n",
    "        return self.fn(self.x, *self.fit_coefs)\n",
    "    \n",
    "    def get_chi2(self)-> int:\n",
    "        '''Returns the chi^2 value of the model'''\n",
    "        fit = self.fit_data()\n",
    "        residuals = fit - self.y\n",
    "        if self.sigma is not None:\n",
    "            chi2 = np.sum((residuals / self.sigma)**2)\n",
    "        else:\n",
    "            print('No Uncertanity, Using Expectation')\n",
    "            print('Expectation of the values is: E(residuals)') \n",
    "            chi2 = np.sum((residuals / np.mean(residuals))**2)\n",
    "        return chi2\n",
    "\n",
    "    def get_nu(self)-> int:\n",
    "        '''Returns the degrees of freedom of the model'''\n",
    "        return len(self.x) - len(self.fit_coefs)\n",
    "    \n",
    "    def get_sf(self) -> int:\n",
    "        '''Returns P(chi^2 > chi^2_min)'''\n",
    "        chi_min = self.get_chi2()\n",
    "        nu = self.get_nu()\n",
    "        return scipy.stats.chi2.sf(chi_min, nu)\n",
    "    \n",
    "    def print_errors(self):\n",
    "        'Prints the models co-efficient\\'s associated errors '\n",
    "        coef_names = inspect.getfullargspec(self.fn).args\n",
    "        for i, (value, error) in enumerate(zip(self.fit_coefs,self.fit_errs)):\n",
    "            if error:\n",
    "                print(f'{coef_names[1+i]} = {value:.2} +_ {error:.1}')\n",
    "            else:\n",
    "                print('No error. The model was fitted on other Data')"
   ]
  },
  {
   "cell_type": "code",
   "execution_count": 4,
   "metadata": {},
   "outputs": [
    {
     "name": "stdout",
     "output_type": "stream",
     "text": [
      "Training Model Co-efficients\n",
      "a_0 = 2.9 +_ 0.04\n",
      "a_1 = 0.82 +_ 0.04\n",
      "omega_0 = 1.0 +_ 1e-06\n",
      "omega_1 = 2.0 +_ 4e-06\n",
      "c = -2e+06 +_ 2e+05\n",
      "p_1 = 3.1e+03 +_ 3e+02\n",
      "p_2 = -1.5 +_ 0.1\n",
      "p_3 = 0.00026 +_ 2e-05\n"
     ]
    }
   ],
   "source": [
    "train  = FittedModel(model,\n",
    "    train_co2_data['decimal date'],\n",
    "    train_co2_data['average'],\n",
    "    sigma=train_co2_data['sdev'],\n",
    "    p0=[5,5,1,2,0,0,0,0],\n",
    "    name = 'Training Model'\n",
    "    )\n",
    "test  = FittedModel(model,\n",
    "    test_co2_data['decimal date'],\n",
    "    test_co2_data['average'],\n",
    "    sigma=test_co2_data['sdev'],\n",
    "    name = 'Test Model', \n",
    "    fit_coefs= train.get_fit()\n",
    "    )\n",
    "val  = FittedModel(model,\n",
    "    val_co2_data['decimal date'],\n",
    "    val_co2_data['average'],\n",
    "    sigma=val_co2_data['sdev'],\n",
    "    name = 'Validation Model',\n",
    "    fit_coefs= train.get_fit()\n",
    "    )\n",
    "\n",
    "print('Training Model Co-efficients')\n",
    "train.print_errors()"
   ]
  },
  {
   "cell_type": "markdown",
   "metadata": {},
   "source": [
    "### Problems with error on $P_0$ and $P_1$\n",
    "The error on both quantities is astronomically high, around 10%. Further, it can be shown that it is an inaccurate measurement. If one changes the starting position for these quantities, the `p0` `kwarg` for `scipy.optimize.curve_fit`, the results do not oscillate around the obtained values indicating that the distribution of possible values is much tighter than the actual result. A better estimate of such errors can be determined by performing the fit with random start values centered around the obtained value.  \n"
   ]
  },
  {
   "cell_type": "code",
   "execution_count": 5,
   "metadata": {
    "tags": [
     "remove-input"
    ]
   },
   "outputs": [
    {
     "name": "stdout",
     "output_type": "stream",
     "text": [
      "C coefficent:-2e+06 +_ 2e-10 \n",
      "P_1 coefficient:3e+03 +_ 0e+00\n"
     ]
    }
   ],
   "source": [
    "c_mean, p_mean = train.fit_coefs[[4,5]]\n",
    "length = 1000\n",
    "coef_df = pd.DataFrame(np.zeros((length, 2)), columns=['c', 'p_1'])\n",
    "for i, _ in enumerate(coef_df):\n",
    "    c_0 = np.random.normal(loc=c_mean, scale=abs(c_mean/10))\n",
    "    p_1_0 = np.random.normal(loc=p_mean, scale=abs(p_mean/10))\n",
    "    error_train  = FittedModel(model,\n",
    "    train_co2_data['decimal date'],\n",
    "    train_co2_data['average'],\n",
    "    sigma=train_co2_data['sdev'],\n",
    "    p0=[5,5,1,2,c_0,p_1_0,0,0],\n",
    "    name = 'Training Model'\n",
    "    )\n",
    "    coef_df.iloc[:,] = error_train.fit_coefs[[4,5]]\n",
    "coef_mean = np.mean(coef_df, axis=0)\n",
    "coef_ste = np.std(coef_df, axis=0)\n",
    "print(f'C coefficent:{coef_mean[0]:.2} +_ {coef_ste[0]:.1} \\n'\n",
    "    F'P_1 coefficient:{coef_mean[1]:.2} +_ {coef_ste[1]:.1}')\n",
    "train.fit_errs[[4,5]] = coef_ste"
   ]
  },
  {
   "cell_type": "code",
   "execution_count": 6,
   "metadata": {
    "tags": [
     "remove-imput"
    ]
   },
   "outputs": [],
   "source": [
    "#params\n",
    "labels = ['a_0', 'a_1', 'omega_0', 'omega_1', 'c', 'p_1', 'p_2', 'p_3']\n",
    "model_fit_params = pd.Series(train.fit_coefs,index=labels)\n",
    "fname = '../output_files/co2_model_parameters.csv'\n",
    "model_fit_params.to_csv(fname)\n",
    "#errors\n",
    "model_cov_frame = pd.Series(train.fit_errs, index=labels)\n",
    "fname = '../output_files/co2_model_parameters_errors.csv'\n",
    "\n",
    "model_cov_frame.to_csv(fname)"
   ]
  },
  {
   "cell_type": "code",
   "execution_count": 7,
   "metadata": {
    "tags": [
     "hide-input"
    ]
   },
   "outputs": [
    {
     "name": "stdout",
     "output_type": "stream",
     "text": [
      "Training Model\n",
      "chi^2 = 1.005e+03\n",
      "chi^2/nu = 2.134\n",
      "P(chi^2 > chi^2_min) = 7.862e-41\n",
      "\n",
      "Validation Model\n",
      "chi^2 = 13.67\n",
      "chi^2/nu = 0.8541\n",
      "P(chi^2 > chi^2_min) = 0.6236\n",
      "\n",
      "Test Model\n",
      "chi^2 = 9.291\n",
      "chi^2/nu = 2.323\n",
      "P(chi^2 > chi^2_min) = 0.05423\n",
      "\n"
     ]
    }
   ],
   "source": [
    "for model_ in [train, val, test]:\n",
    "    print(model_.name)\n",
    "    print(f'chi^2 = {model_.get_chi2():.4}')\n",
    "    print(f'chi^2/nu = {model_.get_chi2()/model_.get_nu():.4}')\n",
    "    print(f'P(chi^2 > chi^2_min) = {model_.get_sf():.4}')\n",
    "    print('')"
   ]
  },
  {
   "cell_type": "markdown",
   "metadata": {},
   "source": [
    "## Results\n",
    "The output $\\chi^2$ statistics for the training model are to be desired, with a very low probability that the model demonstrates a good fit. However, This is not particularly important for the current test. Inspecting the performance of the model on the validation period, the model provides a good fit. This is exemplified by the $P(\\chi^2 \\geq \\chi^2_{min};\\nu) = 0.63$, well inside a significance level of 5 percent. This strong agreement between the validation data and the model suggests that the model is extended into the testing regime. \n",
    "\n",
    "In the testing regime, the $P(\\chi^2 \\geq \\chi^2_{min};\\nu) = 0.055$. This $P$ value indicates that approximately 5% of the time, the random variable normalised residuals would be distributed in such a manner. This extrapolation is pushing the bounds of the model. In this case, there is insufficient evidence to say that there has been a noticeable downwards trend in $\\textrm{CO}_2$ production over the year $2020$. "
   ]
  },
  {
   "cell_type": "code",
   "execution_count": 8,
   "metadata": {
    "tags": [
     "hide-input"
    ]
   },
   "outputs": [
    {
     "ename": "ValueError",
     "evalue": "\n\\textrm{CO}_2\n^\nUnknown symbol: \\textrm, found '\\'  (at char 0), (line:1, col:1)",
     "output_type": "error",
     "traceback": [
      "\u001b[0;31m---------------------------------------------------------------------------\u001b[0m",
      "\u001b[0;31mParseFatalException\u001b[0m                       Traceback (most recent call last)",
      "File \u001b[0;32m~/anaconda3/envs/CDS_book/lib/python3.10/site-packages/matplotlib/_mathtext.py:2237\u001b[0m, in \u001b[0;36mParser.parse\u001b[0;34m(self, s, fonts_object, fontsize, dpi)\u001b[0m\n\u001b[1;32m   2236\u001b[0m \u001b[39mtry\u001b[39;00m:\n\u001b[0;32m-> 2237\u001b[0m     result \u001b[39m=\u001b[39m \u001b[39mself\u001b[39;49m\u001b[39m.\u001b[39;49m_expression\u001b[39m.\u001b[39;49mparseString(s)\n\u001b[1;32m   2238\u001b[0m \u001b[39mexcept\u001b[39;00m ParseBaseException \u001b[39mas\u001b[39;00m err:\n",
      "File \u001b[0;32m~/anaconda3/envs/CDS_book/lib/python3.10/site-packages/pyparsing/core.py:1141\u001b[0m, in \u001b[0;36mParserElement.parse_string\u001b[0;34m(self, instring, parse_all, parseAll)\u001b[0m\n\u001b[1;32m   1139\u001b[0m     \u001b[39melse\u001b[39;00m:\n\u001b[1;32m   1140\u001b[0m         \u001b[39m# catch and re-raise exception from here, clearing out pyparsing internal stack trace\u001b[39;00m\n\u001b[0;32m-> 1141\u001b[0m         \u001b[39mraise\u001b[39;00m exc\u001b[39m.\u001b[39mwith_traceback(\u001b[39mNone\u001b[39;00m)\n\u001b[1;32m   1142\u001b[0m \u001b[39melse\u001b[39;00m:\n",
      "\u001b[0;31mParseFatalException\u001b[0m: Unknown symbol: \\textrm, found '\\'  (at char 0), (line:1, col:1)",
      "\nThe above exception was the direct cause of the following exception:\n",
      "\u001b[0;31mValueError\u001b[0m                                Traceback (most recent call last)",
      "File \u001b[0;32m~/anaconda3/envs/CDS_book/lib/python3.10/site-packages/IPython/core/formatters.py:339\u001b[0m, in \u001b[0;36mBaseFormatter.__call__\u001b[0;34m(self, obj)\u001b[0m\n\u001b[1;32m    337\u001b[0m     \u001b[39mpass\u001b[39;00m\n\u001b[1;32m    338\u001b[0m \u001b[39melse\u001b[39;00m:\n\u001b[0;32m--> 339\u001b[0m     \u001b[39mreturn\u001b[39;00m printer(obj)\n\u001b[1;32m    340\u001b[0m \u001b[39m# Finally look for special method names\u001b[39;00m\n\u001b[1;32m    341\u001b[0m method \u001b[39m=\u001b[39m get_real_method(obj, \u001b[39mself\u001b[39m\u001b[39m.\u001b[39mprint_method)\n",
      "File \u001b[0;32m~/anaconda3/envs/CDS_book/lib/python3.10/site-packages/IPython/core/pylabtools.py:151\u001b[0m, in \u001b[0;36mprint_figure\u001b[0;34m(fig, fmt, bbox_inches, base64, **kwargs)\u001b[0m\n\u001b[1;32m    148\u001b[0m     \u001b[39mfrom\u001b[39;00m \u001b[39mmatplotlib\u001b[39;00m\u001b[39m.\u001b[39;00m\u001b[39mbackend_bases\u001b[39;00m \u001b[39mimport\u001b[39;00m FigureCanvasBase\n\u001b[1;32m    149\u001b[0m     FigureCanvasBase(fig)\n\u001b[0;32m--> 151\u001b[0m fig\u001b[39m.\u001b[39;49mcanvas\u001b[39m.\u001b[39;49mprint_figure(bytes_io, \u001b[39m*\u001b[39;49m\u001b[39m*\u001b[39;49mkw)\n\u001b[1;32m    152\u001b[0m data \u001b[39m=\u001b[39m bytes_io\u001b[39m.\u001b[39mgetvalue()\n\u001b[1;32m    153\u001b[0m \u001b[39mif\u001b[39;00m fmt \u001b[39m==\u001b[39m \u001b[39m'\u001b[39m\u001b[39msvg\u001b[39m\u001b[39m'\u001b[39m:\n",
      "File \u001b[0;32m~/anaconda3/envs/CDS_book/lib/python3.10/site-packages/matplotlib/backend_bases.py:2295\u001b[0m, in \u001b[0;36mFigureCanvasBase.print_figure\u001b[0;34m(self, filename, dpi, facecolor, edgecolor, orientation, format, bbox_inches, pad_inches, bbox_extra_artists, backend, **kwargs)\u001b[0m\n\u001b[1;32m   2289\u001b[0m     renderer \u001b[39m=\u001b[39m _get_renderer(\n\u001b[1;32m   2290\u001b[0m         \u001b[39mself\u001b[39m\u001b[39m.\u001b[39mfigure,\n\u001b[1;32m   2291\u001b[0m         functools\u001b[39m.\u001b[39mpartial(\n\u001b[1;32m   2292\u001b[0m             print_method, orientation\u001b[39m=\u001b[39morientation)\n\u001b[1;32m   2293\u001b[0m     )\n\u001b[1;32m   2294\u001b[0m     \u001b[39mwith\u001b[39;00m \u001b[39mgetattr\u001b[39m(renderer, \u001b[39m\"\u001b[39m\u001b[39m_draw_disabled\u001b[39m\u001b[39m\"\u001b[39m, nullcontext)():\n\u001b[0;32m-> 2295\u001b[0m         \u001b[39mself\u001b[39;49m\u001b[39m.\u001b[39;49mfigure\u001b[39m.\u001b[39;49mdraw(renderer)\n\u001b[1;32m   2297\u001b[0m \u001b[39mif\u001b[39;00m bbox_inches:\n\u001b[1;32m   2298\u001b[0m     \u001b[39mif\u001b[39;00m bbox_inches \u001b[39m==\u001b[39m \u001b[39m\"\u001b[39m\u001b[39mtight\u001b[39m\u001b[39m\"\u001b[39m:\n",
      "File \u001b[0;32m~/anaconda3/envs/CDS_book/lib/python3.10/site-packages/matplotlib/artist.py:73\u001b[0m, in \u001b[0;36m_finalize_rasterization.<locals>.draw_wrapper\u001b[0;34m(artist, renderer, *args, **kwargs)\u001b[0m\n\u001b[1;32m     71\u001b[0m \u001b[39m@wraps\u001b[39m(draw)\n\u001b[1;32m     72\u001b[0m \u001b[39mdef\u001b[39;00m \u001b[39mdraw_wrapper\u001b[39m(artist, renderer, \u001b[39m*\u001b[39margs, \u001b[39m*\u001b[39m\u001b[39m*\u001b[39mkwargs):\n\u001b[0;32m---> 73\u001b[0m     result \u001b[39m=\u001b[39m draw(artist, renderer, \u001b[39m*\u001b[39;49margs, \u001b[39m*\u001b[39;49m\u001b[39m*\u001b[39;49mkwargs)\n\u001b[1;32m     74\u001b[0m     \u001b[39mif\u001b[39;00m renderer\u001b[39m.\u001b[39m_rasterizing:\n\u001b[1;32m     75\u001b[0m         renderer\u001b[39m.\u001b[39mstop_rasterizing()\n",
      "File \u001b[0;32m~/anaconda3/envs/CDS_book/lib/python3.10/site-packages/matplotlib/artist.py:50\u001b[0m, in \u001b[0;36mallow_rasterization.<locals>.draw_wrapper\u001b[0;34m(artist, renderer)\u001b[0m\n\u001b[1;32m     47\u001b[0m     \u001b[39mif\u001b[39;00m artist\u001b[39m.\u001b[39mget_agg_filter() \u001b[39mis\u001b[39;00m \u001b[39mnot\u001b[39;00m \u001b[39mNone\u001b[39;00m:\n\u001b[1;32m     48\u001b[0m         renderer\u001b[39m.\u001b[39mstart_filter()\n\u001b[0;32m---> 50\u001b[0m     \u001b[39mreturn\u001b[39;00m draw(artist, renderer)\n\u001b[1;32m     51\u001b[0m \u001b[39mfinally\u001b[39;00m:\n\u001b[1;32m     52\u001b[0m     \u001b[39mif\u001b[39;00m artist\u001b[39m.\u001b[39mget_agg_filter() \u001b[39mis\u001b[39;00m \u001b[39mnot\u001b[39;00m \u001b[39mNone\u001b[39;00m:\n",
      "File \u001b[0;32m~/anaconda3/envs/CDS_book/lib/python3.10/site-packages/matplotlib/figure.py:2837\u001b[0m, in \u001b[0;36mFigure.draw\u001b[0;34m(self, renderer)\u001b[0m\n\u001b[1;32m   2834\u001b[0m         \u001b[39m# ValueError can occur when resizing a window.\u001b[39;00m\n\u001b[1;32m   2836\u001b[0m \u001b[39mself\u001b[39m\u001b[39m.\u001b[39mpatch\u001b[39m.\u001b[39mdraw(renderer)\n\u001b[0;32m-> 2837\u001b[0m mimage\u001b[39m.\u001b[39;49m_draw_list_compositing_images(\n\u001b[1;32m   2838\u001b[0m     renderer, \u001b[39mself\u001b[39;49m, artists, \u001b[39mself\u001b[39;49m\u001b[39m.\u001b[39;49msuppressComposite)\n\u001b[1;32m   2840\u001b[0m \u001b[39mfor\u001b[39;00m sfig \u001b[39min\u001b[39;00m \u001b[39mself\u001b[39m\u001b[39m.\u001b[39msubfigs:\n\u001b[1;32m   2841\u001b[0m     sfig\u001b[39m.\u001b[39mdraw(renderer)\n",
      "File \u001b[0;32m~/anaconda3/envs/CDS_book/lib/python3.10/site-packages/matplotlib/image.py:132\u001b[0m, in \u001b[0;36m_draw_list_compositing_images\u001b[0;34m(renderer, parent, artists, suppress_composite)\u001b[0m\n\u001b[1;32m    130\u001b[0m \u001b[39mif\u001b[39;00m not_composite \u001b[39mor\u001b[39;00m \u001b[39mnot\u001b[39;00m has_images:\n\u001b[1;32m    131\u001b[0m     \u001b[39mfor\u001b[39;00m a \u001b[39min\u001b[39;00m artists:\n\u001b[0;32m--> 132\u001b[0m         a\u001b[39m.\u001b[39;49mdraw(renderer)\n\u001b[1;32m    133\u001b[0m \u001b[39melse\u001b[39;00m:\n\u001b[1;32m    134\u001b[0m     \u001b[39m# Composite any adjacent images together\u001b[39;00m\n\u001b[1;32m    135\u001b[0m     image_group \u001b[39m=\u001b[39m []\n",
      "File \u001b[0;32m~/anaconda3/envs/CDS_book/lib/python3.10/site-packages/matplotlib/artist.py:50\u001b[0m, in \u001b[0;36mallow_rasterization.<locals>.draw_wrapper\u001b[0;34m(artist, renderer)\u001b[0m\n\u001b[1;32m     47\u001b[0m     \u001b[39mif\u001b[39;00m artist\u001b[39m.\u001b[39mget_agg_filter() \u001b[39mis\u001b[39;00m \u001b[39mnot\u001b[39;00m \u001b[39mNone\u001b[39;00m:\n\u001b[1;32m     48\u001b[0m         renderer\u001b[39m.\u001b[39mstart_filter()\n\u001b[0;32m---> 50\u001b[0m     \u001b[39mreturn\u001b[39;00m draw(artist, renderer)\n\u001b[1;32m     51\u001b[0m \u001b[39mfinally\u001b[39;00m:\n\u001b[1;32m     52\u001b[0m     \u001b[39mif\u001b[39;00m artist\u001b[39m.\u001b[39mget_agg_filter() \u001b[39mis\u001b[39;00m \u001b[39mnot\u001b[39;00m \u001b[39mNone\u001b[39;00m:\n",
      "File \u001b[0;32m~/anaconda3/envs/CDS_book/lib/python3.10/site-packages/matplotlib/axes/_base.py:3091\u001b[0m, in \u001b[0;36m_AxesBase.draw\u001b[0;34m(self, renderer)\u001b[0m\n\u001b[1;32m   3088\u001b[0m         a\u001b[39m.\u001b[39mdraw(renderer)\n\u001b[1;32m   3089\u001b[0m     renderer\u001b[39m.\u001b[39mstop_rasterizing()\n\u001b[0;32m-> 3091\u001b[0m mimage\u001b[39m.\u001b[39;49m_draw_list_compositing_images(\n\u001b[1;32m   3092\u001b[0m     renderer, \u001b[39mself\u001b[39;49m, artists, \u001b[39mself\u001b[39;49m\u001b[39m.\u001b[39;49mfigure\u001b[39m.\u001b[39;49msuppressComposite)\n\u001b[1;32m   3094\u001b[0m renderer\u001b[39m.\u001b[39mclose_group(\u001b[39m'\u001b[39m\u001b[39maxes\u001b[39m\u001b[39m'\u001b[39m)\n\u001b[1;32m   3095\u001b[0m \u001b[39mself\u001b[39m\u001b[39m.\u001b[39mstale \u001b[39m=\u001b[39m \u001b[39mFalse\u001b[39;00m\n",
      "File \u001b[0;32m~/anaconda3/envs/CDS_book/lib/python3.10/site-packages/matplotlib/image.py:132\u001b[0m, in \u001b[0;36m_draw_list_compositing_images\u001b[0;34m(renderer, parent, artists, suppress_composite)\u001b[0m\n\u001b[1;32m    130\u001b[0m \u001b[39mif\u001b[39;00m not_composite \u001b[39mor\u001b[39;00m \u001b[39mnot\u001b[39;00m has_images:\n\u001b[1;32m    131\u001b[0m     \u001b[39mfor\u001b[39;00m a \u001b[39min\u001b[39;00m artists:\n\u001b[0;32m--> 132\u001b[0m         a\u001b[39m.\u001b[39;49mdraw(renderer)\n\u001b[1;32m    133\u001b[0m \u001b[39melse\u001b[39;00m:\n\u001b[1;32m    134\u001b[0m     \u001b[39m# Composite any adjacent images together\u001b[39;00m\n\u001b[1;32m    135\u001b[0m     image_group \u001b[39m=\u001b[39m []\n",
      "File \u001b[0;32m~/anaconda3/envs/CDS_book/lib/python3.10/site-packages/matplotlib/artist.py:50\u001b[0m, in \u001b[0;36mallow_rasterization.<locals>.draw_wrapper\u001b[0;34m(artist, renderer)\u001b[0m\n\u001b[1;32m     47\u001b[0m     \u001b[39mif\u001b[39;00m artist\u001b[39m.\u001b[39mget_agg_filter() \u001b[39mis\u001b[39;00m \u001b[39mnot\u001b[39;00m \u001b[39mNone\u001b[39;00m:\n\u001b[1;32m     48\u001b[0m         renderer\u001b[39m.\u001b[39mstart_filter()\n\u001b[0;32m---> 50\u001b[0m     \u001b[39mreturn\u001b[39;00m draw(artist, renderer)\n\u001b[1;32m     51\u001b[0m \u001b[39mfinally\u001b[39;00m:\n\u001b[1;32m     52\u001b[0m     \u001b[39mif\u001b[39;00m artist\u001b[39m.\u001b[39mget_agg_filter() \u001b[39mis\u001b[39;00m \u001b[39mnot\u001b[39;00m \u001b[39mNone\u001b[39;00m:\n",
      "File \u001b[0;32m~/anaconda3/envs/CDS_book/lib/python3.10/site-packages/matplotlib/axis.py:1172\u001b[0m, in \u001b[0;36mAxis.draw\u001b[0;34m(self, renderer, *args, **kwargs)\u001b[0m\n\u001b[1;32m   1165\u001b[0m \u001b[39m# scale up the axis label box to also find the neighbors, not\u001b[39;00m\n\u001b[1;32m   1166\u001b[0m \u001b[39m# just the tick labels that actually overlap note we need a\u001b[39;00m\n\u001b[1;32m   1167\u001b[0m \u001b[39m# *copy* of the axis label box because we don't want to scale\u001b[39;00m\n\u001b[1;32m   1168\u001b[0m \u001b[39m# the actual bbox\u001b[39;00m\n\u001b[1;32m   1170\u001b[0m \u001b[39mself\u001b[39m\u001b[39m.\u001b[39m_update_label_position(renderer)\n\u001b[0;32m-> 1172\u001b[0m \u001b[39mself\u001b[39;49m\u001b[39m.\u001b[39;49mlabel\u001b[39m.\u001b[39;49mdraw(renderer)\n\u001b[1;32m   1174\u001b[0m \u001b[39mself\u001b[39m\u001b[39m.\u001b[39m_update_offset_text_position(ticklabelBoxes, ticklabelBoxes2)\n\u001b[1;32m   1175\u001b[0m \u001b[39mself\u001b[39m\u001b[39m.\u001b[39moffsetText\u001b[39m.\u001b[39mset_text(\u001b[39mself\u001b[39m\u001b[39m.\u001b[39mmajor\u001b[39m.\u001b[39mformatter\u001b[39m.\u001b[39mget_offset())\n",
      "File \u001b[0;32m~/anaconda3/envs/CDS_book/lib/python3.10/site-packages/matplotlib/artist.py:50\u001b[0m, in \u001b[0;36mallow_rasterization.<locals>.draw_wrapper\u001b[0;34m(artist, renderer)\u001b[0m\n\u001b[1;32m     47\u001b[0m     \u001b[39mif\u001b[39;00m artist\u001b[39m.\u001b[39mget_agg_filter() \u001b[39mis\u001b[39;00m \u001b[39mnot\u001b[39;00m \u001b[39mNone\u001b[39;00m:\n\u001b[1;32m     48\u001b[0m         renderer\u001b[39m.\u001b[39mstart_filter()\n\u001b[0;32m---> 50\u001b[0m     \u001b[39mreturn\u001b[39;00m draw(artist, renderer)\n\u001b[1;32m     51\u001b[0m \u001b[39mfinally\u001b[39;00m:\n\u001b[1;32m     52\u001b[0m     \u001b[39mif\u001b[39;00m artist\u001b[39m.\u001b[39mget_agg_filter() \u001b[39mis\u001b[39;00m \u001b[39mnot\u001b[39;00m \u001b[39mNone\u001b[39;00m:\n",
      "File \u001b[0;32m~/anaconda3/envs/CDS_book/lib/python3.10/site-packages/matplotlib/text.py:685\u001b[0m, in \u001b[0;36mText.draw\u001b[0;34m(self, renderer)\u001b[0m\n\u001b[1;32m    682\u001b[0m renderer\u001b[39m.\u001b[39mopen_group(\u001b[39m'\u001b[39m\u001b[39mtext\u001b[39m\u001b[39m'\u001b[39m, \u001b[39mself\u001b[39m\u001b[39m.\u001b[39mget_gid())\n\u001b[1;32m    684\u001b[0m \u001b[39mwith\u001b[39;00m \u001b[39mself\u001b[39m\u001b[39m.\u001b[39m_cm_set(text\u001b[39m=\u001b[39m\u001b[39mself\u001b[39m\u001b[39m.\u001b[39m_get_wrapped_text()):\n\u001b[0;32m--> 685\u001b[0m     bbox, info, descent \u001b[39m=\u001b[39m \u001b[39mself\u001b[39;49m\u001b[39m.\u001b[39;49m_get_layout(renderer)\n\u001b[1;32m    686\u001b[0m     trans \u001b[39m=\u001b[39m \u001b[39mself\u001b[39m\u001b[39m.\u001b[39mget_transform()\n\u001b[1;32m    688\u001b[0m     \u001b[39m# don't use self.get_position here, which refers to text\u001b[39;00m\n\u001b[1;32m    689\u001b[0m     \u001b[39m# position in Text:\u001b[39;00m\n",
      "File \u001b[0;32m~/anaconda3/envs/CDS_book/lib/python3.10/site-packages/matplotlib/text.py:317\u001b[0m, in \u001b[0;36mText._get_layout\u001b[0;34m(self, renderer)\u001b[0m\n\u001b[1;32m    315\u001b[0m clean_line, ismath \u001b[39m=\u001b[39m \u001b[39mself\u001b[39m\u001b[39m.\u001b[39m_preprocess_math(line)\n\u001b[1;32m    316\u001b[0m \u001b[39mif\u001b[39;00m clean_line:\n\u001b[0;32m--> 317\u001b[0m     w, h, d \u001b[39m=\u001b[39m renderer\u001b[39m.\u001b[39;49mget_text_width_height_descent(\n\u001b[1;32m    318\u001b[0m         clean_line, \u001b[39mself\u001b[39;49m\u001b[39m.\u001b[39;49m_fontproperties, ismath\u001b[39m=\u001b[39;49mismath)\n\u001b[1;32m    319\u001b[0m \u001b[39melse\u001b[39;00m:\n\u001b[1;32m    320\u001b[0m     w \u001b[39m=\u001b[39m h \u001b[39m=\u001b[39m d \u001b[39m=\u001b[39m \u001b[39m0\u001b[39m\n",
      "File \u001b[0;32m~/anaconda3/envs/CDS_book/lib/python3.10/site-packages/matplotlib/backends/backend_agg.py:265\u001b[0m, in \u001b[0;36mRendererAgg.get_text_width_height_descent\u001b[0;34m(self, s, prop, ismath)\u001b[0m\n\u001b[1;32m    261\u001b[0m     \u001b[39mreturn\u001b[39;00m w, h, d\n\u001b[1;32m    263\u001b[0m \u001b[39mif\u001b[39;00m ismath:\n\u001b[1;32m    264\u001b[0m     ox, oy, width, height, descent, fonts, used_characters \u001b[39m=\u001b[39m \\\n\u001b[0;32m--> 265\u001b[0m         \u001b[39mself\u001b[39;49m\u001b[39m.\u001b[39;49mmathtext_parser\u001b[39m.\u001b[39;49mparse(s, \u001b[39mself\u001b[39;49m\u001b[39m.\u001b[39;49mdpi, prop)\n\u001b[1;32m    266\u001b[0m     \u001b[39mreturn\u001b[39;00m width, height, descent\n\u001b[1;32m    268\u001b[0m flags \u001b[39m=\u001b[39m get_hinting_flag()\n",
      "File \u001b[0;32m~/anaconda3/envs/CDS_book/lib/python3.10/site-packages/matplotlib/mathtext.py:435\u001b[0m, in \u001b[0;36mMathTextParser.parse\u001b[0;34m(self, s, dpi, prop, _force_standard_ps_fonts)\u001b[0m\n\u001b[1;32m    420\u001b[0m     _api\u001b[39m.\u001b[39mwarn_deprecated(\n\u001b[1;32m    421\u001b[0m         \u001b[39m\"\u001b[39m\u001b[39m3.4\u001b[39m\u001b[39m\"\u001b[39m,\n\u001b[1;32m    422\u001b[0m         removal\u001b[39m=\u001b[39m\u001b[39m\"\u001b[39m\u001b[39m3.5\u001b[39m\u001b[39m\"\u001b[39m,\n\u001b[0;32m   (...)\u001b[0m\n\u001b[1;32m    429\u001b[0m         )\n\u001b[1;32m    430\u001b[0m     )\n\u001b[1;32m    432\u001b[0m \u001b[39m# lru_cache can't decorate parse() directly because the ps.useafm and\u001b[39;00m\n\u001b[1;32m    433\u001b[0m \u001b[39m# mathtext.fontset rcParams also affect the parse (e.g. by affecting\u001b[39;00m\n\u001b[1;32m    434\u001b[0m \u001b[39m# the glyph metrics).\u001b[39;00m\n\u001b[0;32m--> 435\u001b[0m \u001b[39mreturn\u001b[39;00m \u001b[39mself\u001b[39;49m\u001b[39m.\u001b[39;49m_parse_cached(s, dpi, prop, _force_standard_ps_fonts)\n",
      "File \u001b[0;32m~/anaconda3/envs/CDS_book/lib/python3.10/site-packages/matplotlib/mathtext.py:456\u001b[0m, in \u001b[0;36mMathTextParser._parse_cached\u001b[0;34m(self, s, dpi, prop, force_standard_ps_fonts)\u001b[0m\n\u001b[1;32m    453\u001b[0m \u001b[39mif\u001b[39;00m \u001b[39mself\u001b[39m\u001b[39m.\u001b[39m_parser \u001b[39mis\u001b[39;00m \u001b[39mNone\u001b[39;00m:\n\u001b[1;32m    454\u001b[0m     \u001b[39mself\u001b[39m\u001b[39m.\u001b[39m\u001b[39m__class__\u001b[39m\u001b[39m.\u001b[39m_parser \u001b[39m=\u001b[39m _mathtext\u001b[39m.\u001b[39mParser()\n\u001b[0;32m--> 456\u001b[0m box \u001b[39m=\u001b[39m \u001b[39mself\u001b[39;49m\u001b[39m.\u001b[39;49m_parser\u001b[39m.\u001b[39;49mparse(s, font_output, fontsize, dpi)\n\u001b[1;32m    457\u001b[0m font_output\u001b[39m.\u001b[39mset_canvas_size(box\u001b[39m.\u001b[39mwidth, box\u001b[39m.\u001b[39mheight, box\u001b[39m.\u001b[39mdepth)\n\u001b[1;32m    458\u001b[0m \u001b[39mreturn\u001b[39;00m font_output\u001b[39m.\u001b[39mget_results(box)\n",
      "File \u001b[0;32m~/anaconda3/envs/CDS_book/lib/python3.10/site-packages/matplotlib/_mathtext.py:2239\u001b[0m, in \u001b[0;36mParser.parse\u001b[0;34m(self, s, fonts_object, fontsize, dpi)\u001b[0m\n\u001b[1;32m   2237\u001b[0m     result \u001b[39m=\u001b[39m \u001b[39mself\u001b[39m\u001b[39m.\u001b[39m_expression\u001b[39m.\u001b[39mparseString(s)\n\u001b[1;32m   2238\u001b[0m \u001b[39mexcept\u001b[39;00m ParseBaseException \u001b[39mas\u001b[39;00m err:\n\u001b[0;32m-> 2239\u001b[0m     \u001b[39mraise\u001b[39;00m \u001b[39mValueError\u001b[39;00m(\u001b[39m\"\u001b[39m\u001b[39m\\n\u001b[39;00m\u001b[39m\"\u001b[39m\u001b[39m.\u001b[39mjoin([\u001b[39m\"\u001b[39m\u001b[39m\"\u001b[39m,\n\u001b[1;32m   2240\u001b[0m                                 err\u001b[39m.\u001b[39mline,\n\u001b[1;32m   2241\u001b[0m                                 \u001b[39m\"\u001b[39m\u001b[39m \u001b[39m\u001b[39m\"\u001b[39m \u001b[39m*\u001b[39m (err\u001b[39m.\u001b[39mcolumn \u001b[39m-\u001b[39m \u001b[39m1\u001b[39m) \u001b[39m+\u001b[39m \u001b[39m\"\u001b[39m\u001b[39m^\u001b[39m\u001b[39m\"\u001b[39m,\n\u001b[1;32m   2242\u001b[0m                                 \u001b[39mstr\u001b[39m(err)])) \u001b[39mfrom\u001b[39;00m \u001b[39merr\u001b[39;00m\n\u001b[1;32m   2243\u001b[0m \u001b[39mself\u001b[39m\u001b[39m.\u001b[39m_state_stack \u001b[39m=\u001b[39m \u001b[39mNone\u001b[39;00m\n\u001b[1;32m   2244\u001b[0m \u001b[39mself\u001b[39m\u001b[39m.\u001b[39m_em_width_cache \u001b[39m=\u001b[39m {}\n",
      "\u001b[0;31mValueError\u001b[0m: \n\\textrm{CO}_2\n^\nUnknown symbol: \\textrm, found '\\'  (at char 0), (line:1, col:1)"
     ]
    },
    {
     "data": {
      "text/plain": [
       "<Figure size 720x720 with 3 Axes>"
      ]
     },
     "metadata": {
      "needs_background": "light"
     },
     "output_type": "display_data"
    }
   ],
   "source": [
    "fig, ax  = plt.subplots(3,1, figsize = (10,10))\n",
    "fig.subplots_adjust(hspace=0.4)\n",
    "dur_cycle = cycler(color =[colours.durham.ink, colours.durham.purple,\n",
    "    colours.durham.red]\n",
    "    )\n",
    "\n",
    "for i, model_ in enumerate([train, val, test]):\n",
    "    #Formatting\n",
    "    \n",
    "    ax[i].set_xlabel('Years')\n",
    "    ax[i].set_ylabel(r'$\\textrm{CO}_2$ (ppm)')\n",
    "    ax[i].set_prop_cycle(dur_cycle)\n",
    "    #Data\n",
    "    ax[i].plot(model_.x, model_.fit_data(), label = model_.name)\n",
    "    ax[i].errorbar(model_.x, model_.y, model_.sigma, linestyle = '')\n",
    "    ax[i].legend()\n",
    "ax[1].set_xticks([2018, 2019, 2020])\n",
    "ax[2].set_xticks([2020,2021,2021]);\n"
   ]
  },
  {
   "cell_type": "markdown",
   "metadata": {},
   "source": [
    "## Discussion\n",
    "\n",
    "The linear-regression model developed in the previous section does not account for any global effects that vary the average behaviour of the $\\textrm{CO}_2$ concentration in the previous section. When using the $\\chi^2$ statistic, this returns very poor fits over many years due to significant variances, exemplified by the 90s. However, a small window representing the general overall trend without high variance, like the period of 2018 and 2019, can present a good fit. Towards the end of the year 2021, the residuals of the data points are all negative. This could be the presence of Covid-19; however, the residuals are similar in size to the uncertainty, resulting in the high $\\chi^2$ value. \n",
    "\n",
    "More can be read about using the $\\textrm{CO}_2$ concentration in the atmosphere to detect the [pandemic](https://gml.noaa.gov/ccgg/covid2.html). \n",
    "```{note}\n",
    "The TLDR of the article from the NOAA, is that global $\\textrm{CO}_2$ concentrations are buffered by release from the ocean and that fires in the southern hemisphere, could have offset the $\\textrm{CO}_2$ emission decrease. \n",
    "```\n"
   ]
  }
 ],
 "metadata": {
  "celltoolbar": "Tags",
  "kernelspec": {
   "display_name": "Python [conda env:CDS_310] *",
   "language": "python",
   "name": "conda-env-CDS_310-py"
  },
  "language_info": {
   "codemirror_mode": {
    "name": "ipython",
    "version": 3
   },
   "file_extension": ".py",
   "mimetype": "text/x-python",
   "name": "python",
   "nbconvert_exporter": "python",
   "pygments_lexer": "ipython3",
   "version": "3.10.5"
  },
  "vscode": {
   "interpreter": {
    "hash": "a46088b7c0406c06689d7e07885ac5c738a91551ff07af49abda945581724aff"
   }
  }
 },
 "nbformat": 4,
 "nbformat_minor": 2
}
