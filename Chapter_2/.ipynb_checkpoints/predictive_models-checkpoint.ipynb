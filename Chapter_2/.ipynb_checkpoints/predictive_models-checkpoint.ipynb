{
 "cells": [
  {
   "cell_type": "markdown",
   "metadata": {},
   "source": [
    "# Predictive Modeling \n",
    "One of the critical uses of data recorded in the past is to attempt to make inferences about the future. Making predictions about future events on time series data can be done by forming a model on historical data.\n",
    "\n",
    "An introductory example of the general methodology of data-driven predictions using partitioning data into; training, validation and testing sections is explored. These sections are used as follows; the data is used to derive a model from the training data. Next, this model is tested on available validation data. Finally, the model is applied to the testing data to predict its behaviour. \n",
    "\n",
    "A straightforward example of predictive modelling using linear regression is taken from the previous section and walked through. The question is to test if there is an observable drop-in $\\textrm{CO}_2$ from the pandemic. In the previous section, a model was derived using least-squares regression and Fourier series of the form eq.{eq}`model`. In this example, the free co-efficient of the model will be discerned from the period from 1980 up to 2018. This period gives a large window to learn from to avoid lacking generalisation while also providing a good fit with the validation window of $2018, 2019$. \n",
    "\n",
    "When performing any supervised prediction task, a training data set is selected. A training set is data in which the independent and dependent variables are known. In such an example, the form of the predicted quantity is slightly obscured, ie the occurrence of an anomaly. However, the modelling of $\\textrm{CO}_2$ concentration, $\\textrm{CO}_2$ concentration and time are the dependent and independent variables, respectively. The model is then built from this data. For linear regression, this constitutes determining the form of the function and evaluating the free coefficients.\n",
    "\n",
    "Using this model, the validation data is then investigated. This must not overlap with the training data. In the global $\\textrm{CO}_2$ data, using the years $2018, 2019$ provides a period as similar as possible to the test window $2020, 2021$ asides from the pandemic anomaly being tested for. The quality of the model is then assessed on the validation data. Because the actual value of the validation data is known(There were no pandemics), the model's efficacy can be assessed here using the $\\chi^2$ metric. \n",
    "\n",
    "If the model's behaviour on the validation set is satisfactory. Then the model can be used to investigate the test case. If there was a significant deviation from eq.{eq}`model` in 2020, then the presence of the pandemic can be shown. \n",
    "\n"
   ]
  },
  {
   "cell_type": "code",
   "execution_count": 1,
   "metadata": {
    "tags": [
     "remove-input"
    ]
   },
   "outputs": [],
   "source": [
    "import pandas as pd\n",
    "import scipy.optimize\n",
    "import numpy as np\n",
    "import matplotlib.pyplot as plt\n",
    "import pandas as pd\n",
    "from dur_utils import colours\n",
    "from scipy import stats\n",
    "from matplotlib import cycler\n",
    "\n",
    "path_ml =  'https://gml.noaa.gov/webdata/ccgg/trends/co2/co2_mm_mlo.csv'              \n",
    "co2_data_ml = pd.read_csv(path_ml, header=0, comment='#')\n",
    "co2_data_ml = co2_data_ml[co2_data_ml['sdev']>0] "
   ]
  },
  {
   "cell_type": "code",
   "execution_count": 2,
   "metadata": {
    "tags": [
     "hide-input"
    ]
   },
   "outputs": [],
   "source": [
    "# Training Set\n",
    "test_years = [i for i in range(1980, 2020)]\n",
    "mask = np.isin(co2_data_ml['year'], test_years)\n",
    "train_co2_data = co2_data_ml.iloc[mask]\n",
    "# Validation Set\n",
    "val_years = [i for i in range(2018, 2020)]\n",
    "mask = np.isin(co2_data_ml['year'], val_years)\n",
    "val_co2_data = co2_data_ml.iloc[mask]\n",
    "# Test Set\n",
    "test_years = [i for i in range(2020, 2021)]\n",
    "mask = np.isin(co2_data_ml['year'], test_years)\n",
    "test_co2_data = co2_data_ml.iloc[mask]"
   ]
  },
  {
   "cell_type": "code",
   "execution_count": 3,
   "metadata": {
    "tags": [
     "hide-input"
    ]
   },
   "outputs": [],
   "source": [
    "\n",
    "def model(x, a_0, a_1, omega_0, omega_1, c, p_1,p_2,p_3):\n",
    "    polynomial = x*p_1 + x**2*p_2 +x**3*p_3\n",
    "    trig = a_0*np.cos((x + 1/2)*2*np.pi*omega_0) \\\n",
    "        + a_1*np.cos((x + 1/2)*2*np.pi*omega_1)\n",
    "    return c + trig + polynomial\n",
    "\n",
    "model_fit, model_error = scipy.optimize.curve_fit(model,\n",
    "    co2_data_ml['decimal date'],\n",
    "    co2_data_ml['average'],\n",
    "    sigma = co2_data_ml['sdev'],\n",
    "    p0=[5,5,1,2,0,0,0,0] # Inital Parameter Guess\n",
    "    )\n",
    "#chisq\n",
    "model_ml = model(co2_data_ml['decimal date'], *model_fit)\n",
    "model_residuals = model_ml - co2_data_ml['average']\n",
    "chisq_model = np.sum((model_residuals\n",
    "    / co2_data_ml['sdev'])**2\n",
    "    )\n",
    "nu_model = co2_data_ml['average'].shape[0] - len(model_fit)\n",
    "p_model = stats.chi2.sf(chisq_model,nu_model)\n",
    "chi_crit = stats.chi2.isf(.05,nu_model)\n"
   ]
  },
  {
   "cell_type": "markdown",
   "metadata": {},
   "source": [
    "```{margin} Classes\n",
    "[Classes](https://docs.python.org/3/tutorial/classes.html) are the staple of Object oriented programming(OOP). They are something you can call which has methods and atributes. Methods are functions of the object. Atributes are values stored inside the class. A good example of a class is a list. It has multiple functions like `__len__()` which returns the instance of the classes length. Where the instance is the specific class a list of `[1, 2, 3]` for example. The atributes of the list are its values. When implementing a class it is considered good practice to only have users interact with methods. Chapter 10 of [Python Programming: An introduction to Computer Science](https://www.google.co.uk/books/edition/Python_Programming/) covers Classes well. However, there are many guides online to their implementation. \n",
    "```"
   ]
  },
  {
   "cell_type": "code",
   "execution_count": 4,
   "metadata": {
    "tags": [
     "hide-input"
    ]
   },
   "outputs": [],
   "source": [
    "class FittedModel:\n",
    "    def __init__(self, fn, x, y, sigma=None,\n",
    "        p0=None, name=None, fit_coefs=None\n",
    "        ):\n",
    "        self.fn  = fn\n",
    "        self.x = x\n",
    "        self.y = y\n",
    "        self.sigma = sigma\n",
    "        self.p0 = p0\n",
    "        self.name = name\n",
    "        if fit_coefs:\n",
    "            self.fit_coefs, self.fit_errs = fit_coefs\n",
    "            self.fit_errs = None \n",
    "        else:\n",
    "            self.fit_coefs , self.fit_errs = self.get_fit()\n",
    "    \n",
    "    def get_fit(self):\n",
    "        '''Applies scipy.optimize.curve_fit() to the passed args.\n",
    "\n",
    "        returns fit_coefs array, correlation_array  \n",
    "        '''\n",
    "        model_fit, model_error = scipy.optimize.curve_fit(self.fn,\n",
    "            self.x,\n",
    "            self.y,\n",
    "            sigma=self.sigma,\n",
    "            p0=self.p0\n",
    "            )\n",
    "        return model_fit, model_error\n",
    "    \n",
    "    def fit_data(self):\n",
    "        '''Returns the fitted function evaluated on x'''\n",
    "        return self.fn(self.x, *self.fit_coefs)\n",
    "    \n",
    "    def get_chi2(self)-> int:\n",
    "        '''Returns the chi^2 value of the model'''\n",
    "        fit = self.fit_data()\n",
    "        residuals = fit - self.y\n",
    "        if self.sigma is not None:\n",
    "            chi2 = np.sum((residuals / self.sigma)**2)\n",
    "        else:\n",
    "            print('No Uncertanity, Using Expectation')\n",
    "            print('Expectation of the values is: E(residuals)') \n",
    "            chi2 = np.sum((residuals / np.mean(residuals))**2)\n",
    "        return chi2\n",
    "\n",
    "    def get_nu(self)-> int:\n",
    "        '''Returns the degrees of freedom of the model'''\n",
    "        return len(self.x) - len(self.fit_coefs)\n",
    "    \n",
    "    def get_sf(self) -> int:\n",
    "        '''Returns P(chi^2 > chi^2_min)'''\n",
    "        chi_min = self.get_chi2()\n",
    "        nu = self.get_nu()\n",
    "        return scipy.stats.chi2.sf(chi_min, nu)\n",
    "    \n",
    "    def print_errors(self):\n",
    "        'Prints the models co-efficient\\'s associated errors '\n",
    "        diagonal = np.diagonal(self.fit_errs)\n",
    "        for i, (value, error) in enumerate(zip(self.fit_coefs,diagonal)):\n",
    "            if error:\n",
    "                print(f'= {i + 1} = {value:.2} +_ {error:.1}')\n",
    "            else:\n",
    "                print('No error. The model was fitted on other Data')"
   ]
  },
  {
   "cell_type": "code",
   "execution_count": 5,
   "metadata": {},
   "outputs": [],
   "source": [
    "train  = FittedModel(model,\n",
    "    train_co2_data['decimal date'],\n",
    "    train_co2_data['average'],\n",
    "    sigma=train_co2_data['sdev'],\n",
    "    p0=[5,5,1,2,0,0,0,0],\n",
    "    name = 'Training Model'\n",
    "    )\n",
    "test  = FittedModel(model,\n",
    "    test_co2_data['decimal date'],\n",
    "    test_co2_data['average'],\n",
    "    sigma=test_co2_data['sdev'],\n",
    "    name = 'Test Model', \n",
    "    fit_coefs= train.get_fit()\n",
    "    )\n",
    "val  = FittedModel(model,\n",
    "    val_co2_data['decimal date'],\n",
    "    val_co2_data['average'],\n",
    "    sigma=val_co2_data['sdev'],\n",
    "    name = 'Validation Model',\n",
    "    fit_coefs= train.get_fit()\n",
    "    )"
   ]
  },
  {
   "cell_type": "code",
   "execution_count": 6,
   "metadata": {
    "tags": [
     "hide-input"
    ]
   },
   "outputs": [
    {
     "name": "stdout",
     "output_type": "stream",
     "text": [
      "Training Model Co-efficients\n",
      "= 1 = 2.9 +_ 0.002\n",
      "= 2 = 0.82 +_ 0.002\n",
      "= 3 = 1.0 +_ 1e-12\n",
      "= 4 = 2.0 +_ 2e-11\n",
      "= 5 = -2e+06 +_ 3e+10\n",
      "= 6 = 3.1e+03 +_ 7e+04\n",
      "= 7 = -1.5 +_ 0.02\n",
      "= 8 = 0.00026 +_ 5e-10\n"
     ]
    }
   ],
   "source": [
    "print('Training Model Co-efficients')\n",
    "train.print_errors()"
   ]
  },
  {
   "cell_type": "code",
   "execution_count": 7,
   "metadata": {
    "tags": [
     "hide-input"
    ]
   },
   "outputs": [
    {
     "name": "stdout",
     "output_type": "stream",
     "text": [
      "Training Model\n",
      "chi^2 = 1.005e+03\n",
      "chi^2/nu = 2.134\n",
      "P(chi^2 > chi^2_min) = 7.967e-41\n",
      "\n",
      "Validation Model\n",
      "chi^2 = 13.64\n",
      "chi^2/nu = 0.8522\n",
      "P(chi^2 > chi^2_min) = 0.6259\n",
      "\n",
      "Test Model\n",
      "chi^2 = 9.24\n",
      "chi^2/nu = 2.31\n",
      "P(chi^2 > chi^2_min) = 0.05537\n",
      "\n"
     ]
    }
   ],
   "source": [
    "for model_ in [train, val, test]:\n",
    "    print(model_.name)\n",
    "    print(f'chi^2 = {model_.get_chi2():.4}')\n",
    "    print(f'chi^2/nu = {model_.get_chi2()/model_.get_nu():.4}')\n",
    "    print(f'P(chi^2 > chi^2_min) = {model_.get_sf():.4}')\n",
    "    print('')"
   ]
  },
  {
   "cell_type": "markdown",
   "metadata": {},
   "source": [
    "## Results\n",
    "The output $\\chi^2$ statistics for the training model are to be desired, with a very low probability that the model demonstrates a good fit. However, This is not particularly important for the current test. Inspecting the performance of the model on the validation period, the model provides a good fit. This is exemplified by the $P(\\chi^2 \\geq \\chi^2_{min};\\nu) = 0.63$, well inside a significance level of 5 percent. This strong agreement between the validation data and the model suggests that the model is extended into the testing regime. \n",
    "\n",
    "In the testing regime, the $P(\\chi^2 \\geq \\chi^2_{min};\\nu) = 0.055$. This $P$ value indicates that approximately 5% of the time, the random variable normalised residuals would be distributed in such a manner. This extrapolation is pushing the bounds of the model. In this case, there is insufficient evidence to say that there has been a noticeable downwards trend in $\\textrm{CO}_2$ production over the year $2020$. "
   ]
  },
  {
   "cell_type": "code",
   "execution_count": 8,
   "metadata": {
    "tags": [
     "hide-input"
    ]
   },
   "outputs": [
    {
     "data": {
      "image/png": "[encoded data removed]",
      "text/plain": [
       "<Figure size 720x720 with 3 Axes>"
      ]
     },
     "metadata": {
      "needs_background": "light"
     },
     "output_type": "display_data"
    }
   ],
   "source": [
    "fig, ax  = plt.subplots(3,1, figsize = (10,10))\n",
    "dur_cycle = cycler(color =[colours.durham.ink, colours.durham.purple,\n",
    "    colours.durham.red]\n",
    "    )\n",
    "\n",
    "for i, model_ in enumerate([train, val, test]):\n",
    "    #Formatting\n",
    "    \n",
    "    ax[i].set_xlabel('Years')\n",
    "    ax[i].set_ylabel(r'$\\textrm{CO}_2$ (ppm)')\n",
    "    ax[i].set_prop_cycle(dur_cycle)\n",
    "    #Data\n",
    "    ax[i].plot(model_.x, model_.fit_data(), label = model_.name)\n",
    "    ax[i].errorbar(model_.x, model_.y, model_.sigma, linestyle = '')\n",
    "    ax[i].legend()\n",
    "ax[1].set_xticks([2018, 2019, 2020])\n",
    "ax[2].set_xticks([2020,2021,2021]);\n"
   ]
  },
  {
   "cell_type": "markdown",
   "metadata": {},
   "source": [
    "## Discussion\n",
    "\n",
    "The linear-regression model developed in the previous section does not account for any global effects that vary the average behaviour of the $\\textrm{CO}_2$ concentration in the previous section. When using the $\\chi^2$ statistic, this returns very poor fits over many years due to significant variances, exemplified by the 90s. However, a small window representing the general overall trend without high variance, like the period of 2018 and 2019, can present a good fit. Towards the end of the year 2021, the residuals of the data points are all negative. This could be the presence of Covid-19; however, the residuals are similar in size to the uncertainty, resulting in the high $\\chi^2$ value. \n",
    "\n",
    "More can be read about using the $\\textrm{CO}_2$ concentration in the atmosphere to detect the [pandemic](https://gml.noaa.gov/ccgg/covid2.html). \n",
    "```{note}\n",
    "The TLDR of the article from the NOAA, is that global $\\textrm{CO}_2$ concentrations are buffered by release from the ocean and that fires in the southern hemisphere, could have offset the $\\textrm{CO}_2$ emission decrease. \n",
    "```\n"
   ]
  }
 ],
 "metadata": {
  "celltoolbar": "Tags",
  "kernelspec": {
   "display_name": "Python 3 (ipykernel)",
   "language": "python",
   "name": "python3"
  },
  "language_info": {
   "codemirror_mode": {
    "name": "ipython",
    "version": 3
   },
   "file_extension": ".py",
   "mimetype": "text/x-python",
   "name": "python",
   "nbconvert_exporter": "python",
   "pygments_lexer": "ipython3",
   "version": "3.9.12"
  },
  "vscode": {
   "interpreter": {
    "hash": "a46088b7c0406c06689d7e07885ac5c738a91551ff07af49abda945581724aff"
   }
  }
 },
 "nbformat": 4,
 "nbformat_minor": 2
}
