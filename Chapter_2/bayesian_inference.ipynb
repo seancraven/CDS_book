{
 "cells": [
  {
   "cell_type": "markdown",
   "metadata": {},
   "source": [
    "## Using Bayesian Inference to Determine $S$ Left as Work in progress\n",
    "Bayes' theorem describes a systematic fashion to update one's beliefs. It explains how independent evidence updates the probability of a given outcome. Bayesian inference is the process in which data is used as the evidence to update the parameters of a model. Inference in this manner also provides a distribution of likelihoods of the model parameter to be estimated.\n",
    "\n",
    "The Bayesian framework is structured differently, to classical statistics in that it describes an estimate of a state of knowledge, rather than a relative frequency of outcomes. Bayes' Rule is given as follows \n",
    "```{math}\n",
    "P(A|B) = \\frac{P(B|A) P(A)}{P(B)} = \\frac{P(B|A) P(A)}{\\sum_k P(B|K) P(K)}.\n",
    "```\n",
    "$P(A|B)$ is the probability of $A$ occurring given $B$. Where $A, B$ are random variables with some associated distribution. $P(A|B)$ can be considered the intersection over a subspace of outcomes and is defined in that manner\n",
    "```{math}\n",
    "P(A|B) = \\frac{P(A \\cap B)}{P(B)}.\n",
    "```\n",
    "By noting that $P(A \\cap B) = P(B \\cap A)$, one can show Bayes' rule, which is left as an exercise. \n",
    "\n",
    "If the two random variables are continuous and share a joint distribution $f_{A,B}(x,y)$ the Bayes' rule can be described as follows \n",
    "```{math}\n",
    "f_{A|B}(x|y) = \\frac{ f_{B|A}(y|x) f_A(x)} {\\int_{-\\infty}^{\\infty} f_{B|A}(y|u) f_A(u) du}\n",
    "```\n",
    "This formulation is preferable going forward. \n",
    "```{tip}\n",
    "Basic probability theory is covered well in [Mathmatical Methods for Physics and Engineering](https://www.cambridge.org/core/books/abs/mathematical-methods-for-physics-and-engineering/probability/48318E242E4E8B0C0F4B8628ECFF0A44){cite}`RHB_stats`, if this feels unfamiliar.  \n",
    "```\n",
    "\n",
    "It might not be apparent how random variables are associated with measurement, however when one takes a measurement this is just sampeling a parent distribution of a random variable. By virtue of sampeling a random variable described by a PDF. The valued of the samples are generally normally distributed, around the mean of the parent distribution, due to the central limit theorem(CLT). However, there are some cases where CLT does not hold, when the parent distribution from which the sample is taken lacks a well-defined mean and standard deviation, or the random variables are not independent. A brief and functional treatment can be found in {cite}`Hughes_Hase`. "
   ]
  },
  {
   "cell_type": "markdown",
   "metadata": {},
   "source": [
    "## Bayesian Inference \n",
    "\n",
    "In the least-squares framework of line fitting a straight line, there is a solution to a set of simultaneous equations which minimizes the squared residuals. The value of these residuals can then be assessed with the $\\chi^2$ metric, which enables one to assign a probability that such a set of residuals occur randomly and thus decide if the model is suitable.\n",
    "\n",
    "Conversely, the Bayesian framework produces a PDF or PMF of the best-fit parameters. "
   ]
  },
  {
   "cell_type": "code",
   "execution_count": 1,
   "metadata": {},
   "outputs": [
    {
     "ename": "ModuleNotFoundError",
     "evalue": "No module named 'dur_utils'",
     "output_type": "error",
     "traceback": [
      "\u001b[0;31m---------------------------------------------------------------------------\u001b[0m",
      "\u001b[0;31mModuleNotFoundError\u001b[0m                       Traceback (most recent call last)",
      "\u001b[1;32m/home/sean/Documents/Work/CDS_book/Chapter_2/bayesian_inference.ipynb Cell 3\u001b[0m in \u001b[0;36m<cell line: 4>\u001b[0;34m()\u001b[0m\n\u001b[1;32m      <a href='vscode-notebook-cell:/home/sean/Documents/Work/CDS_book/Chapter_2/bayesian_inference.ipynb#ch0000002?line=1'>2</a>\u001b[0m \u001b[39mimport\u001b[39;00m \u001b[39mnumpy\u001b[39;00m \u001b[39mas\u001b[39;00m \u001b[39mnp\u001b[39;00m\n\u001b[1;32m      <a href='vscode-notebook-cell:/home/sean/Documents/Work/CDS_book/Chapter_2/bayesian_inference.ipynb#ch0000002?line=2'>3</a>\u001b[0m \u001b[39mimport\u001b[39;00m \u001b[39mmatplotlib\u001b[39;00m\u001b[39m.\u001b[39;00m\u001b[39mpyplot\u001b[39;00m \u001b[39mas\u001b[39;00m \u001b[39mplt\u001b[39;00m\n\u001b[0;32m----> <a href='vscode-notebook-cell:/home/sean/Documents/Work/CDS_book/Chapter_2/bayesian_inference.ipynb#ch0000002?line=3'>4</a>\u001b[0m \u001b[39mfrom\u001b[39;00m \u001b[39mdur_utils\u001b[39;00m \u001b[39mimport\u001b[39;00m colours\n\u001b[1;32m      <a href='vscode-notebook-cell:/home/sean/Documents/Work/CDS_book/Chapter_2/bayesian_inference.ipynb#ch0000002?line=4'>5</a>\u001b[0m \u001b[39mfrom\u001b[39;00m \u001b[39mscipy\u001b[39;00m\u001b[39m.\u001b[39;00m\u001b[39moptimize\u001b[39;00m \u001b[39mimport\u001b[39;00m curve_fit\n\u001b[1;32m      <a href='vscode-notebook-cell:/home/sean/Documents/Work/CDS_book/Chapter_2/bayesian_inference.ipynb#ch0000002?line=5'>6</a>\u001b[0m \u001b[39mfrom\u001b[39;00m \u001b[39mscipy\u001b[39;00m \u001b[39mimport\u001b[39;00m stats\n",
      "\u001b[0;31mModuleNotFoundError\u001b[0m: No module named 'dur_utils'"
     ]
    }
   ],
   "source": [
    "import pandas as pd\n",
    "import numpy as np\n",
    "import matplotlib.pyplot as plt\n",
    "from dur_utils import colours\n",
    "from scipy.optimize import curve_fit\n",
    "from scipy import stats\n",
    "import matplotlib as mpl\n",
    "mpl.style.use('../matplotlibrc')"
   ]
  },
  {
   "cell_type": "markdown",
   "metadata": {},
   "source": [
    "On the previous [page](Chapter_2/3models.ipynb), 3 $\\textrm{CO}_2$ concentration pathways were determined. The $\\textrm{CO}_2$ concentration for each pathway is denoted as $C_1, C_2, C_3$ for A1B, A1T and B1, respectively. Each of these concentration random variables is additionally a function of time. The PDF for the prediction at time $t$  for each scenario is  \n",
    "$$\n",
    "f_{C_i(t)}(c) =  \\exp(\\frac{(c-\\bar{c}(t))^2}{2\\cdot \\sigma_c(t)^2}), \\textrm{for} i = 1, 2, 3.\n",
    "$$\n",
    "Where $\\bar{c}(t)$ is the predicted value of concentration at time $t$, and $\\sigma_c(t)$ is the unctertainty on the fit at that time. Using the dubious assuption that climate sensitivity $S$ and concentration $c$ are independent a joint probability distribution of both quantities can be formed. \n",
    "```{note}\n",
    "The climate sensitivity $S$ is not the random varuable but a value of the random variable. The capitalisation is kept for consitency with the literature{ref}`S20, probabilityofwarming` despite it being confusing. The random variable that governs the value of $s$ is denoted as $\\mathcal{S}$. \n",
    "```\n",
    "Having prevously determined a moving average trend for Temperature, and an associated error, with a function that relates the \n",
    "$$\n",
    "f_{ T, C_i, \\mathcal{S}}(\\Delta T, S, c) = f_{T, C_i(t)}(c)f_{\\mathcal{S}}, \\textrm{for} i = 1, 2, 3.\n",
    "$$\n",
    "In order to calculate the rise in temperature given an emmisions pathway the distribuiton of possible temperatures\n",
    "$$\n",
    "f_{ T|C_i,\\mathcal{S}}(T|S, c) = \n",
    "$$\n"
   ]
  },
  {
   "cell_type": "markdown",
   "metadata": {},
   "source": []
  },
  {
   "cell_type": "code",
   "execution_count": null,
   "metadata": {},
   "outputs": [
    {
     "data": {
      "text/plain": [
       "[<matplotlib.lines.Line2D at 0x7f1ce3c05870>]"
      ]
     },
     "execution_count": 14,
     "metadata": {},
     "output_type": "execute_result"
    },
    {
     "data": {
      "image/png": "[encoded data removed]",
      "text/plain": [
       "<Figure size 432x288 with 1 Axes>"
      ]
     },
     "metadata": {
      "needs_background": "light"
     },
     "output_type": "display_data"
    }
   ],
   "source": [
    "xs = np.linspace(-3, 3, 1000)\n",
    "lam = stats.norm.pdf(xs, loc=-1.3, scale=0.44)\n",
    "del_f = stats.norm.pdf(xs, loc=4.00, scale=0.3)\n",
    "xs_2 = np.linspace(-3, 10, 1999)\n",
    "plt.plot(xs, 1.3/del_f)"
   ]
  },
  {
   "cell_type": "code",
   "execution_count": null,
   "metadata": {},
   "outputs": [],
   "source": []
  }
 ],
 "metadata": {
  "kernelspec": {
   "display_name": "Python 3.10.4 ('CDS_book')",
   "language": "python",
   "name": "python3"
  },
  "language_info": {
   "codemirror_mode": {
    "name": "ipython",
    "version": 3
   },
   "file_extension": ".py",
   "mimetype": "text/x-python",
   "name": "python",
   "nbconvert_exporter": "python",
   "pygments_lexer": "ipython3",
   "version": "3.10.4"
  },
  "orig_nbformat": 4,
  "vscode": {
   "interpreter": {
    "hash": "a46088b7c0406c06689d7e07885ac5c738a91551ff07af49abda945581724aff"
   }
  }
 },
 "nbformat": 4,
 "nbformat_minor": 2
}
