{
 "cells": [
  {
   "cell_type": "markdown",
   "metadata": {},
   "source": [
    "## Implementation of the Three Models\n",
    "The three approximate SRES scenarios chosen will be used to develop Bayesian temperature change prediction. The model eq.{eq}`temp_co2_model`, which relates $\\textrm{CO}_2$ concentration, has a sensitivity parameter $S$. When a fit is performed and the model extended, this parameter has some associated probability distribution, which can be used to infer the probability of temperature changes through Bayes' theorem, \n",
    "```{math}\n",
    "P(\\Delta T) = \\int P(\\Delta T|S) P(S) dS.\n",
    "```\n",
    "A similar process with radiative forcing is described in {ref}`probabilityofwarming`.\n",
    "\n",
    "- A1B) Continued growth in emission Rates.\n",
    "- A1T) Net-zero by 2030, no further reductions. \n",
    "- B1) Net-zero by 2030, and then reducing total atmospheric carbon at the same rate it is currently produced."
   ]
  },
  {
   "cell_type": "code",
   "execution_count": 1,
   "metadata": {},
   "outputs": [],
   "source": [
    "import pandas as pd\n",
    "import numpy as np\n",
    "import matplotlib.pyplot as plt\n",
    "from dur_utils import colours\n",
    "from numpy.lib.stride_tricks import sliding_window_view\n",
    "from scipy.optimize import curve_fit\n",
    "from scipy import stats"
   ]
  },
  {
   "cell_type": "code",
   "execution_count": 2,
   "metadata": {},
   "outputs": [],
   "source": [
    "path = \"http://berkeleyearth.lbl.gov/auto/Global/Complete_TAVG_complete.txt\"\n",
    "#Formatting be data\n",
    "colnames=['year', 'month', 'monthly_anomaly', 'monthly_anomaly_unc',\n",
    "    'yearly_anomaly', 'yearly_anomaly_unc', '5yearly_anomaly',\n",
    "    '5yearly_anomaly_unc', '10yearly_anomaly', '10yearly_anomaly_unc',\n",
    "    '20yearly_anomaly', '20yearly_anomaly_unc'\n",
    "    ]\n",
    "temp_data = pd.read_fwf(path, skiprows=34, names=colnames)\n",
    "temp_data['dt'] = temp_data['month']/12 + temp_data['year']\n",
    "#remove be moving averages\n",
    "temp_data.drop( columns=['yearly_anomaly', 'yearly_anomaly_unc',\n",
    "    '5yearly_anomaly', '5yearly_anomaly_unc', '10yearly_anomaly',\n",
    "    '10yearly_anomaly_unc', '20yearly_anomaly', '20yearly_anomaly_unc'],\n",
    "    inplace=True\n",
    "    )"
   ]
  },
  {
   "cell_type": "markdown",
   "metadata": {},
   "source": [
    "## Determining the sensitivity coefficient\n",
    "The functional form of the model \n",
    "```{math} \n",
    ":temp_co2_model:\n",
    "T(C) = T_0 + S \\log_2(C/C_0).\n",
    "```\n",
    "Only has one free parameter. This corresponds to the sensitivity of the model. Because the equation is linear in $\\log(C)$ an analytic solution can be found using the least-squares method.\n",
    "\n",
    "The seasonal trends of the data are not relevant for this form of approximate modelling and as in the previous section a 10 year moving average of the form described on the previous [page](Chapter_2/temp_co2.ipynb). \n"
   ]
  },
  {
   "cell_type": "code",
   "execution_count": 3,
   "metadata": {},
   "outputs": [
    {
     "ename": "SyntaxError",
     "evalue": "invalid syntax (3656058577.py, line 3)",
     "output_type": "error",
     "traceback": [
      "\u001b[0;36m  Input \u001b[0;32mIn [3]\u001b[0;36m\u001b[0m\n\u001b[0;31m    C_0 =\u001b[0m\n\u001b[0m          ^\u001b[0m\n\u001b[0;31mSyntaxError\u001b[0m\u001b[0;31m:\u001b[0m invalid syntax\n"
     ]
    }
   ],
   "source": [
    "def TofC(C: pd.DataFrame, S: int, C_0, T_0) -> pd.DataFrame:\n",
    "    ''' Model fuction for Temperature and CO_2 relationship.'''\n",
    "     #Placeholder till I figure out what I am going to \n",
    "    return T_0 + np.log2(C/C_0)*S "
   ]
  }
 ],
 "metadata": {
  "kernelspec": {
   "display_name": "Python 3.10.4 ('CDS_book')",
   "language": "python",
   "name": "python3"
  },
  "language_info": {
   "codemirror_mode": {
    "name": "ipython",
    "version": 3
   },
   "file_extension": ".py",
   "mimetype": "text/x-python",
   "name": "python",
   "nbconvert_exporter": "python",
   "pygments_lexer": "ipython3",
   "version": "3.10.4"
  },
  "orig_nbformat": 4,
  "vscode": {
   "interpreter": {
    "hash": "a46088b7c0406c06689d7e07885ac5c738a91551ff07af49abda945581724aff"
   }
  }
 },
 "nbformat": 4,
 "nbformat_minor": 2
}
